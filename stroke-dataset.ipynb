{
  "cells": [
    {
      "cell_type": "markdown",
      "metadata": {
        "id": "1OxbeAy05yB3"
      },
      "source": [
        "# **INTRODUCTION**"
      ]
    },
    {
      "cell_type": "markdown",
      "metadata": {
        "id": "fOqnvukqgl8C"
      },
      "source": [
        "## Problem Statement & Objective"
      ]
    },
    {
      "cell_type": "markdown",
      "metadata": {
        "id": "2ZQBJIH3goyF"
      },
      "source": [
        "Visualisasikan hubungan antara berbagai kebiasaan Sehat dan Tidak Sehat dengan Stroke Jantung, dan dengan demikian memprediksi kemungkinan stroke dengan model terbaik dan parameter yang dihypertuning."
      ]
    },
    {
      "cell_type": "markdown",
      "metadata": {
        "id": "Y_tATc9r53hU"
      },
      "source": [
        "# **IMPORT LIBRARY**"
      ]
    },
    {
      "cell_type": "code",
      "execution_count": 1,
      "metadata": {
        "colab": {
          "base_uri": "https://localhost:8080/"
        },
        "id": "ot3TVFBMQd3J",
        "outputId": "e3aa4e7f-ee31-482d-cf51-dc5a8b793739"
      },
      "outputs": [
        {
          "name": "stdout",
          "output_type": "stream",
          "text": [
            "Requirement already satisfied: feature_engine in /usr/local/lib/python3.10/dist-packages (1.8.0)\n",
            "Requirement already satisfied: numpy>=1.18.2 in /usr/local/lib/python3.10/dist-packages (from feature_engine) (1.25.2)\n",
            "Requirement already satisfied: pandas>=2.2.0 in /usr/local/lib/python3.10/dist-packages (from feature_engine) (2.2.2)\n",
            "Collecting scikit-learn>=1.4.0 (from feature_engine)\n",
            "  Using cached scikit_learn-1.5.1-cp310-cp310-manylinux_2_17_x86_64.manylinux2014_x86_64.whl (13.4 MB)\n",
            "Requirement already satisfied: scipy>=1.4.1 in /usr/local/lib/python3.10/dist-packages (from feature_engine) (1.11.4)\n",
            "Requirement already satisfied: statsmodels>=0.11.1 in /usr/local/lib/python3.10/dist-packages (from feature_engine) (0.14.2)\n",
            "Requirement already satisfied: python-dateutil>=2.8.2 in /usr/local/lib/python3.10/dist-packages (from pandas>=2.2.0->feature_engine) (2.8.2)\n",
            "Requirement already satisfied: pytz>=2020.1 in /usr/local/lib/python3.10/dist-packages (from pandas>=2.2.0->feature_engine) (2023.4)\n",
            "Requirement already satisfied: tzdata>=2022.7 in /usr/local/lib/python3.10/dist-packages (from pandas>=2.2.0->feature_engine) (2024.1)\n",
            "Requirement already satisfied: joblib>=1.2.0 in /usr/local/lib/python3.10/dist-packages (from scikit-learn>=1.4.0->feature_engine) (1.4.2)\n",
            "Requirement already satisfied: threadpoolctl>=3.1.0 in /usr/local/lib/python3.10/dist-packages (from scikit-learn>=1.4.0->feature_engine) (3.5.0)\n",
            "Requirement already satisfied: patsy>=0.5.6 in /usr/local/lib/python3.10/dist-packages (from statsmodels>=0.11.1->feature_engine) (0.5.6)\n",
            "Requirement already satisfied: packaging>=21.3 in /usr/local/lib/python3.10/dist-packages (from statsmodels>=0.11.1->feature_engine) (24.1)\n",
            "Requirement already satisfied: six in /usr/local/lib/python3.10/dist-packages (from patsy>=0.5.6->statsmodels>=0.11.1->feature_engine) (1.16.0)\n",
            "Installing collected packages: scikit-learn\n",
            "  Attempting uninstall: scikit-learn\n",
            "    Found existing installation: scikit-learn 1.2.2\n",
            "    Uninstalling scikit-learn-1.2.2:\n",
            "      Successfully uninstalled scikit-learn-1.2.2\n",
            "Successfully installed scikit-learn-1.5.1\n",
            "Collecting scikit-learn==1.2.2\n",
            "  Using cached scikit_learn-1.2.2-cp310-cp310-manylinux_2_17_x86_64.manylinux2014_x86_64.whl (9.6 MB)\n",
            "Requirement already satisfied: numpy>=1.17.3 in /usr/local/lib/python3.10/dist-packages (from scikit-learn==1.2.2) (1.25.2)\n",
            "Requirement already satisfied: scipy>=1.3.2 in /usr/local/lib/python3.10/dist-packages (from scikit-learn==1.2.2) (1.11.4)\n",
            "Requirement already satisfied: joblib>=1.1.1 in /usr/local/lib/python3.10/dist-packages (from scikit-learn==1.2.2) (1.4.2)\n",
            "Requirement already satisfied: threadpoolctl>=2.0.0 in /usr/local/lib/python3.10/dist-packages (from scikit-learn==1.2.2) (3.5.0)\n",
            "Installing collected packages: scikit-learn\n",
            "  Attempting uninstall: scikit-learn\n",
            "    Found existing installation: scikit-learn 1.5.1\n",
            "    Uninstalling scikit-learn-1.5.1:\n",
            "      Successfully uninstalled scikit-learn-1.5.1\n",
            "\u001b[31mERROR: pip's dependency resolver does not currently take into account all the packages that are installed. This behaviour is the source of the following dependency conflicts.\n",
            "feature-engine 1.8.0 requires scikit-learn>=1.4.0, but you have scikit-learn 1.2.2 which is incompatible.\u001b[0m\u001b[31m\n",
            "\u001b[0mSuccessfully installed scikit-learn-1.2.2\n",
            "Requirement already satisfied: imbalanced-learn==0.9.1 in /usr/local/lib/python3.10/dist-packages (0.9.1)\n",
            "Requirement already satisfied: numpy>=1.17.3 in /usr/local/lib/python3.10/dist-packages (from imbalanced-learn==0.9.1) (1.25.2)\n",
            "Requirement already satisfied: scipy>=1.3.2 in /usr/local/lib/python3.10/dist-packages (from imbalanced-learn==0.9.1) (1.11.4)\n",
            "Requirement already satisfied: scikit-learn>=1.1.0 in /usr/local/lib/python3.10/dist-packages (from imbalanced-learn==0.9.1) (1.2.2)\n",
            "Requirement already satisfied: joblib>=1.0.0 in /usr/local/lib/python3.10/dist-packages (from imbalanced-learn==0.9.1) (1.4.2)\n",
            "Requirement already satisfied: threadpoolctl>=2.0.0 in /usr/local/lib/python3.10/dist-packages (from imbalanced-learn==0.9.1) (3.5.0)\n",
            "Requirement already satisfied: imblearn in /usr/local/lib/python3.10/dist-packages (0.0)\n",
            "Requirement already satisfied: imbalanced-learn in /usr/local/lib/python3.10/dist-packages (from imblearn) (0.9.1)\n",
            "Requirement already satisfied: numpy>=1.17.3 in /usr/local/lib/python3.10/dist-packages (from imbalanced-learn->imblearn) (1.25.2)\n",
            "Requirement already satisfied: scipy>=1.3.2 in /usr/local/lib/python3.10/dist-packages (from imbalanced-learn->imblearn) (1.11.4)\n",
            "Requirement already satisfied: scikit-learn>=1.1.0 in /usr/local/lib/python3.10/dist-packages (from imbalanced-learn->imblearn) (1.2.2)\n",
            "Requirement already satisfied: joblib>=1.0.0 in /usr/local/lib/python3.10/dist-packages (from imbalanced-learn->imblearn) (1.4.2)\n",
            "Requirement already satisfied: threadpoolctl>=2.0.0 in /usr/local/lib/python3.10/dist-packages (from imbalanced-learn->imblearn) (3.5.0)\n",
            "Requirement already satisfied: phik in /usr/local/lib/python3.10/dist-packages (0.12.4)\n",
            "Requirement already satisfied: numpy>=1.18.0 in /usr/local/lib/python3.10/dist-packages (from phik) (1.25.2)\n",
            "Requirement already satisfied: scipy>=1.5.2 in /usr/local/lib/python3.10/dist-packages (from phik) (1.11.4)\n",
            "Requirement already satisfied: pandas>=0.25.1 in /usr/local/lib/python3.10/dist-packages (from phik) (2.2.2)\n",
            "Requirement already satisfied: matplotlib>=2.2.3 in /usr/local/lib/python3.10/dist-packages (from phik) (3.7.1)\n",
            "Requirement already satisfied: joblib>=0.14.1 in /usr/local/lib/python3.10/dist-packages (from phik) (1.4.2)\n",
            "Requirement already satisfied: contourpy>=1.0.1 in /usr/local/lib/python3.10/dist-packages (from matplotlib>=2.2.3->phik) (1.2.1)\n",
            "Requirement already satisfied: cycler>=0.10 in /usr/local/lib/python3.10/dist-packages (from matplotlib>=2.2.3->phik) (0.12.1)\n",
            "Requirement already satisfied: fonttools>=4.22.0 in /usr/local/lib/python3.10/dist-packages (from matplotlib>=2.2.3->phik) (4.53.0)\n",
            "Requirement already satisfied: kiwisolver>=1.0.1 in /usr/local/lib/python3.10/dist-packages (from matplotlib>=2.2.3->phik) (1.4.5)\n",
            "Requirement already satisfied: packaging>=20.0 in /usr/local/lib/python3.10/dist-packages (from matplotlib>=2.2.3->phik) (24.1)\n",
            "Requirement already satisfied: pillow>=6.2.0 in /usr/local/lib/python3.10/dist-packages (from matplotlib>=2.2.3->phik) (9.4.0)\n",
            "Requirement already satisfied: pyparsing>=2.3.1 in /usr/local/lib/python3.10/dist-packages (from matplotlib>=2.2.3->phik) (3.1.2)\n",
            "Requirement already satisfied: python-dateutil>=2.7 in /usr/local/lib/python3.10/dist-packages (from matplotlib>=2.2.3->phik) (2.8.2)\n",
            "Requirement already satisfied: pytz>=2020.1 in /usr/local/lib/python3.10/dist-packages (from pandas>=0.25.1->phik) (2023.4)\n",
            "Requirement already satisfied: tzdata>=2022.7 in /usr/local/lib/python3.10/dist-packages (from pandas>=0.25.1->phik) (2024.1)\n",
            "Requirement already satisfied: six>=1.5 in /usr/local/lib/python3.10/dist-packages (from python-dateutil>=2.7->matplotlib>=2.2.3->phik) (1.16.0)\n"
          ]
        }
      ],
      "source": [
        "!pip install feature_engine  # Install paket feature_engine untuk teknik rekayasa fitur (feature engineering)\n",
        "!pip install scikit-learn==1.2.2  # Install versi 1.2.2 dari scikit-learn untuk algoritma pembelajaran mesin\n",
        "!pip install imbalanced-learn==0.9.1  # Install versi 0.9.1 dari imbalanced-learn untuk menangani data yang tidak seimbang\n",
        "!pip install imblearn  # Install paket imblearn, yang merupakan alias dari imbalanced-learn\n",
        "!pip install phik  # Install paket phik untuk mengukur korelasi antar variabel dalam dataset"
      ]
    },
    {
      "cell_type": "code",
      "execution_count": 3,
      "metadata": {
        "id": "xedS14W69Fx8"
      },
      "outputs": [],
      "source": [
        "# Importing necessary libraries for data manipulation, analysis, and visualization\n",
        "import pandas as pd  # Untuk manipulasi dan analisis data\n",
        "import numpy as np  # Untuk operasi numerik dan array\n",
        "import matplotlib.pyplot as plt  # Untuk visualisasi data\n",
        "import seaborn as sns  # Untuk visualisasi data yang lebih menarik\n",
        "\n",
        "# Importing libraries for statistical analysis\n",
        "import scipy.stats as stats  # Untuk analisis statistik\n",
        "from scipy.stats import chi2_contingency  # Untuk uji chi-squared pada tabel kontingensi\n",
        "from scipy.stats import pearsonr  # Untuk menghitung koefisien korelasi Pearson\n",
        "\n",
        "# Importing libraries for machine learning model evaluation\n",
        "from sklearn.model_selection import train_test_split, RandomizedSearchCV  # Untuk membagi data dan melakukan pencarian hyperparameter\n",
        "from sklearn.metrics import accuracy_score, precision_score, recall_score, f1_score, roc_auc_score, confusion_matrix, classification_report  # Untuk metrik evaluasi model klasifikasi\n",
        "\n",
        "# Importing libraries for data preprocessing and decomposition\n",
        "from sklearn.decomposition import PCA  # Untuk analisis komponen utama\n",
        "from sklearn.preprocessing import MinMaxScaler  # Untuk normalisasi data\n",
        "from sklearn.preprocessing import StandardScaler  # Untuk standarisasi data\n",
        "from sklearn.preprocessing import LabelEncoder  # Untuk mengkodekan label kategorikal menjadi numerik\n",
        "\n",
        "# Importing libraries for clustering and silhouette analysis\n",
        "from sklearn.metrics import silhouette_score, silhouette_samples  # Untuk menghitung skor siluet\n",
        "\n",
        "# Importing libraries for classification models\n",
        "from sklearn.linear_model import LogisticRegression  # Untuk regresi logistik\n",
        "from sklearn.neighbors import KNeighborsClassifier  # Untuk K-Nearest Neighbors\n",
        "from sklearn.svm import SVC  # Untuk Support Vector Classifier\n",
        "from sklearn.tree import DecisionTreeClassifier  # Untuk Decision Tree\n",
        "from sklearn.ensemble import RandomForestClassifier  # Untuk Random Forest\n",
        "from sklearn.ensemble import GradientBoostingClassifier  # Untuk Gradient Boosting\n",
        "from sklearn.ensemble import AdaBoostClassifier  # Untuk AdaBoost\n",
        "\n",
        "# Importing libraries for handling outliers\n",
        "from feature_engine.outliers import Winsorizer  # Untuk mengatasi outliers\n",
        "\n",
        "# Importing libraries for handling imbalanced data\n",
        "from imblearn.over_sampling import SMOTENC  # Untuk menangani data yang tidak seimbang\n",
        "\n",
        "# Importing libraries for saving and loading models\n",
        "import ast  # Untuk operasi dengan string literal\n",
        "import pickle  # Untuk menyimpan dan memuat model\n",
        "\n",
        "# Importing libraries for checking data distribution\n",
        "from scipy.stats import skew  # Untuk mengukur skewness dari distribusi data\n",
        "\n",
        "# Importing libraries for hyperparameter tuning\n",
        "from sklearn.model_selection import StratifiedKFold  # Untuk k-fold cross-validation\n",
        "from sklearn.model_selection import GridSearchCV, RandomizedSearchCV  # Untuk pencarian hyperparameter\n",
        "\n",
        "# Importing libraries for model evaluation\n",
        "from sklearn.model_selection import learning_curve  # Untuk kurva pembelajaran\n",
        "from sklearn.model_selection import cross_validate  # Untuk validasi silang\n",
        "from sklearn.metrics import make_scorer, roc_curve, roc_auc_score, precision_recall_curve, auc, average_precision_score  # Untuk metrik evaluasi tambahan\n",
        "\n",
        "# Importing time module to measure time\n",
        "import time  # Untuk mengukur waktu eksekusi\n",
        "\n",
        "# Importing additional libraries for visualization and encoding\n",
        "from sklearn.metrics import confusion_matrix, ConfusionMatrixDisplay  # Untuk menampilkan confusion matrix\n",
        "from sklearn.preprocessing import OneHotEncoder  # Untuk encoding fitur kategorikal menjadi biner\n",
        "from sklearn.pipeline import Pipeline  # Untuk membangun pipeline\n",
        "\n",
        "# Ignoring warnings to keep the output clean\n",
        "import warnings\n",
        "warnings.filterwarnings('ignore')  # Mengabaikan semua peringatan\n",
        "\n",
        "import phik\n",
        "from phik import resources, report\n",
        "import matplotlib.pyplot as plt\n",
        "import seaborn as sns\n",
        "from imblearn.over_sampling import SMOTENC\n",
        "\n",
        "from sklearn.pipeline import Pipeline\n",
        "from sklearn.preprocessing import StandardScaler\n",
        "from sklearn.neighbors import KNeighborsClassifier\n",
        "from sklearn.model_selection import RandomizedSearchCV\n",
        "import numpy as np\n"
      ]
    },
    {
      "cell_type": "markdown",
      "metadata": {
        "id": "ioFkIFZE6CFj"
      },
      "source": [
        "# **DATA LOADING, OVERVIEW AND DATA CLEANING**"
      ]
    },
    {
      "cell_type": "markdown",
      "metadata": {
        "id": "JYmvtm1SlaTq"
      },
      "source": [
        "## Data Loading"
      ]
    },
    {
      "cell_type": "code",
      "execution_count": 4,
      "metadata": {
        "id": "ccQE6bzR81ok"
      },
      "outputs": [],
      "source": [
        "#  Membaca data set stroke_dataset.csv\n",
        "df = pd.read_csv('stroke_dataset.csv')\n"
      ]
    },
    {
      "cell_type": "markdown",
      "metadata": {
        "id": "pj6LX2qylnH8"
      },
      "source": [
        "- dataset `stroke_dataset.csv` telah berhasil dibaca"
      ]
    },
    {
      "cell_type": "markdown",
      "metadata": {
        "id": "Yx6YOQ6BltWy"
      },
      "source": [
        "## Overview"
      ]
    },
    {
      "cell_type": "code",
      "execution_count": 5,
      "metadata": {
        "colab": {
          "base_uri": "https://localhost:8080/",
          "height": 400
        },
        "id": "rGc9jVtj-scr",
        "outputId": "c4345953-f03e-4f47-ad18-17289aafe310"
      },
      "outputs": [
        {
          "name": "stdout",
          "output_type": "stream",
          "text": [
            "\n",
            "10 Data Pertama:\n"
          ]
        },
        {
          "data": {
            "application/vnd.google.colaboratory.intrinsic+json": {
              "summary": "{\n  \"name\": \"df\",\n  \"rows\": 5110,\n  \"fields\": [\n    {\n      \"column\": \"id\",\n      \"properties\": {\n        \"dtype\": \"number\",\n        \"std\": 21161,\n        \"min\": 67,\n        \"max\": 72940,\n        \"num_unique_values\": 5110,\n        \"samples\": [\n          40041,\n          55244,\n          70992\n        ],\n        \"semantic_type\": \"\",\n        \"description\": \"\"\n      }\n    },\n    {\n      \"column\": \"gender\",\n      \"properties\": {\n        \"dtype\": \"category\",\n        \"num_unique_values\": 3,\n        \"samples\": [\n          \"Male\",\n          \"Female\",\n          \"Other\"\n        ],\n        \"semantic_type\": \"\",\n        \"description\": \"\"\n      }\n    },\n    {\n      \"column\": \"age\",\n      \"properties\": {\n        \"dtype\": \"number\",\n        \"std\": 22.61264672311349,\n        \"min\": 0.08,\n        \"max\": 82.0,\n        \"num_unique_values\": 104,\n        \"samples\": [\n          45.0,\n          24.0,\n          33.0\n        ],\n        \"semantic_type\": \"\",\n        \"description\": \"\"\n      }\n    },\n    {\n      \"column\": \"hypertension\",\n      \"properties\": {\n        \"dtype\": \"number\",\n        \"std\": 0,\n        \"min\": 0,\n        \"max\": 1,\n        \"num_unique_values\": 2,\n        \"samples\": [\n          1,\n          0\n        ],\n        \"semantic_type\": \"\",\n        \"description\": \"\"\n      }\n    },\n    {\n      \"column\": \"heart_disease\",\n      \"properties\": {\n        \"dtype\": \"number\",\n        \"std\": 0,\n        \"min\": 0,\n        \"max\": 1,\n        \"num_unique_values\": 2,\n        \"samples\": [\n          0,\n          1\n        ],\n        \"semantic_type\": \"\",\n        \"description\": \"\"\n      }\n    },\n    {\n      \"column\": \"ever_married\",\n      \"properties\": {\n        \"dtype\": \"category\",\n        \"num_unique_values\": 2,\n        \"samples\": [\n          \"No\",\n          \"Yes\"\n        ],\n        \"semantic_type\": \"\",\n        \"description\": \"\"\n      }\n    },\n    {\n      \"column\": \"work_type\",\n      \"properties\": {\n        \"dtype\": \"category\",\n        \"num_unique_values\": 5,\n        \"samples\": [\n          \"Self-employed\",\n          \"Never_worked\"\n        ],\n        \"semantic_type\": \"\",\n        \"description\": \"\"\n      }\n    },\n    {\n      \"column\": \"Residence_type\",\n      \"properties\": {\n        \"dtype\": \"category\",\n        \"num_unique_values\": 2,\n        \"samples\": [\n          \"Rural\",\n          \"Urban\"\n        ],\n        \"semantic_type\": \"\",\n        \"description\": \"\"\n      }\n    },\n    {\n      \"column\": \"avg_glucose_level\",\n      \"properties\": {\n        \"dtype\": \"number\",\n        \"std\": 45.28356015058198,\n        \"min\": 55.12,\n        \"max\": 271.74,\n        \"num_unique_values\": 3979,\n        \"samples\": [\n          178.29,\n          156.69\n        ],\n        \"semantic_type\": \"\",\n        \"description\": \"\"\n      }\n    },\n    {\n      \"column\": \"bmi\",\n      \"properties\": {\n        \"dtype\": \"number\",\n        \"std\": 7.854066729680164,\n        \"min\": 10.3,\n        \"max\": 97.6,\n        \"num_unique_values\": 418,\n        \"samples\": [\n          49.5,\n          18.5\n        ],\n        \"semantic_type\": \"\",\n        \"description\": \"\"\n      }\n    },\n    {\n      \"column\": \"smoking_status\",\n      \"properties\": {\n        \"dtype\": \"category\",\n        \"num_unique_values\": 4,\n        \"samples\": [\n          \"never smoked\",\n          \"Unknown\"\n        ],\n        \"semantic_type\": \"\",\n        \"description\": \"\"\n      }\n    },\n    {\n      \"column\": \"stroke\",\n      \"properties\": {\n        \"dtype\": \"number\",\n        \"std\": 0,\n        \"min\": 0,\n        \"max\": 1,\n        \"num_unique_values\": 2,\n        \"samples\": [\n          0,\n          1\n        ],\n        \"semantic_type\": \"\",\n        \"description\": \"\"\n      }\n    }\n  ]\n}",
              "type": "dataframe",
              "variable_name": "df"
            },
            "text/html": [
              "\n",
              "  <div id=\"df-d5caf586-1845-4fb1-8254-1294ed7e0366\" class=\"colab-df-container\">\n",
              "    <div>\n",
              "<style scoped>\n",
              "    .dataframe tbody tr th:only-of-type {\n",
              "        vertical-align: middle;\n",
              "    }\n",
              "\n",
              "    .dataframe tbody tr th {\n",
              "        vertical-align: top;\n",
              "    }\n",
              "\n",
              "    .dataframe thead th {\n",
              "        text-align: right;\n",
              "    }\n",
              "</style>\n",
              "<table border=\"1\" class=\"dataframe\">\n",
              "  <thead>\n",
              "    <tr style=\"text-align: right;\">\n",
              "      <th></th>\n",
              "      <th>id</th>\n",
              "      <th>gender</th>\n",
              "      <th>age</th>\n",
              "      <th>hypertension</th>\n",
              "      <th>heart_disease</th>\n",
              "      <th>ever_married</th>\n",
              "      <th>work_type</th>\n",
              "      <th>Residence_type</th>\n",
              "      <th>avg_glucose_level</th>\n",
              "      <th>bmi</th>\n",
              "      <th>smoking_status</th>\n",
              "      <th>stroke</th>\n",
              "    </tr>\n",
              "  </thead>\n",
              "  <tbody>\n",
              "    <tr>\n",
              "      <th>0</th>\n",
              "      <td>9046</td>\n",
              "      <td>Male</td>\n",
              "      <td>67.0</td>\n",
              "      <td>0</td>\n",
              "      <td>1</td>\n",
              "      <td>Yes</td>\n",
              "      <td>Private</td>\n",
              "      <td>Urban</td>\n",
              "      <td>228.69</td>\n",
              "      <td>36.6</td>\n",
              "      <td>formerly smoked</td>\n",
              "      <td>1</td>\n",
              "    </tr>\n",
              "    <tr>\n",
              "      <th>1</th>\n",
              "      <td>51676</td>\n",
              "      <td>Female</td>\n",
              "      <td>61.0</td>\n",
              "      <td>0</td>\n",
              "      <td>0</td>\n",
              "      <td>Yes</td>\n",
              "      <td>Self-employed</td>\n",
              "      <td>Rural</td>\n",
              "      <td>202.21</td>\n",
              "      <td>NaN</td>\n",
              "      <td>never smoked</td>\n",
              "      <td>1</td>\n",
              "    </tr>\n",
              "    <tr>\n",
              "      <th>2</th>\n",
              "      <td>31112</td>\n",
              "      <td>Male</td>\n",
              "      <td>80.0</td>\n",
              "      <td>0</td>\n",
              "      <td>1</td>\n",
              "      <td>Yes</td>\n",
              "      <td>Private</td>\n",
              "      <td>Rural</td>\n",
              "      <td>105.92</td>\n",
              "      <td>32.5</td>\n",
              "      <td>never smoked</td>\n",
              "      <td>1</td>\n",
              "    </tr>\n",
              "    <tr>\n",
              "      <th>3</th>\n",
              "      <td>60182</td>\n",
              "      <td>Female</td>\n",
              "      <td>49.0</td>\n",
              "      <td>0</td>\n",
              "      <td>0</td>\n",
              "      <td>Yes</td>\n",
              "      <td>Private</td>\n",
              "      <td>Urban</td>\n",
              "      <td>171.23</td>\n",
              "      <td>34.4</td>\n",
              "      <td>smokes</td>\n",
              "      <td>1</td>\n",
              "    </tr>\n",
              "    <tr>\n",
              "      <th>4</th>\n",
              "      <td>1665</td>\n",
              "      <td>Female</td>\n",
              "      <td>79.0</td>\n",
              "      <td>1</td>\n",
              "      <td>0</td>\n",
              "      <td>Yes</td>\n",
              "      <td>Self-employed</td>\n",
              "      <td>Rural</td>\n",
              "      <td>174.12</td>\n",
              "      <td>24.0</td>\n",
              "      <td>never smoked</td>\n",
              "      <td>1</td>\n",
              "    </tr>\n",
              "    <tr>\n",
              "      <th>5</th>\n",
              "      <td>56669</td>\n",
              "      <td>Male</td>\n",
              "      <td>81.0</td>\n",
              "      <td>0</td>\n",
              "      <td>0</td>\n",
              "      <td>Yes</td>\n",
              "      <td>Private</td>\n",
              "      <td>Urban</td>\n",
              "      <td>186.21</td>\n",
              "      <td>29.0</td>\n",
              "      <td>formerly smoked</td>\n",
              "      <td>1</td>\n",
              "    </tr>\n",
              "    <tr>\n",
              "      <th>6</th>\n",
              "      <td>53882</td>\n",
              "      <td>Male</td>\n",
              "      <td>74.0</td>\n",
              "      <td>1</td>\n",
              "      <td>1</td>\n",
              "      <td>Yes</td>\n",
              "      <td>Private</td>\n",
              "      <td>Rural</td>\n",
              "      <td>70.09</td>\n",
              "      <td>27.4</td>\n",
              "      <td>never smoked</td>\n",
              "      <td>1</td>\n",
              "    </tr>\n",
              "    <tr>\n",
              "      <th>7</th>\n",
              "      <td>10434</td>\n",
              "      <td>Female</td>\n",
              "      <td>69.0</td>\n",
              "      <td>0</td>\n",
              "      <td>0</td>\n",
              "      <td>No</td>\n",
              "      <td>Private</td>\n",
              "      <td>Urban</td>\n",
              "      <td>94.39</td>\n",
              "      <td>22.8</td>\n",
              "      <td>never smoked</td>\n",
              "      <td>1</td>\n",
              "    </tr>\n",
              "    <tr>\n",
              "      <th>8</th>\n",
              "      <td>27419</td>\n",
              "      <td>Female</td>\n",
              "      <td>59.0</td>\n",
              "      <td>0</td>\n",
              "      <td>0</td>\n",
              "      <td>Yes</td>\n",
              "      <td>Private</td>\n",
              "      <td>Rural</td>\n",
              "      <td>76.15</td>\n",
              "      <td>NaN</td>\n",
              "      <td>Unknown</td>\n",
              "      <td>1</td>\n",
              "    </tr>\n",
              "    <tr>\n",
              "      <th>9</th>\n",
              "      <td>60491</td>\n",
              "      <td>Female</td>\n",
              "      <td>78.0</td>\n",
              "      <td>0</td>\n",
              "      <td>0</td>\n",
              "      <td>Yes</td>\n",
              "      <td>Private</td>\n",
              "      <td>Urban</td>\n",
              "      <td>58.57</td>\n",
              "      <td>24.2</td>\n",
              "      <td>Unknown</td>\n",
              "      <td>1</td>\n",
              "    </tr>\n",
              "  </tbody>\n",
              "</table>\n",
              "</div>\n",
              "    <div class=\"colab-df-buttons\">\n",
              "\n",
              "  <div class=\"colab-df-container\">\n",
              "    <button class=\"colab-df-convert\" onclick=\"convertToInteractive('df-d5caf586-1845-4fb1-8254-1294ed7e0366')\"\n",
              "            title=\"Convert this dataframe to an interactive table.\"\n",
              "            style=\"display:none;\">\n",
              "\n",
              "  <svg xmlns=\"http://www.w3.org/2000/svg\" height=\"24px\" viewBox=\"0 -960 960 960\">\n",
              "    <path d=\"M120-120v-720h720v720H120Zm60-500h600v-160H180v160Zm220 220h160v-160H400v160Zm0 220h160v-160H400v160ZM180-400h160v-160H180v160Zm440 0h160v-160H620v160ZM180-180h160v-160H180v160Zm440 0h160v-160H620v160Z\"/>\n",
              "  </svg>\n",
              "    </button>\n",
              "\n",
              "  <style>\n",
              "    .colab-df-container {\n",
              "      display:flex;\n",
              "      gap: 12px;\n",
              "    }\n",
              "\n",
              "    .colab-df-convert {\n",
              "      background-color: #E8F0FE;\n",
              "      border: none;\n",
              "      border-radius: 50%;\n",
              "      cursor: pointer;\n",
              "      display: none;\n",
              "      fill: #1967D2;\n",
              "      height: 32px;\n",
              "      padding: 0 0 0 0;\n",
              "      width: 32px;\n",
              "    }\n",
              "\n",
              "    .colab-df-convert:hover {\n",
              "      background-color: #E2EBFA;\n",
              "      box-shadow: 0px 1px 2px rgba(60, 64, 67, 0.3), 0px 1px 3px 1px rgba(60, 64, 67, 0.15);\n",
              "      fill: #174EA6;\n",
              "    }\n",
              "\n",
              "    .colab-df-buttons div {\n",
              "      margin-bottom: 4px;\n",
              "    }\n",
              "\n",
              "    [theme=dark] .colab-df-convert {\n",
              "      background-color: #3B4455;\n",
              "      fill: #D2E3FC;\n",
              "    }\n",
              "\n",
              "    [theme=dark] .colab-df-convert:hover {\n",
              "      background-color: #434B5C;\n",
              "      box-shadow: 0px 1px 3px 1px rgba(0, 0, 0, 0.15);\n",
              "      filter: drop-shadow(0px 1px 2px rgba(0, 0, 0, 0.3));\n",
              "      fill: #FFFFFF;\n",
              "    }\n",
              "  </style>\n",
              "\n",
              "    <script>\n",
              "      const buttonEl =\n",
              "        document.querySelector('#df-d5caf586-1845-4fb1-8254-1294ed7e0366 button.colab-df-convert');\n",
              "      buttonEl.style.display =\n",
              "        google.colab.kernel.accessAllowed ? 'block' : 'none';\n",
              "\n",
              "      async function convertToInteractive(key) {\n",
              "        const element = document.querySelector('#df-d5caf586-1845-4fb1-8254-1294ed7e0366');\n",
              "        const dataTable =\n",
              "          await google.colab.kernel.invokeFunction('convertToInteractive',\n",
              "                                                    [key], {});\n",
              "        if (!dataTable) return;\n",
              "\n",
              "        const docLinkHtml = 'Like what you see? Visit the ' +\n",
              "          '<a target=\"_blank\" href=https://colab.research.google.com/notebooks/data_table.ipynb>data table notebook</a>'\n",
              "          + ' to learn more about interactive tables.';\n",
              "        element.innerHTML = '';\n",
              "        dataTable['output_type'] = 'display_data';\n",
              "        await google.colab.output.renderOutput(dataTable, element);\n",
              "        const docLink = document.createElement('div');\n",
              "        docLink.innerHTML = docLinkHtml;\n",
              "        element.appendChild(docLink);\n",
              "      }\n",
              "    </script>\n",
              "  </div>\n",
              "\n",
              "\n",
              "<div id=\"df-40498b9a-f37c-457b-8227-1741041b7065\">\n",
              "  <button class=\"colab-df-quickchart\" onclick=\"quickchart('df-40498b9a-f37c-457b-8227-1741041b7065')\"\n",
              "            title=\"Suggest charts\"\n",
              "            style=\"display:none;\">\n",
              "\n",
              "<svg xmlns=\"http://www.w3.org/2000/svg\" height=\"24px\"viewBox=\"0 0 24 24\"\n",
              "     width=\"24px\">\n",
              "    <g>\n",
              "        <path d=\"M19 3H5c-1.1 0-2 .9-2 2v14c0 1.1.9 2 2 2h14c1.1 0 2-.9 2-2V5c0-1.1-.9-2-2-2zM9 17H7v-7h2v7zm4 0h-2V7h2v10zm4 0h-2v-4h2v4z\"/>\n",
              "    </g>\n",
              "</svg>\n",
              "  </button>\n",
              "\n",
              "<style>\n",
              "  .colab-df-quickchart {\n",
              "      --bg-color: #E8F0FE;\n",
              "      --fill-color: #1967D2;\n",
              "      --hover-bg-color: #E2EBFA;\n",
              "      --hover-fill-color: #174EA6;\n",
              "      --disabled-fill-color: #AAA;\n",
              "      --disabled-bg-color: #DDD;\n",
              "  }\n",
              "\n",
              "  [theme=dark] .colab-df-quickchart {\n",
              "      --bg-color: #3B4455;\n",
              "      --fill-color: #D2E3FC;\n",
              "      --hover-bg-color: #434B5C;\n",
              "      --hover-fill-color: #FFFFFF;\n",
              "      --disabled-bg-color: #3B4455;\n",
              "      --disabled-fill-color: #666;\n",
              "  }\n",
              "\n",
              "  .colab-df-quickchart {\n",
              "    background-color: var(--bg-color);\n",
              "    border: none;\n",
              "    border-radius: 50%;\n",
              "    cursor: pointer;\n",
              "    display: none;\n",
              "    fill: var(--fill-color);\n",
              "    height: 32px;\n",
              "    padding: 0;\n",
              "    width: 32px;\n",
              "  }\n",
              "\n",
              "  .colab-df-quickchart:hover {\n",
              "    background-color: var(--hover-bg-color);\n",
              "    box-shadow: 0 1px 2px rgba(60, 64, 67, 0.3), 0 1px 3px 1px rgba(60, 64, 67, 0.15);\n",
              "    fill: var(--button-hover-fill-color);\n",
              "  }\n",
              "\n",
              "  .colab-df-quickchart-complete:disabled,\n",
              "  .colab-df-quickchart-complete:disabled:hover {\n",
              "    background-color: var(--disabled-bg-color);\n",
              "    fill: var(--disabled-fill-color);\n",
              "    box-shadow: none;\n",
              "  }\n",
              "\n",
              "  .colab-df-spinner {\n",
              "    border: 2px solid var(--fill-color);\n",
              "    border-color: transparent;\n",
              "    border-bottom-color: var(--fill-color);\n",
              "    animation:\n",
              "      spin 1s steps(1) infinite;\n",
              "  }\n",
              "\n",
              "  @keyframes spin {\n",
              "    0% {\n",
              "      border-color: transparent;\n",
              "      border-bottom-color: var(--fill-color);\n",
              "      border-left-color: var(--fill-color);\n",
              "    }\n",
              "    20% {\n",
              "      border-color: transparent;\n",
              "      border-left-color: var(--fill-color);\n",
              "      border-top-color: var(--fill-color);\n",
              "    }\n",
              "    30% {\n",
              "      border-color: transparent;\n",
              "      border-left-color: var(--fill-color);\n",
              "      border-top-color: var(--fill-color);\n",
              "      border-right-color: var(--fill-color);\n",
              "    }\n",
              "    40% {\n",
              "      border-color: transparent;\n",
              "      border-right-color: var(--fill-color);\n",
              "      border-top-color: var(--fill-color);\n",
              "    }\n",
              "    60% {\n",
              "      border-color: transparent;\n",
              "      border-right-color: var(--fill-color);\n",
              "    }\n",
              "    80% {\n",
              "      border-color: transparent;\n",
              "      border-right-color: var(--fill-color);\n",
              "      border-bottom-color: var(--fill-color);\n",
              "    }\n",
              "    90% {\n",
              "      border-color: transparent;\n",
              "      border-bottom-color: var(--fill-color);\n",
              "    }\n",
              "  }\n",
              "</style>\n",
              "\n",
              "  <script>\n",
              "    async function quickchart(key) {\n",
              "      const quickchartButtonEl =\n",
              "        document.querySelector('#' + key + ' button');\n",
              "      quickchartButtonEl.disabled = true;  // To prevent multiple clicks.\n",
              "      quickchartButtonEl.classList.add('colab-df-spinner');\n",
              "      try {\n",
              "        const charts = await google.colab.kernel.invokeFunction(\n",
              "            'suggestCharts', [key], {});\n",
              "      } catch (error) {\n",
              "        console.error('Error during call to suggestCharts:', error);\n",
              "      }\n",
              "      quickchartButtonEl.classList.remove('colab-df-spinner');\n",
              "      quickchartButtonEl.classList.add('colab-df-quickchart-complete');\n",
              "    }\n",
              "    (() => {\n",
              "      let quickchartButtonEl =\n",
              "        document.querySelector('#df-40498b9a-f37c-457b-8227-1741041b7065 button');\n",
              "      quickchartButtonEl.style.display =\n",
              "        google.colab.kernel.accessAllowed ? 'block' : 'none';\n",
              "    })();\n",
              "  </script>\n",
              "</div>\n",
              "\n",
              "    </div>\n",
              "  </div>\n"
            ],
            "text/plain": [
              "      id  gender   age  hypertension  heart_disease ever_married  \\\n",
              "0   9046    Male  67.0             0              1          Yes   \n",
              "1  51676  Female  61.0             0              0          Yes   \n",
              "2  31112    Male  80.0             0              1          Yes   \n",
              "3  60182  Female  49.0             0              0          Yes   \n",
              "4   1665  Female  79.0             1              0          Yes   \n",
              "5  56669    Male  81.0             0              0          Yes   \n",
              "6  53882    Male  74.0             1              1          Yes   \n",
              "7  10434  Female  69.0             0              0           No   \n",
              "8  27419  Female  59.0             0              0          Yes   \n",
              "9  60491  Female  78.0             0              0          Yes   \n",
              "\n",
              "       work_type Residence_type  avg_glucose_level   bmi   smoking_status  \\\n",
              "0        Private          Urban             228.69  36.6  formerly smoked   \n",
              "1  Self-employed          Rural             202.21   NaN     never smoked   \n",
              "2        Private          Rural             105.92  32.5     never smoked   \n",
              "3        Private          Urban             171.23  34.4           smokes   \n",
              "4  Self-employed          Rural             174.12  24.0     never smoked   \n",
              "5        Private          Urban             186.21  29.0  formerly smoked   \n",
              "6        Private          Rural              70.09  27.4     never smoked   \n",
              "7        Private          Urban              94.39  22.8     never smoked   \n",
              "8        Private          Rural              76.15   NaN          Unknown   \n",
              "9        Private          Urban              58.57  24.2          Unknown   \n",
              "\n",
              "   stroke  \n",
              "0       1  \n",
              "1       1  \n",
              "2       1  \n",
              "3       1  \n",
              "4       1  \n",
              "5       1  \n",
              "6       1  \n",
              "7       1  \n",
              "8       1  \n",
              "9       1  "
            ]
          },
          "execution_count": 5,
          "metadata": {},
          "output_type": "execute_result"
        }
      ],
      "source": [
        "# Menampilkan 10 data pertama\n",
        "print(\"\\n10 Data Pertama:\")\n",
        "df.head(10)"
      ]
    },
    {
      "cell_type": "markdown",
      "metadata": {
        "id": "8jl5p1hVtmT-"
      },
      "source": [
        "## Data Information"
      ]
    },
    {
      "cell_type": "code",
      "execution_count": 6,
      "metadata": {
        "colab": {
          "base_uri": "https://localhost:8080/"
        },
        "id": "AH2UD-4-9MSO",
        "outputId": "50089e7f-7b2e-48d3-b13e-04b9b3a6b664"
      },
      "outputs": [
        {
          "name": "stdout",
          "output_type": "stream",
          "text": [
            "<class 'pandas.core.frame.DataFrame'>\n",
            "RangeIndex: 5110 entries, 0 to 5109\n",
            "Data columns (total 12 columns):\n",
            " #   Column             Non-Null Count  Dtype  \n",
            "---  ------             --------------  -----  \n",
            " 0   id                 5110 non-null   int64  \n",
            " 1   gender             5110 non-null   object \n",
            " 2   age                5110 non-null   float64\n",
            " 3   hypertension       5110 non-null   int64  \n",
            " 4   heart_disease      5110 non-null   int64  \n",
            " 5   ever_married       5110 non-null   object \n",
            " 6   work_type          5110 non-null   object \n",
            " 7   Residence_type     5110 non-null   object \n",
            " 8   avg_glucose_level  5110 non-null   float64\n",
            " 9   bmi                4909 non-null   float64\n",
            " 10  smoking_status     5110 non-null   object \n",
            " 11  stroke             5110 non-null   int64  \n",
            "dtypes: float64(3), int64(4), object(5)\n",
            "memory usage: 479.2+ KB\n"
          ]
        }
      ],
      "source": [
        "# Menampilkan informasi umum data frame\n",
        "df.info()"
      ]
    },
    {
      "cell_type": "markdown",
      "metadata": {
        "id": "qIf1hkIXmtlz"
      },
      "source": [
        "- pada dataset terdapat 4 kolom dengan tipe data int64, 3 kolom dengan tipe data float64 dan 5 kolom dengan tipe data object"
      ]
    },
    {
      "cell_type": "markdown",
      "metadata": {
        "id": "NaHVExzetpjM"
      },
      "source": [
        "## Data Describe (Descriptive Statistic)"
      ]
    },
    {
      "cell_type": "code",
      "execution_count": 7,
      "metadata": {
        "colab": {
          "base_uri": "https://localhost:8080/",
          "height": 269
        },
        "id": "ZuwgSbqq9RDU",
        "outputId": "a36443c6-0bc0-4788-a36f-f73f69e1e48c"
      },
      "outputs": [
        {
          "data": {
            "application/vnd.google.colaboratory.intrinsic+json": {
              "summary": "{\n  \"name\": \"df\",\n  \"rows\": 7,\n  \"fields\": [\n    {\n      \"column\": \"count\",\n      \"properties\": {\n        \"dtype\": \"number\",\n        \"std\": 75.97085907485467,\n        \"min\": 4909.0,\n        \"max\": 5110.0,\n        \"num_unique_values\": 2,\n        \"samples\": [\n          4909.0,\n          5110.0\n        ],\n        \"semantic_type\": \"\",\n        \"description\": \"\"\n      }\n    },\n    {\n      \"column\": \"mean\",\n      \"properties\": {\n        \"dtype\": \"number\",\n        \"std\": 13791.252058960936,\n        \"min\": 0.0487279843444227,\n        \"max\": 36517.82935420744,\n        \"num_unique_values\": 7,\n        \"samples\": [\n          36517.82935420744,\n          43.226614481409\n        ],\n        \"semantic_type\": \"\",\n        \"description\": \"\"\n      }\n    },\n    {\n      \"column\": \"std\",\n      \"properties\": {\n        \"dtype\": \"number\",\n        \"std\": 7993.577842292387,\n        \"min\": 0.2153198569802376,\n        \"max\": 21161.721624827165,\n        \"num_unique_values\": 7,\n        \"samples\": [\n          21161.721624827165,\n          22.61264672311349\n        ],\n        \"semantic_type\": \"\",\n        \"description\": \"\"\n      }\n    },\n    {\n      \"column\": \"min\",\n      \"properties\": {\n        \"dtype\": \"number\",\n        \"std\": 29.226914210804296,\n        \"min\": 0.0,\n        \"max\": 67.0,\n        \"num_unique_values\": 5,\n        \"samples\": [\n          0.08,\n          10.3\n        ],\n        \"semantic_type\": \"\",\n        \"description\": \"\"\n      }\n    },\n    {\n      \"column\": \"25%\",\n      \"properties\": {\n        \"dtype\": \"number\",\n        \"std\": 6697.697114694135,\n        \"min\": 0.0,\n        \"max\": 17741.25,\n        \"num_unique_values\": 5,\n        \"samples\": [\n          25.0,\n          23.5\n        ],\n        \"semantic_type\": \"\",\n        \"description\": \"\"\n      }\n    },\n    {\n      \"column\": \"50%\",\n      \"properties\": {\n        \"dtype\": \"number\",\n        \"std\": 13948.630991155973,\n        \"min\": 0.0,\n        \"max\": 36932.0,\n        \"num_unique_values\": 5,\n        \"samples\": [\n          45.0,\n          28.1\n        ],\n        \"semantic_type\": \"\",\n        \"description\": \"\"\n      }\n    },\n    {\n      \"column\": \"75%\",\n      \"properties\": {\n        \"dtype\": \"number\",\n        \"std\": 20654.781379882206,\n        \"min\": 0.0,\n        \"max\": 54682.0,\n        \"num_unique_values\": 5,\n        \"samples\": [\n          61.0,\n          33.1\n        ],\n        \"semantic_type\": \"\",\n        \"description\": \"\"\n      }\n    },\n    {\n      \"column\": \"max\",\n      \"properties\": {\n        \"dtype\": \"number\",\n        \"std\": 27540.276446583255,\n        \"min\": 1.0,\n        \"max\": 72940.0,\n        \"num_unique_values\": 5,\n        \"samples\": [\n          82.0,\n          97.6\n        ],\n        \"semantic_type\": \"\",\n        \"description\": \"\"\n      }\n    }\n  ]\n}",
              "type": "dataframe"
            },
            "text/html": [
              "\n",
              "  <div id=\"df-7465f224-5d98-49d0-b5e0-b150955f1328\" class=\"colab-df-container\">\n",
              "    <div>\n",
              "<style scoped>\n",
              "    .dataframe tbody tr th:only-of-type {\n",
              "        vertical-align: middle;\n",
              "    }\n",
              "\n",
              "    .dataframe tbody tr th {\n",
              "        vertical-align: top;\n",
              "    }\n",
              "\n",
              "    .dataframe thead th {\n",
              "        text-align: right;\n",
              "    }\n",
              "</style>\n",
              "<table border=\"1\" class=\"dataframe\">\n",
              "  <thead>\n",
              "    <tr style=\"text-align: right;\">\n",
              "      <th></th>\n",
              "      <th>count</th>\n",
              "      <th>mean</th>\n",
              "      <th>std</th>\n",
              "      <th>min</th>\n",
              "      <th>25%</th>\n",
              "      <th>50%</th>\n",
              "      <th>75%</th>\n",
              "      <th>max</th>\n",
              "    </tr>\n",
              "  </thead>\n",
              "  <tbody>\n",
              "    <tr>\n",
              "      <th>id</th>\n",
              "      <td>5110.0</td>\n",
              "      <td>36517.829354</td>\n",
              "      <td>21161.721625</td>\n",
              "      <td>67.00</td>\n",
              "      <td>17741.250</td>\n",
              "      <td>36932.000</td>\n",
              "      <td>54682.00</td>\n",
              "      <td>72940.00</td>\n",
              "    </tr>\n",
              "    <tr>\n",
              "      <th>age</th>\n",
              "      <td>5110.0</td>\n",
              "      <td>43.226614</td>\n",
              "      <td>22.612647</td>\n",
              "      <td>0.08</td>\n",
              "      <td>25.000</td>\n",
              "      <td>45.000</td>\n",
              "      <td>61.00</td>\n",
              "      <td>82.00</td>\n",
              "    </tr>\n",
              "    <tr>\n",
              "      <th>hypertension</th>\n",
              "      <td>5110.0</td>\n",
              "      <td>0.097456</td>\n",
              "      <td>0.296607</td>\n",
              "      <td>0.00</td>\n",
              "      <td>0.000</td>\n",
              "      <td>0.000</td>\n",
              "      <td>0.00</td>\n",
              "      <td>1.00</td>\n",
              "    </tr>\n",
              "    <tr>\n",
              "      <th>heart_disease</th>\n",
              "      <td>5110.0</td>\n",
              "      <td>0.054012</td>\n",
              "      <td>0.226063</td>\n",
              "      <td>0.00</td>\n",
              "      <td>0.000</td>\n",
              "      <td>0.000</td>\n",
              "      <td>0.00</td>\n",
              "      <td>1.00</td>\n",
              "    </tr>\n",
              "    <tr>\n",
              "      <th>avg_glucose_level</th>\n",
              "      <td>5110.0</td>\n",
              "      <td>106.147677</td>\n",
              "      <td>45.283560</td>\n",
              "      <td>55.12</td>\n",
              "      <td>77.245</td>\n",
              "      <td>91.885</td>\n",
              "      <td>114.09</td>\n",
              "      <td>271.74</td>\n",
              "    </tr>\n",
              "    <tr>\n",
              "      <th>bmi</th>\n",
              "      <td>4909.0</td>\n",
              "      <td>28.893237</td>\n",
              "      <td>7.854067</td>\n",
              "      <td>10.30</td>\n",
              "      <td>23.500</td>\n",
              "      <td>28.100</td>\n",
              "      <td>33.10</td>\n",
              "      <td>97.60</td>\n",
              "    </tr>\n",
              "    <tr>\n",
              "      <th>stroke</th>\n",
              "      <td>5110.0</td>\n",
              "      <td>0.048728</td>\n",
              "      <td>0.215320</td>\n",
              "      <td>0.00</td>\n",
              "      <td>0.000</td>\n",
              "      <td>0.000</td>\n",
              "      <td>0.00</td>\n",
              "      <td>1.00</td>\n",
              "    </tr>\n",
              "  </tbody>\n",
              "</table>\n",
              "</div>\n",
              "    <div class=\"colab-df-buttons\">\n",
              "\n",
              "  <div class=\"colab-df-container\">\n",
              "    <button class=\"colab-df-convert\" onclick=\"convertToInteractive('df-7465f224-5d98-49d0-b5e0-b150955f1328')\"\n",
              "            title=\"Convert this dataframe to an interactive table.\"\n",
              "            style=\"display:none;\">\n",
              "\n",
              "  <svg xmlns=\"http://www.w3.org/2000/svg\" height=\"24px\" viewBox=\"0 -960 960 960\">\n",
              "    <path d=\"M120-120v-720h720v720H120Zm60-500h600v-160H180v160Zm220 220h160v-160H400v160Zm0 220h160v-160H400v160ZM180-400h160v-160H180v160Zm440 0h160v-160H620v160ZM180-180h160v-160H180v160Zm440 0h160v-160H620v160Z\"/>\n",
              "  </svg>\n",
              "    </button>\n",
              "\n",
              "  <style>\n",
              "    .colab-df-container {\n",
              "      display:flex;\n",
              "      gap: 12px;\n",
              "    }\n",
              "\n",
              "    .colab-df-convert {\n",
              "      background-color: #E8F0FE;\n",
              "      border: none;\n",
              "      border-radius: 50%;\n",
              "      cursor: pointer;\n",
              "      display: none;\n",
              "      fill: #1967D2;\n",
              "      height: 32px;\n",
              "      padding: 0 0 0 0;\n",
              "      width: 32px;\n",
              "    }\n",
              "\n",
              "    .colab-df-convert:hover {\n",
              "      background-color: #E2EBFA;\n",
              "      box-shadow: 0px 1px 2px rgba(60, 64, 67, 0.3), 0px 1px 3px 1px rgba(60, 64, 67, 0.15);\n",
              "      fill: #174EA6;\n",
              "    }\n",
              "\n",
              "    .colab-df-buttons div {\n",
              "      margin-bottom: 4px;\n",
              "    }\n",
              "\n",
              "    [theme=dark] .colab-df-convert {\n",
              "      background-color: #3B4455;\n",
              "      fill: #D2E3FC;\n",
              "    }\n",
              "\n",
              "    [theme=dark] .colab-df-convert:hover {\n",
              "      background-color: #434B5C;\n",
              "      box-shadow: 0px 1px 3px 1px rgba(0, 0, 0, 0.15);\n",
              "      filter: drop-shadow(0px 1px 2px rgba(0, 0, 0, 0.3));\n",
              "      fill: #FFFFFF;\n",
              "    }\n",
              "  </style>\n",
              "\n",
              "    <script>\n",
              "      const buttonEl =\n",
              "        document.querySelector('#df-7465f224-5d98-49d0-b5e0-b150955f1328 button.colab-df-convert');\n",
              "      buttonEl.style.display =\n",
              "        google.colab.kernel.accessAllowed ? 'block' : 'none';\n",
              "\n",
              "      async function convertToInteractive(key) {\n",
              "        const element = document.querySelector('#df-7465f224-5d98-49d0-b5e0-b150955f1328');\n",
              "        const dataTable =\n",
              "          await google.colab.kernel.invokeFunction('convertToInteractive',\n",
              "                                                    [key], {});\n",
              "        if (!dataTable) return;\n",
              "\n",
              "        const docLinkHtml = 'Like what you see? Visit the ' +\n",
              "          '<a target=\"_blank\" href=https://colab.research.google.com/notebooks/data_table.ipynb>data table notebook</a>'\n",
              "          + ' to learn more about interactive tables.';\n",
              "        element.innerHTML = '';\n",
              "        dataTable['output_type'] = 'display_data';\n",
              "        await google.colab.output.renderOutput(dataTable, element);\n",
              "        const docLink = document.createElement('div');\n",
              "        docLink.innerHTML = docLinkHtml;\n",
              "        element.appendChild(docLink);\n",
              "      }\n",
              "    </script>\n",
              "  </div>\n",
              "\n",
              "\n",
              "<div id=\"df-ac6a046f-fed3-403f-9586-a3a260115ef0\">\n",
              "  <button class=\"colab-df-quickchart\" onclick=\"quickchart('df-ac6a046f-fed3-403f-9586-a3a260115ef0')\"\n",
              "            title=\"Suggest charts\"\n",
              "            style=\"display:none;\">\n",
              "\n",
              "<svg xmlns=\"http://www.w3.org/2000/svg\" height=\"24px\"viewBox=\"0 0 24 24\"\n",
              "     width=\"24px\">\n",
              "    <g>\n",
              "        <path d=\"M19 3H5c-1.1 0-2 .9-2 2v14c0 1.1.9 2 2 2h14c1.1 0 2-.9 2-2V5c0-1.1-.9-2-2-2zM9 17H7v-7h2v7zm4 0h-2V7h2v10zm4 0h-2v-4h2v4z\"/>\n",
              "    </g>\n",
              "</svg>\n",
              "  </button>\n",
              "\n",
              "<style>\n",
              "  .colab-df-quickchart {\n",
              "      --bg-color: #E8F0FE;\n",
              "      --fill-color: #1967D2;\n",
              "      --hover-bg-color: #E2EBFA;\n",
              "      --hover-fill-color: #174EA6;\n",
              "      --disabled-fill-color: #AAA;\n",
              "      --disabled-bg-color: #DDD;\n",
              "  }\n",
              "\n",
              "  [theme=dark] .colab-df-quickchart {\n",
              "      --bg-color: #3B4455;\n",
              "      --fill-color: #D2E3FC;\n",
              "      --hover-bg-color: #434B5C;\n",
              "      --hover-fill-color: #FFFFFF;\n",
              "      --disabled-bg-color: #3B4455;\n",
              "      --disabled-fill-color: #666;\n",
              "  }\n",
              "\n",
              "  .colab-df-quickchart {\n",
              "    background-color: var(--bg-color);\n",
              "    border: none;\n",
              "    border-radius: 50%;\n",
              "    cursor: pointer;\n",
              "    display: none;\n",
              "    fill: var(--fill-color);\n",
              "    height: 32px;\n",
              "    padding: 0;\n",
              "    width: 32px;\n",
              "  }\n",
              "\n",
              "  .colab-df-quickchart:hover {\n",
              "    background-color: var(--hover-bg-color);\n",
              "    box-shadow: 0 1px 2px rgba(60, 64, 67, 0.3), 0 1px 3px 1px rgba(60, 64, 67, 0.15);\n",
              "    fill: var(--button-hover-fill-color);\n",
              "  }\n",
              "\n",
              "  .colab-df-quickchart-complete:disabled,\n",
              "  .colab-df-quickchart-complete:disabled:hover {\n",
              "    background-color: var(--disabled-bg-color);\n",
              "    fill: var(--disabled-fill-color);\n",
              "    box-shadow: none;\n",
              "  }\n",
              "\n",
              "  .colab-df-spinner {\n",
              "    border: 2px solid var(--fill-color);\n",
              "    border-color: transparent;\n",
              "    border-bottom-color: var(--fill-color);\n",
              "    animation:\n",
              "      spin 1s steps(1) infinite;\n",
              "  }\n",
              "\n",
              "  @keyframes spin {\n",
              "    0% {\n",
              "      border-color: transparent;\n",
              "      border-bottom-color: var(--fill-color);\n",
              "      border-left-color: var(--fill-color);\n",
              "    }\n",
              "    20% {\n",
              "      border-color: transparent;\n",
              "      border-left-color: var(--fill-color);\n",
              "      border-top-color: var(--fill-color);\n",
              "    }\n",
              "    30% {\n",
              "      border-color: transparent;\n",
              "      border-left-color: var(--fill-color);\n",
              "      border-top-color: var(--fill-color);\n",
              "      border-right-color: var(--fill-color);\n",
              "    }\n",
              "    40% {\n",
              "      border-color: transparent;\n",
              "      border-right-color: var(--fill-color);\n",
              "      border-top-color: var(--fill-color);\n",
              "    }\n",
              "    60% {\n",
              "      border-color: transparent;\n",
              "      border-right-color: var(--fill-color);\n",
              "    }\n",
              "    80% {\n",
              "      border-color: transparent;\n",
              "      border-right-color: var(--fill-color);\n",
              "      border-bottom-color: var(--fill-color);\n",
              "    }\n",
              "    90% {\n",
              "      border-color: transparent;\n",
              "      border-bottom-color: var(--fill-color);\n",
              "    }\n",
              "  }\n",
              "</style>\n",
              "\n",
              "  <script>\n",
              "    async function quickchart(key) {\n",
              "      const quickchartButtonEl =\n",
              "        document.querySelector('#' + key + ' button');\n",
              "      quickchartButtonEl.disabled = true;  // To prevent multiple clicks.\n",
              "      quickchartButtonEl.classList.add('colab-df-spinner');\n",
              "      try {\n",
              "        const charts = await google.colab.kernel.invokeFunction(\n",
              "            'suggestCharts', [key], {});\n",
              "      } catch (error) {\n",
              "        console.error('Error during call to suggestCharts:', error);\n",
              "      }\n",
              "      quickchartButtonEl.classList.remove('colab-df-spinner');\n",
              "      quickchartButtonEl.classList.add('colab-df-quickchart-complete');\n",
              "    }\n",
              "    (() => {\n",
              "      let quickchartButtonEl =\n",
              "        document.querySelector('#df-ac6a046f-fed3-403f-9586-a3a260115ef0 button');\n",
              "      quickchartButtonEl.style.display =\n",
              "        google.colab.kernel.accessAllowed ? 'block' : 'none';\n",
              "    })();\n",
              "  </script>\n",
              "</div>\n",
              "\n",
              "    </div>\n",
              "  </div>\n"
            ],
            "text/plain": [
              "                    count          mean           std    min        25%  \\\n",
              "id                 5110.0  36517.829354  21161.721625  67.00  17741.250   \n",
              "age                5110.0     43.226614     22.612647   0.08     25.000   \n",
              "hypertension       5110.0      0.097456      0.296607   0.00      0.000   \n",
              "heart_disease      5110.0      0.054012      0.226063   0.00      0.000   \n",
              "avg_glucose_level  5110.0    106.147677     45.283560  55.12     77.245   \n",
              "bmi                4909.0     28.893237      7.854067  10.30     23.500   \n",
              "stroke             5110.0      0.048728      0.215320   0.00      0.000   \n",
              "\n",
              "                         50%       75%       max  \n",
              "id                 36932.000  54682.00  72940.00  \n",
              "age                   45.000     61.00     82.00  \n",
              "hypertension           0.000      0.00      1.00  \n",
              "heart_disease          0.000      0.00      1.00  \n",
              "avg_glucose_level     91.885    114.09    271.74  \n",
              "bmi                   28.100     33.10     97.60  \n",
              "stroke                 0.000      0.00      1.00  "
            ]
          },
          "execution_count": 7,
          "metadata": {},
          "output_type": "execute_result"
        }
      ],
      "source": [
        "# Menampilkan statistik deskriptif dari dataset\n",
        "df.describe().T"
      ]
    },
    {
      "cell_type": "markdown",
      "metadata": {
        "id": "Hb0ICz-cnKs9"
      },
      "source": [
        "- dari tabel diatas, kita bisa melihat informasi yang ingin diketahui, seperti:"
      ]
    },
    {
      "cell_type": "markdown",
      "metadata": {
        "id": "CbMqeZ7jt4Rj"
      },
      "source": [
        "## Missing Values"
      ]
    },
    {
      "cell_type": "code",
      "execution_count": 8,
      "metadata": {
        "colab": {
          "base_uri": "https://localhost:8080/"
        },
        "id": "FUcIhg1J9Udt",
        "outputId": "07da15c3-05e4-4d10-f2bb-6e0683e471bf"
      },
      "outputs": [
        {
          "data": {
            "text/plain": [
              "id                     0\n",
              "gender                 0\n",
              "age                    0\n",
              "hypertension           0\n",
              "heart_disease          0\n",
              "ever_married           0\n",
              "work_type              0\n",
              "Residence_type         0\n",
              "avg_glucose_level      0\n",
              "bmi                  201\n",
              "smoking_status         0\n",
              "stroke                 0\n",
              "dtype: int64"
            ]
          },
          "execution_count": 8,
          "metadata": {},
          "output_type": "execute_result"
        }
      ],
      "source": [
        "# Menghitung jumlah nilai yang hilang (NaN) di setiap kolom dataframe\n",
        "df.isna().sum()"
      ]
    },
    {
      "cell_type": "markdown",
      "metadata": {
        "id": "3YbJAZs9n_PA"
      },
      "source": [
        "- terdapat 201 data pada `bmi` nilainya kosong/tidak ada"
      ]
    },
    {
      "cell_type": "markdown",
      "metadata": {
        "id": "ar6lni1ot9xj"
      },
      "source": [
        "## Data Describe (Descriptive Statistic for Object Column)"
      ]
    },
    {
      "cell_type": "code",
      "execution_count": 9,
      "metadata": {
        "colab": {
          "base_uri": "https://localhost:8080/",
          "height": 206
        },
        "id": "-jXZQBDd9Szs",
        "outputId": "1e2347f5-246c-4954-a344-99ca7e74710c"
      },
      "outputs": [
        {
          "data": {
            "application/vnd.google.colaboratory.intrinsic+json": {
              "summary": "{\n  \"name\": \"df\",\n  \"rows\": 5,\n  \"fields\": [\n    {\n      \"column\": \"count\",\n      \"properties\": {\n        \"dtype\": \"date\",\n        \"min\": \"5110\",\n        \"max\": \"5110\",\n        \"num_unique_values\": 1,\n        \"samples\": [\n          \"5110\"\n        ],\n        \"semantic_type\": \"\",\n        \"description\": \"\"\n      }\n    },\n    {\n      \"column\": \"unique\",\n      \"properties\": {\n        \"dtype\": \"date\",\n        \"min\": 2,\n        \"max\": 5,\n        \"num_unique_values\": 4,\n        \"samples\": [\n          2\n        ],\n        \"semantic_type\": \"\",\n        \"description\": \"\"\n      }\n    },\n    {\n      \"column\": \"top\",\n      \"properties\": {\n        \"dtype\": \"string\",\n        \"num_unique_values\": 5,\n        \"samples\": [\n          \"Yes\"\n        ],\n        \"semantic_type\": \"\",\n        \"description\": \"\"\n      }\n    },\n    {\n      \"column\": \"freq\",\n      \"properties\": {\n        \"dtype\": \"date\",\n        \"min\": \"1892\",\n        \"max\": \"3353\",\n        \"num_unique_values\": 5,\n        \"samples\": [\n          \"3353\"\n        ],\n        \"semantic_type\": \"\",\n        \"description\": \"\"\n      }\n    }\n  ]\n}",
              "type": "dataframe"
            },
            "text/html": [
              "\n",
              "  <div id=\"df-243d929f-3452-42a5-a574-7be0d9d77544\" class=\"colab-df-container\">\n",
              "    <div>\n",
              "<style scoped>\n",
              "    .dataframe tbody tr th:only-of-type {\n",
              "        vertical-align: middle;\n",
              "    }\n",
              "\n",
              "    .dataframe tbody tr th {\n",
              "        vertical-align: top;\n",
              "    }\n",
              "\n",
              "    .dataframe thead th {\n",
              "        text-align: right;\n",
              "    }\n",
              "</style>\n",
              "<table border=\"1\" class=\"dataframe\">\n",
              "  <thead>\n",
              "    <tr style=\"text-align: right;\">\n",
              "      <th></th>\n",
              "      <th>count</th>\n",
              "      <th>unique</th>\n",
              "      <th>top</th>\n",
              "      <th>freq</th>\n",
              "    </tr>\n",
              "  </thead>\n",
              "  <tbody>\n",
              "    <tr>\n",
              "      <th>gender</th>\n",
              "      <td>5110</td>\n",
              "      <td>3</td>\n",
              "      <td>Female</td>\n",
              "      <td>2994</td>\n",
              "    </tr>\n",
              "    <tr>\n",
              "      <th>ever_married</th>\n",
              "      <td>5110</td>\n",
              "      <td>2</td>\n",
              "      <td>Yes</td>\n",
              "      <td>3353</td>\n",
              "    </tr>\n",
              "    <tr>\n",
              "      <th>work_type</th>\n",
              "      <td>5110</td>\n",
              "      <td>5</td>\n",
              "      <td>Private</td>\n",
              "      <td>2925</td>\n",
              "    </tr>\n",
              "    <tr>\n",
              "      <th>Residence_type</th>\n",
              "      <td>5110</td>\n",
              "      <td>2</td>\n",
              "      <td>Urban</td>\n",
              "      <td>2596</td>\n",
              "    </tr>\n",
              "    <tr>\n",
              "      <th>smoking_status</th>\n",
              "      <td>5110</td>\n",
              "      <td>4</td>\n",
              "      <td>never smoked</td>\n",
              "      <td>1892</td>\n",
              "    </tr>\n",
              "  </tbody>\n",
              "</table>\n",
              "</div>\n",
              "    <div class=\"colab-df-buttons\">\n",
              "\n",
              "  <div class=\"colab-df-container\">\n",
              "    <button class=\"colab-df-convert\" onclick=\"convertToInteractive('df-243d929f-3452-42a5-a574-7be0d9d77544')\"\n",
              "            title=\"Convert this dataframe to an interactive table.\"\n",
              "            style=\"display:none;\">\n",
              "\n",
              "  <svg xmlns=\"http://www.w3.org/2000/svg\" height=\"24px\" viewBox=\"0 -960 960 960\">\n",
              "    <path d=\"M120-120v-720h720v720H120Zm60-500h600v-160H180v160Zm220 220h160v-160H400v160Zm0 220h160v-160H400v160ZM180-400h160v-160H180v160Zm440 0h160v-160H620v160ZM180-180h160v-160H180v160Zm440 0h160v-160H620v160Z\"/>\n",
              "  </svg>\n",
              "    </button>\n",
              "\n",
              "  <style>\n",
              "    .colab-df-container {\n",
              "      display:flex;\n",
              "      gap: 12px;\n",
              "    }\n",
              "\n",
              "    .colab-df-convert {\n",
              "      background-color: #E8F0FE;\n",
              "      border: none;\n",
              "      border-radius: 50%;\n",
              "      cursor: pointer;\n",
              "      display: none;\n",
              "      fill: #1967D2;\n",
              "      height: 32px;\n",
              "      padding: 0 0 0 0;\n",
              "      width: 32px;\n",
              "    }\n",
              "\n",
              "    .colab-df-convert:hover {\n",
              "      background-color: #E2EBFA;\n",
              "      box-shadow: 0px 1px 2px rgba(60, 64, 67, 0.3), 0px 1px 3px 1px rgba(60, 64, 67, 0.15);\n",
              "      fill: #174EA6;\n",
              "    }\n",
              "\n",
              "    .colab-df-buttons div {\n",
              "      margin-bottom: 4px;\n",
              "    }\n",
              "\n",
              "    [theme=dark] .colab-df-convert {\n",
              "      background-color: #3B4455;\n",
              "      fill: #D2E3FC;\n",
              "    }\n",
              "\n",
              "    [theme=dark] .colab-df-convert:hover {\n",
              "      background-color: #434B5C;\n",
              "      box-shadow: 0px 1px 3px 1px rgba(0, 0, 0, 0.15);\n",
              "      filter: drop-shadow(0px 1px 2px rgba(0, 0, 0, 0.3));\n",
              "      fill: #FFFFFF;\n",
              "    }\n",
              "  </style>\n",
              "\n",
              "    <script>\n",
              "      const buttonEl =\n",
              "        document.querySelector('#df-243d929f-3452-42a5-a574-7be0d9d77544 button.colab-df-convert');\n",
              "      buttonEl.style.display =\n",
              "        google.colab.kernel.accessAllowed ? 'block' : 'none';\n",
              "\n",
              "      async function convertToInteractive(key) {\n",
              "        const element = document.querySelector('#df-243d929f-3452-42a5-a574-7be0d9d77544');\n",
              "        const dataTable =\n",
              "          await google.colab.kernel.invokeFunction('convertToInteractive',\n",
              "                                                    [key], {});\n",
              "        if (!dataTable) return;\n",
              "\n",
              "        const docLinkHtml = 'Like what you see? Visit the ' +\n",
              "          '<a target=\"_blank\" href=https://colab.research.google.com/notebooks/data_table.ipynb>data table notebook</a>'\n",
              "          + ' to learn more about interactive tables.';\n",
              "        element.innerHTML = '';\n",
              "        dataTable['output_type'] = 'display_data';\n",
              "        await google.colab.output.renderOutput(dataTable, element);\n",
              "        const docLink = document.createElement('div');\n",
              "        docLink.innerHTML = docLinkHtml;\n",
              "        element.appendChild(docLink);\n",
              "      }\n",
              "    </script>\n",
              "  </div>\n",
              "\n",
              "\n",
              "<div id=\"df-d3baf2a6-126c-45f1-acc6-1079ca0b7381\">\n",
              "  <button class=\"colab-df-quickchart\" onclick=\"quickchart('df-d3baf2a6-126c-45f1-acc6-1079ca0b7381')\"\n",
              "            title=\"Suggest charts\"\n",
              "            style=\"display:none;\">\n",
              "\n",
              "<svg xmlns=\"http://www.w3.org/2000/svg\" height=\"24px\"viewBox=\"0 0 24 24\"\n",
              "     width=\"24px\">\n",
              "    <g>\n",
              "        <path d=\"M19 3H5c-1.1 0-2 .9-2 2v14c0 1.1.9 2 2 2h14c1.1 0 2-.9 2-2V5c0-1.1-.9-2-2-2zM9 17H7v-7h2v7zm4 0h-2V7h2v10zm4 0h-2v-4h2v4z\"/>\n",
              "    </g>\n",
              "</svg>\n",
              "  </button>\n",
              "\n",
              "<style>\n",
              "  .colab-df-quickchart {\n",
              "      --bg-color: #E8F0FE;\n",
              "      --fill-color: #1967D2;\n",
              "      --hover-bg-color: #E2EBFA;\n",
              "      --hover-fill-color: #174EA6;\n",
              "      --disabled-fill-color: #AAA;\n",
              "      --disabled-bg-color: #DDD;\n",
              "  }\n",
              "\n",
              "  [theme=dark] .colab-df-quickchart {\n",
              "      --bg-color: #3B4455;\n",
              "      --fill-color: #D2E3FC;\n",
              "      --hover-bg-color: #434B5C;\n",
              "      --hover-fill-color: #FFFFFF;\n",
              "      --disabled-bg-color: #3B4455;\n",
              "      --disabled-fill-color: #666;\n",
              "  }\n",
              "\n",
              "  .colab-df-quickchart {\n",
              "    background-color: var(--bg-color);\n",
              "    border: none;\n",
              "    border-radius: 50%;\n",
              "    cursor: pointer;\n",
              "    display: none;\n",
              "    fill: var(--fill-color);\n",
              "    height: 32px;\n",
              "    padding: 0;\n",
              "    width: 32px;\n",
              "  }\n",
              "\n",
              "  .colab-df-quickchart:hover {\n",
              "    background-color: var(--hover-bg-color);\n",
              "    box-shadow: 0 1px 2px rgba(60, 64, 67, 0.3), 0 1px 3px 1px rgba(60, 64, 67, 0.15);\n",
              "    fill: var(--button-hover-fill-color);\n",
              "  }\n",
              "\n",
              "  .colab-df-quickchart-complete:disabled,\n",
              "  .colab-df-quickchart-complete:disabled:hover {\n",
              "    background-color: var(--disabled-bg-color);\n",
              "    fill: var(--disabled-fill-color);\n",
              "    box-shadow: none;\n",
              "  }\n",
              "\n",
              "  .colab-df-spinner {\n",
              "    border: 2px solid var(--fill-color);\n",
              "    border-color: transparent;\n",
              "    border-bottom-color: var(--fill-color);\n",
              "    animation:\n",
              "      spin 1s steps(1) infinite;\n",
              "  }\n",
              "\n",
              "  @keyframes spin {\n",
              "    0% {\n",
              "      border-color: transparent;\n",
              "      border-bottom-color: var(--fill-color);\n",
              "      border-left-color: var(--fill-color);\n",
              "    }\n",
              "    20% {\n",
              "      border-color: transparent;\n",
              "      border-left-color: var(--fill-color);\n",
              "      border-top-color: var(--fill-color);\n",
              "    }\n",
              "    30% {\n",
              "      border-color: transparent;\n",
              "      border-left-color: var(--fill-color);\n",
              "      border-top-color: var(--fill-color);\n",
              "      border-right-color: var(--fill-color);\n",
              "    }\n",
              "    40% {\n",
              "      border-color: transparent;\n",
              "      border-right-color: var(--fill-color);\n",
              "      border-top-color: var(--fill-color);\n",
              "    }\n",
              "    60% {\n",
              "      border-color: transparent;\n",
              "      border-right-color: var(--fill-color);\n",
              "    }\n",
              "    80% {\n",
              "      border-color: transparent;\n",
              "      border-right-color: var(--fill-color);\n",
              "      border-bottom-color: var(--fill-color);\n",
              "    }\n",
              "    90% {\n",
              "      border-color: transparent;\n",
              "      border-bottom-color: var(--fill-color);\n",
              "    }\n",
              "  }\n",
              "</style>\n",
              "\n",
              "  <script>\n",
              "    async function quickchart(key) {\n",
              "      const quickchartButtonEl =\n",
              "        document.querySelector('#' + key + ' button');\n",
              "      quickchartButtonEl.disabled = true;  // To prevent multiple clicks.\n",
              "      quickchartButtonEl.classList.add('colab-df-spinner');\n",
              "      try {\n",
              "        const charts = await google.colab.kernel.invokeFunction(\n",
              "            'suggestCharts', [key], {});\n",
              "      } catch (error) {\n",
              "        console.error('Error during call to suggestCharts:', error);\n",
              "      }\n",
              "      quickchartButtonEl.classList.remove('colab-df-spinner');\n",
              "      quickchartButtonEl.classList.add('colab-df-quickchart-complete');\n",
              "    }\n",
              "    (() => {\n",
              "      let quickchartButtonEl =\n",
              "        document.querySelector('#df-d3baf2a6-126c-45f1-acc6-1079ca0b7381 button');\n",
              "      quickchartButtonEl.style.display =\n",
              "        google.colab.kernel.accessAllowed ? 'block' : 'none';\n",
              "    })();\n",
              "  </script>\n",
              "</div>\n",
              "\n",
              "    </div>\n",
              "  </div>\n"
            ],
            "text/plain": [
              "               count unique           top  freq\n",
              "gender          5110      3        Female  2994\n",
              "ever_married    5110      2           Yes  3353\n",
              "work_type       5110      5       Private  2925\n",
              "Residence_type  5110      2         Urban  2596\n",
              "smoking_status  5110      4  never smoked  1892"
            ]
          },
          "execution_count": 9,
          "metadata": {},
          "output_type": "execute_result"
        }
      ],
      "source": [
        "# Menampilkan ringkasan statistik untuk kolom-kolom kategorikal dalam DataFrame dan mentransposenya\n",
        "df.describe(include='object').T"
      ]
    },
    {
      "cell_type": "markdown",
      "metadata": {
        "id": "wHQDTgbzmCnV"
      },
      "source": [
        "- dari tabel diatas, kita bisa melihat informasi yang ingin diketahui, seperti:"
      ]
    },
    {
      "cell_type": "markdown",
      "metadata": {
        "id": "YbfW50ScuIWk"
      },
      "source": [
        "## Data Duplicated"
      ]
    },
    {
      "cell_type": "code",
      "execution_count": 10,
      "metadata": {
        "colab": {
          "base_uri": "https://localhost:8080/"
        },
        "id": "JV5QdVFM9XCk",
        "outputId": "775f570e-f58e-4c36-bc5b-f1de5ee472d3"
      },
      "outputs": [
        {
          "name": "stdout",
          "output_type": "stream",
          "text": [
            "Jumlah duplikat dalam DataFrame: 0\n"
          ]
        }
      ],
      "source": [
        "# Menghitung jumlah baris yang merupakan duplikat dalam dataframe df\n",
        "df.duplicated().sum()\n",
        "\n",
        "# Menampilkan jumlah baris duplikat\n",
        "print('Jumlah duplikat dalam DataFrame:', df.duplicated().sum())"
      ]
    },
    {
      "cell_type": "markdown",
      "metadata": {
        "id": "JmP7Xtc0nUZt"
      },
      "source": [
        "- tidak terdapat duplikat pada data"
      ]
    },
    {
      "cell_type": "markdown",
      "metadata": {
        "id": "Otnxyii9uK_j"
      },
      "source": [
        "## Data Shape"
      ]
    },
    {
      "cell_type": "code",
      "execution_count": 11,
      "metadata": {
        "colab": {
          "base_uri": "https://localhost:8080/"
        },
        "id": "TTPNW_6p9dS1",
        "outputId": "f5cd1aba-76f5-4514-a1b0-c333add7cd3a"
      },
      "outputs": [
        {
          "name": "stdout",
          "output_type": "stream",
          "text": [
            "Jumlah baris dalam DataFrame: 5110\n",
            "Jumlah kolom dalam DataFrame: 12\n"
          ]
        }
      ],
      "source": [
        "# Menampilkan jumlah baris dan kolom dalam dataframe\n",
        "df.shape\n",
        "\n",
        "# Menampilkan jumlah baris dan kolom dalam DataFrame\n",
        "print(\"Jumlah baris dalam DataFrame:\", df.shape[0])\n",
        "print(\"Jumlah kolom dalam DataFrame:\", df.shape[1])"
      ]
    },
    {
      "cell_type": "markdown",
      "metadata": {
        "id": "oDkurYuEKpwX"
      },
      "source": [
        "- kita telah mengetahui jumlah baris dan kolom pada dataset"
      ]
    },
    {
      "cell_type": "markdown",
      "metadata": {
        "id": "Hp6nJiiw6JgU"
      },
      "source": [
        "# **EXPLORATORY DATA ANALYSIS** (EDA)"
      ]
    },
    {
      "cell_type": "code",
      "execution_count": 12,
      "metadata": {
        "colab": {
          "base_uri": "https://localhost:8080/",
          "height": 400
        },
        "id": "H_1mEXM58Q0q",
        "outputId": "d185b1aa-ab52-4cd7-910d-3c49f9b1d5ab"
      },
      "outputs": [
        {
          "name": "stdout",
          "output_type": "stream",
          "text": [
            "\n",
            "10 Data Pertama setelah kolom 'id' dihapus:\n"
          ]
        },
        {
          "data": {
            "application/vnd.google.colaboratory.intrinsic+json": {
              "summary": "{\n  \"name\": \"df\",\n  \"rows\": 10,\n  \"fields\": [\n    {\n      \"column\": \"gender\",\n      \"properties\": {\n        \"dtype\": \"category\",\n        \"num_unique_values\": 2,\n        \"samples\": [\n          \"Male\",\n          \"Female\"\n        ],\n        \"semantic_type\": \"\",\n        \"description\": \"\"\n      }\n    },\n    {\n      \"column\": \"age\",\n      \"properties\": {\n        \"dtype\": \"number\",\n        \"std\": 22.03255167549445,\n        \"min\": 11.0,\n        \"max\": 78.0,\n        \"num_unique_values\": 10,\n        \"samples\": [\n          78.0,\n          37.0\n        ],\n        \"semantic_type\": \"\",\n        \"description\": \"\"\n      }\n    },\n    {\n      \"column\": \"hypertension\",\n      \"properties\": {\n        \"dtype\": \"number\",\n        \"std\": 0,\n        \"min\": 0,\n        \"max\": 0,\n        \"num_unique_values\": 1,\n        \"samples\": [\n          0\n        ],\n        \"semantic_type\": \"\",\n        \"description\": \"\"\n      }\n    },\n    {\n      \"column\": \"heart_disease\",\n      \"properties\": {\n        \"dtype\": \"number\",\n        \"std\": 0,\n        \"min\": 0,\n        \"max\": 0,\n        \"num_unique_values\": 1,\n        \"samples\": [\n          0\n        ],\n        \"semantic_type\": \"\",\n        \"description\": \"\"\n      }\n    },\n    {\n      \"column\": \"ever_married\",\n      \"properties\": {\n        \"dtype\": \"category\",\n        \"num_unique_values\": 2,\n        \"samples\": [\n          \"No\"\n        ],\n        \"semantic_type\": \"\",\n        \"description\": \"\"\n      }\n    },\n    {\n      \"column\": \"work_type\",\n      \"properties\": {\n        \"dtype\": \"category\",\n        \"num_unique_values\": 4,\n        \"samples\": [\n          \"Govt_job\"\n        ],\n        \"semantic_type\": \"\",\n        \"description\": \"\"\n      }\n    },\n    {\n      \"column\": \"Residence_type\",\n      \"properties\": {\n        \"dtype\": \"category\",\n        \"num_unique_values\": 2,\n        \"samples\": [\n          \"Rural\"\n        ],\n        \"semantic_type\": \"\",\n        \"description\": \"\"\n      }\n    },\n    {\n      \"column\": \"avg_glucose_level\",\n      \"properties\": {\n        \"dtype\": \"number\",\n        \"std\": 44.7736815551279,\n        \"min\": 76.74,\n        \"max\": 208.99,\n        \"num_unique_values\": 10,\n        \"samples\": [\n          208.99\n        ],\n        \"semantic_type\": \"\",\n        \"description\": \"\"\n      }\n    },\n    {\n      \"column\": \"bmi\",\n      \"properties\": {\n        \"dtype\": \"number\",\n        \"std\": 5.358871149785187,\n        \"min\": 19.1,\n        \"max\": 35.7,\n        \"num_unique_values\": 8,\n        \"samples\": [\n          35.7\n        ],\n        \"semantic_type\": \"\",\n        \"description\": \"\"\n      }\n    },\n    {\n      \"column\": \"smoking_status\",\n      \"properties\": {\n        \"dtype\": \"category\",\n        \"num_unique_values\": 4,\n        \"samples\": [\n          \"smokes\"\n        ],\n        \"semantic_type\": \"\",\n        \"description\": \"\"\n      }\n    },\n    {\n      \"column\": \"stroke\",\n      \"properties\": {\n        \"dtype\": \"number\",\n        \"std\": 0,\n        \"min\": 0,\n        \"max\": 1,\n        \"num_unique_values\": 2,\n        \"samples\": [\n          1\n        ],\n        \"semantic_type\": \"\",\n        \"description\": \"\"\n      }\n    }\n  ]\n}",
              "type": "dataframe"
            },
            "text/html": [
              "\n",
              "  <div id=\"df-5c6f6ca2-ccd8-4e0e-8506-73b9c61f7773\" class=\"colab-df-container\">\n",
              "    <div>\n",
              "<style scoped>\n",
              "    .dataframe tbody tr th:only-of-type {\n",
              "        vertical-align: middle;\n",
              "    }\n",
              "\n",
              "    .dataframe tbody tr th {\n",
              "        vertical-align: top;\n",
              "    }\n",
              "\n",
              "    .dataframe thead th {\n",
              "        text-align: right;\n",
              "    }\n",
              "</style>\n",
              "<table border=\"1\" class=\"dataframe\">\n",
              "  <thead>\n",
              "    <tr style=\"text-align: right;\">\n",
              "      <th></th>\n",
              "      <th>gender</th>\n",
              "      <th>age</th>\n",
              "      <th>hypertension</th>\n",
              "      <th>heart_disease</th>\n",
              "      <th>ever_married</th>\n",
              "      <th>work_type</th>\n",
              "      <th>Residence_type</th>\n",
              "      <th>avg_glucose_level</th>\n",
              "      <th>bmi</th>\n",
              "      <th>smoking_status</th>\n",
              "      <th>stroke</th>\n",
              "    </tr>\n",
              "  </thead>\n",
              "  <tbody>\n",
              "    <tr>\n",
              "      <th>3759</th>\n",
              "      <td>Female</td>\n",
              "      <td>62.0</td>\n",
              "      <td>0</td>\n",
              "      <td>0</td>\n",
              "      <td>Yes</td>\n",
              "      <td>Private</td>\n",
              "      <td>Urban</td>\n",
              "      <td>101.19</td>\n",
              "      <td>23.4</td>\n",
              "      <td>never smoked</td>\n",
              "      <td>0</td>\n",
              "    </tr>\n",
              "    <tr>\n",
              "      <th>3349</th>\n",
              "      <td>Male</td>\n",
              "      <td>37.0</td>\n",
              "      <td>0</td>\n",
              "      <td>0</td>\n",
              "      <td>Yes</td>\n",
              "      <td>Govt_job</td>\n",
              "      <td>Urban</td>\n",
              "      <td>82.09</td>\n",
              "      <td>35.7</td>\n",
              "      <td>smokes</td>\n",
              "      <td>0</td>\n",
              "    </tr>\n",
              "    <tr>\n",
              "      <th>3774</th>\n",
              "      <td>Female</td>\n",
              "      <td>11.0</td>\n",
              "      <td>0</td>\n",
              "      <td>0</td>\n",
              "      <td>No</td>\n",
              "      <td>children</td>\n",
              "      <td>Urban</td>\n",
              "      <td>76.74</td>\n",
              "      <td>19.1</td>\n",
              "      <td>Unknown</td>\n",
              "      <td>0</td>\n",
              "    </tr>\n",
              "    <tr>\n",
              "      <th>2512</th>\n",
              "      <td>Female</td>\n",
              "      <td>58.0</td>\n",
              "      <td>0</td>\n",
              "      <td>0</td>\n",
              "      <td>Yes</td>\n",
              "      <td>Private</td>\n",
              "      <td>Rural</td>\n",
              "      <td>127.32</td>\n",
              "      <td>33.1</td>\n",
              "      <td>smokes</td>\n",
              "      <td>0</td>\n",
              "    </tr>\n",
              "    <tr>\n",
              "      <th>1181</th>\n",
              "      <td>Female</td>\n",
              "      <td>32.0</td>\n",
              "      <td>0</td>\n",
              "      <td>0</td>\n",
              "      <td>No</td>\n",
              "      <td>Private</td>\n",
              "      <td>Urban</td>\n",
              "      <td>79.34</td>\n",
              "      <td>26.5</td>\n",
              "      <td>formerly smoked</td>\n",
              "      <td>0</td>\n",
              "    </tr>\n",
              "    <tr>\n",
              "      <th>78</th>\n",
              "      <td>Female</td>\n",
              "      <td>51.0</td>\n",
              "      <td>0</td>\n",
              "      <td>0</td>\n",
              "      <td>Yes</td>\n",
              "      <td>Private</td>\n",
              "      <td>Urban</td>\n",
              "      <td>165.31</td>\n",
              "      <td>NaN</td>\n",
              "      <td>never smoked</td>\n",
              "      <td>1</td>\n",
              "    </tr>\n",
              "    <tr>\n",
              "      <th>2064</th>\n",
              "      <td>Male</td>\n",
              "      <td>73.0</td>\n",
              "      <td>0</td>\n",
              "      <td>0</td>\n",
              "      <td>Yes</td>\n",
              "      <td>Private</td>\n",
              "      <td>Rural</td>\n",
              "      <td>82.13</td>\n",
              "      <td>28.5</td>\n",
              "      <td>never smoked</td>\n",
              "      <td>0</td>\n",
              "    </tr>\n",
              "    <tr>\n",
              "      <th>663</th>\n",
              "      <td>Female</td>\n",
              "      <td>38.0</td>\n",
              "      <td>0</td>\n",
              "      <td>0</td>\n",
              "      <td>Yes</td>\n",
              "      <td>Private</td>\n",
              "      <td>Rural</td>\n",
              "      <td>98.73</td>\n",
              "      <td>24.3</td>\n",
              "      <td>never smoked</td>\n",
              "      <td>0</td>\n",
              "    </tr>\n",
              "    <tr>\n",
              "      <th>4129</th>\n",
              "      <td>Female</td>\n",
              "      <td>78.0</td>\n",
              "      <td>0</td>\n",
              "      <td>0</td>\n",
              "      <td>Yes</td>\n",
              "      <td>Self-employed</td>\n",
              "      <td>Rural</td>\n",
              "      <td>208.99</td>\n",
              "      <td>31.4</td>\n",
              "      <td>formerly smoked</td>\n",
              "      <td>0</td>\n",
              "    </tr>\n",
              "    <tr>\n",
              "      <th>1931</th>\n",
              "      <td>Female</td>\n",
              "      <td>21.0</td>\n",
              "      <td>0</td>\n",
              "      <td>0</td>\n",
              "      <td>Yes</td>\n",
              "      <td>Private</td>\n",
              "      <td>Rural</td>\n",
              "      <td>149.90</td>\n",
              "      <td>23.4</td>\n",
              "      <td>Unknown</td>\n",
              "      <td>0</td>\n",
              "    </tr>\n",
              "  </tbody>\n",
              "</table>\n",
              "</div>\n",
              "    <div class=\"colab-df-buttons\">\n",
              "\n",
              "  <div class=\"colab-df-container\">\n",
              "    <button class=\"colab-df-convert\" onclick=\"convertToInteractive('df-5c6f6ca2-ccd8-4e0e-8506-73b9c61f7773')\"\n",
              "            title=\"Convert this dataframe to an interactive table.\"\n",
              "            style=\"display:none;\">\n",
              "\n",
              "  <svg xmlns=\"http://www.w3.org/2000/svg\" height=\"24px\" viewBox=\"0 -960 960 960\">\n",
              "    <path d=\"M120-120v-720h720v720H120Zm60-500h600v-160H180v160Zm220 220h160v-160H400v160Zm0 220h160v-160H400v160ZM180-400h160v-160H180v160Zm440 0h160v-160H620v160ZM180-180h160v-160H180v160Zm440 0h160v-160H620v160Z\"/>\n",
              "  </svg>\n",
              "    </button>\n",
              "\n",
              "  <style>\n",
              "    .colab-df-container {\n",
              "      display:flex;\n",
              "      gap: 12px;\n",
              "    }\n",
              "\n",
              "    .colab-df-convert {\n",
              "      background-color: #E8F0FE;\n",
              "      border: none;\n",
              "      border-radius: 50%;\n",
              "      cursor: pointer;\n",
              "      display: none;\n",
              "      fill: #1967D2;\n",
              "      height: 32px;\n",
              "      padding: 0 0 0 0;\n",
              "      width: 32px;\n",
              "    }\n",
              "\n",
              "    .colab-df-convert:hover {\n",
              "      background-color: #E2EBFA;\n",
              "      box-shadow: 0px 1px 2px rgba(60, 64, 67, 0.3), 0px 1px 3px 1px rgba(60, 64, 67, 0.15);\n",
              "      fill: #174EA6;\n",
              "    }\n",
              "\n",
              "    .colab-df-buttons div {\n",
              "      margin-bottom: 4px;\n",
              "    }\n",
              "\n",
              "    [theme=dark] .colab-df-convert {\n",
              "      background-color: #3B4455;\n",
              "      fill: #D2E3FC;\n",
              "    }\n",
              "\n",
              "    [theme=dark] .colab-df-convert:hover {\n",
              "      background-color: #434B5C;\n",
              "      box-shadow: 0px 1px 3px 1px rgba(0, 0, 0, 0.15);\n",
              "      filter: drop-shadow(0px 1px 2px rgba(0, 0, 0, 0.3));\n",
              "      fill: #FFFFFF;\n",
              "    }\n",
              "  </style>\n",
              "\n",
              "    <script>\n",
              "      const buttonEl =\n",
              "        document.querySelector('#df-5c6f6ca2-ccd8-4e0e-8506-73b9c61f7773 button.colab-df-convert');\n",
              "      buttonEl.style.display =\n",
              "        google.colab.kernel.accessAllowed ? 'block' : 'none';\n",
              "\n",
              "      async function convertToInteractive(key) {\n",
              "        const element = document.querySelector('#df-5c6f6ca2-ccd8-4e0e-8506-73b9c61f7773');\n",
              "        const dataTable =\n",
              "          await google.colab.kernel.invokeFunction('convertToInteractive',\n",
              "                                                    [key], {});\n",
              "        if (!dataTable) return;\n",
              "\n",
              "        const docLinkHtml = 'Like what you see? Visit the ' +\n",
              "          '<a target=\"_blank\" href=https://colab.research.google.com/notebooks/data_table.ipynb>data table notebook</a>'\n",
              "          + ' to learn more about interactive tables.';\n",
              "        element.innerHTML = '';\n",
              "        dataTable['output_type'] = 'display_data';\n",
              "        await google.colab.output.renderOutput(dataTable, element);\n",
              "        const docLink = document.createElement('div');\n",
              "        docLink.innerHTML = docLinkHtml;\n",
              "        element.appendChild(docLink);\n",
              "      }\n",
              "    </script>\n",
              "  </div>\n",
              "\n",
              "\n",
              "<div id=\"df-d1d33925-40a9-4e4c-b032-bc641fac5f07\">\n",
              "  <button class=\"colab-df-quickchart\" onclick=\"quickchart('df-d1d33925-40a9-4e4c-b032-bc641fac5f07')\"\n",
              "            title=\"Suggest charts\"\n",
              "            style=\"display:none;\">\n",
              "\n",
              "<svg xmlns=\"http://www.w3.org/2000/svg\" height=\"24px\"viewBox=\"0 0 24 24\"\n",
              "     width=\"24px\">\n",
              "    <g>\n",
              "        <path d=\"M19 3H5c-1.1 0-2 .9-2 2v14c0 1.1.9 2 2 2h14c1.1 0 2-.9 2-2V5c0-1.1-.9-2-2-2zM9 17H7v-7h2v7zm4 0h-2V7h2v10zm4 0h-2v-4h2v4z\"/>\n",
              "    </g>\n",
              "</svg>\n",
              "  </button>\n",
              "\n",
              "<style>\n",
              "  .colab-df-quickchart {\n",
              "      --bg-color: #E8F0FE;\n",
              "      --fill-color: #1967D2;\n",
              "      --hover-bg-color: #E2EBFA;\n",
              "      --hover-fill-color: #174EA6;\n",
              "      --disabled-fill-color: #AAA;\n",
              "      --disabled-bg-color: #DDD;\n",
              "  }\n",
              "\n",
              "  [theme=dark] .colab-df-quickchart {\n",
              "      --bg-color: #3B4455;\n",
              "      --fill-color: #D2E3FC;\n",
              "      --hover-bg-color: #434B5C;\n",
              "      --hover-fill-color: #FFFFFF;\n",
              "      --disabled-bg-color: #3B4455;\n",
              "      --disabled-fill-color: #666;\n",
              "  }\n",
              "\n",
              "  .colab-df-quickchart {\n",
              "    background-color: var(--bg-color);\n",
              "    border: none;\n",
              "    border-radius: 50%;\n",
              "    cursor: pointer;\n",
              "    display: none;\n",
              "    fill: var(--fill-color);\n",
              "    height: 32px;\n",
              "    padding: 0;\n",
              "    width: 32px;\n",
              "  }\n",
              "\n",
              "  .colab-df-quickchart:hover {\n",
              "    background-color: var(--hover-bg-color);\n",
              "    box-shadow: 0 1px 2px rgba(60, 64, 67, 0.3), 0 1px 3px 1px rgba(60, 64, 67, 0.15);\n",
              "    fill: var(--button-hover-fill-color);\n",
              "  }\n",
              "\n",
              "  .colab-df-quickchart-complete:disabled,\n",
              "  .colab-df-quickchart-complete:disabled:hover {\n",
              "    background-color: var(--disabled-bg-color);\n",
              "    fill: var(--disabled-fill-color);\n",
              "    box-shadow: none;\n",
              "  }\n",
              "\n",
              "  .colab-df-spinner {\n",
              "    border: 2px solid var(--fill-color);\n",
              "    border-color: transparent;\n",
              "    border-bottom-color: var(--fill-color);\n",
              "    animation:\n",
              "      spin 1s steps(1) infinite;\n",
              "  }\n",
              "\n",
              "  @keyframes spin {\n",
              "    0% {\n",
              "      border-color: transparent;\n",
              "      border-bottom-color: var(--fill-color);\n",
              "      border-left-color: var(--fill-color);\n",
              "    }\n",
              "    20% {\n",
              "      border-color: transparent;\n",
              "      border-left-color: var(--fill-color);\n",
              "      border-top-color: var(--fill-color);\n",
              "    }\n",
              "    30% {\n",
              "      border-color: transparent;\n",
              "      border-left-color: var(--fill-color);\n",
              "      border-top-color: var(--fill-color);\n",
              "      border-right-color: var(--fill-color);\n",
              "    }\n",
              "    40% {\n",
              "      border-color: transparent;\n",
              "      border-right-color: var(--fill-color);\n",
              "      border-top-color: var(--fill-color);\n",
              "    }\n",
              "    60% {\n",
              "      border-color: transparent;\n",
              "      border-right-color: var(--fill-color);\n",
              "    }\n",
              "    80% {\n",
              "      border-color: transparent;\n",
              "      border-right-color: var(--fill-color);\n",
              "      border-bottom-color: var(--fill-color);\n",
              "    }\n",
              "    90% {\n",
              "      border-color: transparent;\n",
              "      border-bottom-color: var(--fill-color);\n",
              "    }\n",
              "  }\n",
              "</style>\n",
              "\n",
              "  <script>\n",
              "    async function quickchart(key) {\n",
              "      const quickchartButtonEl =\n",
              "        document.querySelector('#' + key + ' button');\n",
              "      quickchartButtonEl.disabled = true;  // To prevent multiple clicks.\n",
              "      quickchartButtonEl.classList.add('colab-df-spinner');\n",
              "      try {\n",
              "        const charts = await google.colab.kernel.invokeFunction(\n",
              "            'suggestCharts', [key], {});\n",
              "      } catch (error) {\n",
              "        console.error('Error during call to suggestCharts:', error);\n",
              "      }\n",
              "      quickchartButtonEl.classList.remove('colab-df-spinner');\n",
              "      quickchartButtonEl.classList.add('colab-df-quickchart-complete');\n",
              "    }\n",
              "    (() => {\n",
              "      let quickchartButtonEl =\n",
              "        document.querySelector('#df-d1d33925-40a9-4e4c-b032-bc641fac5f07 button');\n",
              "      quickchartButtonEl.style.display =\n",
              "        google.colab.kernel.accessAllowed ? 'block' : 'none';\n",
              "    })();\n",
              "  </script>\n",
              "</div>\n",
              "\n",
              "    </div>\n",
              "  </div>\n"
            ],
            "text/plain": [
              "      gender   age  hypertension  heart_disease ever_married      work_type  \\\n",
              "3759  Female  62.0             0              0          Yes        Private   \n",
              "3349    Male  37.0             0              0          Yes       Govt_job   \n",
              "3774  Female  11.0             0              0           No       children   \n",
              "2512  Female  58.0             0              0          Yes        Private   \n",
              "1181  Female  32.0             0              0           No        Private   \n",
              "78    Female  51.0             0              0          Yes        Private   \n",
              "2064    Male  73.0             0              0          Yes        Private   \n",
              "663   Female  38.0             0              0          Yes        Private   \n",
              "4129  Female  78.0             0              0          Yes  Self-employed   \n",
              "1931  Female  21.0             0              0          Yes        Private   \n",
              "\n",
              "     Residence_type  avg_glucose_level   bmi   smoking_status  stroke  \n",
              "3759          Urban             101.19  23.4     never smoked       0  \n",
              "3349          Urban              82.09  35.7           smokes       0  \n",
              "3774          Urban              76.74  19.1          Unknown       0  \n",
              "2512          Rural             127.32  33.1           smokes       0  \n",
              "1181          Urban              79.34  26.5  formerly smoked       0  \n",
              "78            Urban             165.31   NaN     never smoked       1  \n",
              "2064          Rural              82.13  28.5     never smoked       0  \n",
              "663           Rural              98.73  24.3     never smoked       0  \n",
              "4129          Rural             208.99  31.4  formerly smoked       0  \n",
              "1931          Rural             149.90  23.4          Unknown       0  "
            ]
          },
          "execution_count": 12,
          "metadata": {},
          "output_type": "execute_result"
        }
      ],
      "source": [
        "# Menghapus kolom \"id\" dari DataFrame df\n",
        "df.drop(\"id\", axis=1, inplace=True)\n",
        "\n",
        "# Menampilkan 10 data pertama setelah kolom \"id\" dihapus\n",
        "print(\"\\n10 Data Pertama setelah kolom 'id' dihapus:\")\n",
        "df.sample(10)"
      ]
    },
    {
      "cell_type": "markdown",
      "metadata": {
        "id": "WtQndVRFh7wa"
      },
      "source": [
        "## Missing Value Analysis"
      ]
    },
    {
      "cell_type": "code",
      "execution_count": 13,
      "metadata": {
        "colab": {
          "base_uri": "https://localhost:8080/"
        },
        "id": "NNsjUoGoj7Rw",
        "outputId": "75403ca8-3f1b-43b0-8a33-3d02c69f8638"
      },
      "outputs": [
        {
          "name": "stdout",
          "output_type": "stream",
          "text": [
            "Persentase nilai yang hilang: 0.36%\n"
          ]
        }
      ],
      "source": [
        "# Menghitung persentase nilai yang hilang dalam DataFrame df\n",
        "missing_percentage = df.isna().sum().sum() / (df.shape[0] * df.shape[1]) * 100\n",
        "print(f'Persentase nilai yang hilang: {missing_percentage:.2f}%')"
      ]
    },
    {
      "cell_type": "markdown",
      "metadata": {
        "id": "kbMUmHnFkNgo"
      },
      "source": [
        "- Persentase missing value pada dataset sebesar `3.93%`"
      ]
    },
    {
      "cell_type": "code",
      "execution_count": 14,
      "metadata": {
        "colab": {
          "base_uri": "https://localhost:8080/"
        },
        "id": "6WejrOazizlj",
        "outputId": "30c30773-c5c3-4a37-d7c3-5ea0aaf87711"
      },
      "outputs": [
        {
          "name": "stdout",
          "output_type": "stream",
          "text": [
            "gender\n",
            "Male      104\n",
            "Female     97\n",
            "Name: count, dtype: int64\n",
            "------------------------------\n",
            "age\n",
            "78.0    9\n",
            "79.0    8\n",
            "76.0    8\n",
            "71.0    8\n",
            "61.0    6\n",
            "       ..\n",
            "7.0     1\n",
            "27.0    1\n",
            "46.0    1\n",
            "6.0     1\n",
            "18.0    1\n",
            "Name: count, Length: 73, dtype: int64\n",
            "------------------------------\n",
            "hypertension\n",
            "0    154\n",
            "1     47\n",
            "Name: count, dtype: int64\n",
            "------------------------------\n",
            "heart_disease\n",
            "0    168\n",
            "1     33\n",
            "Name: count, dtype: int64\n",
            "------------------------------\n",
            "ever_married\n",
            "Yes    149\n",
            "No      52\n",
            "Name: count, dtype: int64\n",
            "------------------------------\n",
            "work_type\n",
            "Private          114\n",
            "Self-employed     44\n",
            "Govt_job          27\n",
            "children          16\n",
            "Name: count, dtype: int64\n",
            "------------------------------\n",
            "Residence_type\n",
            "Urban    106\n",
            "Rural     95\n",
            "Name: count, dtype: int64\n",
            "------------------------------\n",
            "avg_glucose_level\n",
            "88.27     2\n",
            "101.45    2\n",
            "202.21    1\n",
            "69.35     1\n",
            "67.02     1\n",
            "         ..\n",
            "72.09     1\n",
            "78.29     1\n",
            "191.79    1\n",
            "163.56    1\n",
            "83.75     1\n",
            "Name: count, Length: 199, dtype: int64\n",
            "------------------------------\n",
            "Series([], Name: count, dtype: int64)\n",
            "------------------------------\n",
            "smoking_status\n",
            "Unknown            61\n",
            "smokes             52\n",
            "formerly smoked    48\n",
            "never smoked       40\n",
            "Name: count, dtype: int64\n",
            "------------------------------\n",
            "stroke\n",
            "0    161\n",
            "1     40\n",
            "Name: count, dtype: int64\n",
            "------------------------------\n"
          ]
        }
      ],
      "source": [
        "# melakukan looping untuk mengetahui pola pada seluruh kolom dataset\n",
        "for i in df.columns:\n",
        "  print(df[df['bmi'].isna()][i].value_counts())\n",
        "  print(\"-\"*30)"
      ]
    },
    {
      "cell_type": "markdown",
      "metadata": {
        "id": "MIs0aXtUkecO"
      },
      "source": [
        "- setelah dilakukan analisa, ternyata tidak terdapat pola pada tiap kolom yang ada pada dataset. artinya termasuk kedalam **MAR (Missing at Random)**\n",
        "\n",
        "- selanjutnya data akan di-imputasi menggunakan central tendency yang memiliki 3 pilihan (Modus untuk distribusi data yang normal, sedangkan mean dan median untuk distribusi data tidak normal)\n",
        "\n",
        "- seletah itu dilakukan melakukan pengecekan nilai skewness pada kolom 'bmi'"
      ]
    },
    {
      "cell_type": "code",
      "execution_count": 15,
      "metadata": {
        "colab": {
          "base_uri": "https://localhost:8080/"
        },
        "id": "JBRRo0MBk4R8",
        "outputId": "a473b988-3c55-47d2-cf0a-40674fcafead"
      },
      "outputs": [
        {
          "data": {
            "text/plain": [
              "1.0553402052962912"
            ]
          },
          "execution_count": 15,
          "metadata": {},
          "output_type": "execute_result"
        }
      ],
      "source": [
        "# cek skewness pada kolom 'bmi'\n",
        "df.bmi.skew()"
      ]
    },
    {
      "cell_type": "markdown",
      "metadata": {
        "id": "XhwOKgXElB1k"
      },
      "source": [
        "- nilai skewness diatas 0,5, artinya tidak normal\n",
        "- nilai yang hilang (NaN) pada kolom 'bmi' diganti denga nilai modus"
      ]
    },
    {
      "cell_type": "code",
      "execution_count": 16,
      "metadata": {
        "colab": {
          "base_uri": "https://localhost:8080/"
        },
        "id": "le0XuhdymjiB",
        "outputId": "92b0bb59-0b15-4887-9a29-73947c120f76"
      },
      "outputs": [
        {
          "data": {
            "text/plain": [
              "28.7"
            ]
          },
          "execution_count": 16,
          "metadata": {},
          "output_type": "execute_result"
        }
      ],
      "source": [
        "# Cek nilai modus pada kolom 'bmi'\n",
        "df.bmi.mode().values[0]"
      ]
    },
    {
      "cell_type": "markdown",
      "metadata": {
        "id": "llniXPR2mspO"
      },
      "source": [
        "- seletah mengetahui nilai modus pada kolom 'bmi', nilai tersebut akan digunakan pada proses analisa selanjutnya"
      ]
    },
    {
      "cell_type": "code",
      "execution_count": 17,
      "metadata": {
        "colab": {
          "base_uri": "https://localhost:8080/",
          "height": 206
        },
        "id": "7wKae7rhh_mb",
        "outputId": "cf2f2de9-4c50-4e6a-e7b6-7bce41361b2e"
      },
      "outputs": [
        {
          "data": {
            "application/vnd.google.colaboratory.intrinsic+json": {
              "summary": "{\n  \"name\": \"df\",\n  \"rows\": 5,\n  \"fields\": [\n    {\n      \"column\": \"gender\",\n      \"properties\": {\n        \"dtype\": \"category\",\n        \"num_unique_values\": 2,\n        \"samples\": [\n          \"Male\",\n          \"Female\"\n        ],\n        \"semantic_type\": \"\",\n        \"description\": \"\"\n      }\n    },\n    {\n      \"column\": \"age\",\n      \"properties\": {\n        \"dtype\": \"number\",\n        \"std\": 15.84297951775486,\n        \"min\": 27.0,\n        \"max\": 64.0,\n        \"num_unique_values\": 5,\n        \"samples\": [\n          27.0,\n          64.0\n        ],\n        \"semantic_type\": \"\",\n        \"description\": \"\"\n      }\n    },\n    {\n      \"column\": \"hypertension\",\n      \"properties\": {\n        \"dtype\": \"number\",\n        \"std\": 0,\n        \"min\": 0,\n        \"max\": 1,\n        \"num_unique_values\": 2,\n        \"samples\": [\n          1,\n          0\n        ],\n        \"semantic_type\": \"\",\n        \"description\": \"\"\n      }\n    },\n    {\n      \"column\": \"heart_disease\",\n      \"properties\": {\n        \"dtype\": \"number\",\n        \"std\": 0,\n        \"min\": 0,\n        \"max\": 0,\n        \"num_unique_values\": 1,\n        \"samples\": [\n          0\n        ],\n        \"semantic_type\": \"\",\n        \"description\": \"\"\n      }\n    },\n    {\n      \"column\": \"ever_married\",\n      \"properties\": {\n        \"dtype\": \"category\",\n        \"num_unique_values\": 2,\n        \"samples\": [\n          \"No\"\n        ],\n        \"semantic_type\": \"\",\n        \"description\": \"\"\n      }\n    },\n    {\n      \"column\": \"work_type\",\n      \"properties\": {\n        \"dtype\": \"string\",\n        \"num_unique_values\": 3,\n        \"samples\": [\n          \"Private\"\n        ],\n        \"semantic_type\": \"\",\n        \"description\": \"\"\n      }\n    },\n    {\n      \"column\": \"Residence_type\",\n      \"properties\": {\n        \"dtype\": \"category\",\n        \"num_unique_values\": 2,\n        \"samples\": [\n          \"Rural\"\n        ],\n        \"semantic_type\": \"\",\n        \"description\": \"\"\n      }\n    },\n    {\n      \"column\": \"avg_glucose_level\",\n      \"properties\": {\n        \"dtype\": \"number\",\n        \"std\": 9.621745163950248,\n        \"min\": 65.43,\n        \"max\": 88.53,\n        \"num_unique_values\": 5,\n        \"samples\": [\n          65.43\n        ],\n        \"semantic_type\": \"\",\n        \"description\": \"\"\n      }\n    },\n    {\n      \"column\": \"bmi\",\n      \"properties\": {\n        \"dtype\": \"number\",\n        \"std\": 5.496999181371595,\n        \"min\": 20.1,\n        \"max\": 34.9,\n        \"num_unique_values\": 5,\n        \"samples\": [\n          27.2\n        ],\n        \"semantic_type\": \"\",\n        \"description\": \"\"\n      }\n    },\n    {\n      \"column\": \"smoking_status\",\n      \"properties\": {\n        \"dtype\": \"category\",\n        \"num_unique_values\": 2,\n        \"samples\": [\n          \"Unknown\"\n        ],\n        \"semantic_type\": \"\",\n        \"description\": \"\"\n      }\n    },\n    {\n      \"column\": \"stroke\",\n      \"properties\": {\n        \"dtype\": \"number\",\n        \"std\": 0,\n        \"min\": 0,\n        \"max\": 0,\n        \"num_unique_values\": 1,\n        \"samples\": [\n          0\n        ],\n        \"semantic_type\": \"\",\n        \"description\": \"\"\n      }\n    }\n  ]\n}",
              "type": "dataframe"
            },
            "text/html": [
              "\n",
              "  <div id=\"df-b5ea765d-e8ea-4607-9b61-e856917aa334\" class=\"colab-df-container\">\n",
              "    <div>\n",
              "<style scoped>\n",
              "    .dataframe tbody tr th:only-of-type {\n",
              "        vertical-align: middle;\n",
              "    }\n",
              "\n",
              "    .dataframe tbody tr th {\n",
              "        vertical-align: top;\n",
              "    }\n",
              "\n",
              "    .dataframe thead th {\n",
              "        text-align: right;\n",
              "    }\n",
              "</style>\n",
              "<table border=\"1\" class=\"dataframe\">\n",
              "  <thead>\n",
              "    <tr style=\"text-align: right;\">\n",
              "      <th></th>\n",
              "      <th>gender</th>\n",
              "      <th>age</th>\n",
              "      <th>hypertension</th>\n",
              "      <th>heart_disease</th>\n",
              "      <th>ever_married</th>\n",
              "      <th>work_type</th>\n",
              "      <th>Residence_type</th>\n",
              "      <th>avg_glucose_level</th>\n",
              "      <th>bmi</th>\n",
              "      <th>smoking_status</th>\n",
              "      <th>stroke</th>\n",
              "    </tr>\n",
              "  </thead>\n",
              "  <tbody>\n",
              "    <tr>\n",
              "      <th>1163</th>\n",
              "      <td>Female</td>\n",
              "      <td>52.0</td>\n",
              "      <td>0</td>\n",
              "      <td>0</td>\n",
              "      <td>Yes</td>\n",
              "      <td>Private</td>\n",
              "      <td>Urban</td>\n",
              "      <td>69.30</td>\n",
              "      <td>20.1</td>\n",
              "      <td>never smoked</td>\n",
              "      <td>0</td>\n",
              "    </tr>\n",
              "    <tr>\n",
              "      <th>4091</th>\n",
              "      <td>Female</td>\n",
              "      <td>27.0</td>\n",
              "      <td>0</td>\n",
              "      <td>0</td>\n",
              "      <td>No</td>\n",
              "      <td>Govt_job</td>\n",
              "      <td>Rural</td>\n",
              "      <td>65.43</td>\n",
              "      <td>27.2</td>\n",
              "      <td>Unknown</td>\n",
              "      <td>0</td>\n",
              "    </tr>\n",
              "    <tr>\n",
              "      <th>4320</th>\n",
              "      <td>Male</td>\n",
              "      <td>44.0</td>\n",
              "      <td>1</td>\n",
              "      <td>0</td>\n",
              "      <td>Yes</td>\n",
              "      <td>Self-employed</td>\n",
              "      <td>Rural</td>\n",
              "      <td>83.59</td>\n",
              "      <td>24.1</td>\n",
              "      <td>never smoked</td>\n",
              "      <td>0</td>\n",
              "    </tr>\n",
              "    <tr>\n",
              "      <th>1936</th>\n",
              "      <td>Female</td>\n",
              "      <td>28.0</td>\n",
              "      <td>0</td>\n",
              "      <td>0</td>\n",
              "      <td>No</td>\n",
              "      <td>Private</td>\n",
              "      <td>Rural</td>\n",
              "      <td>75.53</td>\n",
              "      <td>34.9</td>\n",
              "      <td>never smoked</td>\n",
              "      <td>0</td>\n",
              "    </tr>\n",
              "    <tr>\n",
              "      <th>565</th>\n",
              "      <td>Female</td>\n",
              "      <td>64.0</td>\n",
              "      <td>1</td>\n",
              "      <td>0</td>\n",
              "      <td>Yes</td>\n",
              "      <td>Private</td>\n",
              "      <td>Rural</td>\n",
              "      <td>88.53</td>\n",
              "      <td>24.6</td>\n",
              "      <td>never smoked</td>\n",
              "      <td>0</td>\n",
              "    </tr>\n",
              "  </tbody>\n",
              "</table>\n",
              "</div>\n",
              "    <div class=\"colab-df-buttons\">\n",
              "\n",
              "  <div class=\"colab-df-container\">\n",
              "    <button class=\"colab-df-convert\" onclick=\"convertToInteractive('df-b5ea765d-e8ea-4607-9b61-e856917aa334')\"\n",
              "            title=\"Convert this dataframe to an interactive table.\"\n",
              "            style=\"display:none;\">\n",
              "\n",
              "  <svg xmlns=\"http://www.w3.org/2000/svg\" height=\"24px\" viewBox=\"0 -960 960 960\">\n",
              "    <path d=\"M120-120v-720h720v720H120Zm60-500h600v-160H180v160Zm220 220h160v-160H400v160Zm0 220h160v-160H400v160ZM180-400h160v-160H180v160Zm440 0h160v-160H620v160ZM180-180h160v-160H180v160Zm440 0h160v-160H620v160Z\"/>\n",
              "  </svg>\n",
              "    </button>\n",
              "\n",
              "  <style>\n",
              "    .colab-df-container {\n",
              "      display:flex;\n",
              "      gap: 12px;\n",
              "    }\n",
              "\n",
              "    .colab-df-convert {\n",
              "      background-color: #E8F0FE;\n",
              "      border: none;\n",
              "      border-radius: 50%;\n",
              "      cursor: pointer;\n",
              "      display: none;\n",
              "      fill: #1967D2;\n",
              "      height: 32px;\n",
              "      padding: 0 0 0 0;\n",
              "      width: 32px;\n",
              "    }\n",
              "\n",
              "    .colab-df-convert:hover {\n",
              "      background-color: #E2EBFA;\n",
              "      box-shadow: 0px 1px 2px rgba(60, 64, 67, 0.3), 0px 1px 3px 1px rgba(60, 64, 67, 0.15);\n",
              "      fill: #174EA6;\n",
              "    }\n",
              "\n",
              "    .colab-df-buttons div {\n",
              "      margin-bottom: 4px;\n",
              "    }\n",
              "\n",
              "    [theme=dark] .colab-df-convert {\n",
              "      background-color: #3B4455;\n",
              "      fill: #D2E3FC;\n",
              "    }\n",
              "\n",
              "    [theme=dark] .colab-df-convert:hover {\n",
              "      background-color: #434B5C;\n",
              "      box-shadow: 0px 1px 3px 1px rgba(0, 0, 0, 0.15);\n",
              "      filter: drop-shadow(0px 1px 2px rgba(0, 0, 0, 0.3));\n",
              "      fill: #FFFFFF;\n",
              "    }\n",
              "  </style>\n",
              "\n",
              "    <script>\n",
              "      const buttonEl =\n",
              "        document.querySelector('#df-b5ea765d-e8ea-4607-9b61-e856917aa334 button.colab-df-convert');\n",
              "      buttonEl.style.display =\n",
              "        google.colab.kernel.accessAllowed ? 'block' : 'none';\n",
              "\n",
              "      async function convertToInteractive(key) {\n",
              "        const element = document.querySelector('#df-b5ea765d-e8ea-4607-9b61-e856917aa334');\n",
              "        const dataTable =\n",
              "          await google.colab.kernel.invokeFunction('convertToInteractive',\n",
              "                                                    [key], {});\n",
              "        if (!dataTable) return;\n",
              "\n",
              "        const docLinkHtml = 'Like what you see? Visit the ' +\n",
              "          '<a target=\"_blank\" href=https://colab.research.google.com/notebooks/data_table.ipynb>data table notebook</a>'\n",
              "          + ' to learn more about interactive tables.';\n",
              "        element.innerHTML = '';\n",
              "        dataTable['output_type'] = 'display_data';\n",
              "        await google.colab.output.renderOutput(dataTable, element);\n",
              "        const docLink = document.createElement('div');\n",
              "        docLink.innerHTML = docLinkHtml;\n",
              "        element.appendChild(docLink);\n",
              "      }\n",
              "    </script>\n",
              "  </div>\n",
              "\n",
              "\n",
              "<div id=\"df-b41df31a-e1d1-4676-9933-7aa9f0130f49\">\n",
              "  <button class=\"colab-df-quickchart\" onclick=\"quickchart('df-b41df31a-e1d1-4676-9933-7aa9f0130f49')\"\n",
              "            title=\"Suggest charts\"\n",
              "            style=\"display:none;\">\n",
              "\n",
              "<svg xmlns=\"http://www.w3.org/2000/svg\" height=\"24px\"viewBox=\"0 0 24 24\"\n",
              "     width=\"24px\">\n",
              "    <g>\n",
              "        <path d=\"M19 3H5c-1.1 0-2 .9-2 2v14c0 1.1.9 2 2 2h14c1.1 0 2-.9 2-2V5c0-1.1-.9-2-2-2zM9 17H7v-7h2v7zm4 0h-2V7h2v10zm4 0h-2v-4h2v4z\"/>\n",
              "    </g>\n",
              "</svg>\n",
              "  </button>\n",
              "\n",
              "<style>\n",
              "  .colab-df-quickchart {\n",
              "      --bg-color: #E8F0FE;\n",
              "      --fill-color: #1967D2;\n",
              "      --hover-bg-color: #E2EBFA;\n",
              "      --hover-fill-color: #174EA6;\n",
              "      --disabled-fill-color: #AAA;\n",
              "      --disabled-bg-color: #DDD;\n",
              "  }\n",
              "\n",
              "  [theme=dark] .colab-df-quickchart {\n",
              "      --bg-color: #3B4455;\n",
              "      --fill-color: #D2E3FC;\n",
              "      --hover-bg-color: #434B5C;\n",
              "      --hover-fill-color: #FFFFFF;\n",
              "      --disabled-bg-color: #3B4455;\n",
              "      --disabled-fill-color: #666;\n",
              "  }\n",
              "\n",
              "  .colab-df-quickchart {\n",
              "    background-color: var(--bg-color);\n",
              "    border: none;\n",
              "    border-radius: 50%;\n",
              "    cursor: pointer;\n",
              "    display: none;\n",
              "    fill: var(--fill-color);\n",
              "    height: 32px;\n",
              "    padding: 0;\n",
              "    width: 32px;\n",
              "  }\n",
              "\n",
              "  .colab-df-quickchart:hover {\n",
              "    background-color: var(--hover-bg-color);\n",
              "    box-shadow: 0 1px 2px rgba(60, 64, 67, 0.3), 0 1px 3px 1px rgba(60, 64, 67, 0.15);\n",
              "    fill: var(--button-hover-fill-color);\n",
              "  }\n",
              "\n",
              "  .colab-df-quickchart-complete:disabled,\n",
              "  .colab-df-quickchart-complete:disabled:hover {\n",
              "    background-color: var(--disabled-bg-color);\n",
              "    fill: var(--disabled-fill-color);\n",
              "    box-shadow: none;\n",
              "  }\n",
              "\n",
              "  .colab-df-spinner {\n",
              "    border: 2px solid var(--fill-color);\n",
              "    border-color: transparent;\n",
              "    border-bottom-color: var(--fill-color);\n",
              "    animation:\n",
              "      spin 1s steps(1) infinite;\n",
              "  }\n",
              "\n",
              "  @keyframes spin {\n",
              "    0% {\n",
              "      border-color: transparent;\n",
              "      border-bottom-color: var(--fill-color);\n",
              "      border-left-color: var(--fill-color);\n",
              "    }\n",
              "    20% {\n",
              "      border-color: transparent;\n",
              "      border-left-color: var(--fill-color);\n",
              "      border-top-color: var(--fill-color);\n",
              "    }\n",
              "    30% {\n",
              "      border-color: transparent;\n",
              "      border-left-color: var(--fill-color);\n",
              "      border-top-color: var(--fill-color);\n",
              "      border-right-color: var(--fill-color);\n",
              "    }\n",
              "    40% {\n",
              "      border-color: transparent;\n",
              "      border-right-color: var(--fill-color);\n",
              "      border-top-color: var(--fill-color);\n",
              "    }\n",
              "    60% {\n",
              "      border-color: transparent;\n",
              "      border-right-color: var(--fill-color);\n",
              "    }\n",
              "    80% {\n",
              "      border-color: transparent;\n",
              "      border-right-color: var(--fill-color);\n",
              "      border-bottom-color: var(--fill-color);\n",
              "    }\n",
              "    90% {\n",
              "      border-color: transparent;\n",
              "      border-bottom-color: var(--fill-color);\n",
              "    }\n",
              "  }\n",
              "</style>\n",
              "\n",
              "  <script>\n",
              "    async function quickchart(key) {\n",
              "      const quickchartButtonEl =\n",
              "        document.querySelector('#' + key + ' button');\n",
              "      quickchartButtonEl.disabled = true;  // To prevent multiple clicks.\n",
              "      quickchartButtonEl.classList.add('colab-df-spinner');\n",
              "      try {\n",
              "        const charts = await google.colab.kernel.invokeFunction(\n",
              "            'suggestCharts', [key], {});\n",
              "      } catch (error) {\n",
              "        console.error('Error during call to suggestCharts:', error);\n",
              "      }\n",
              "      quickchartButtonEl.classList.remove('colab-df-spinner');\n",
              "      quickchartButtonEl.classList.add('colab-df-quickchart-complete');\n",
              "    }\n",
              "    (() => {\n",
              "      let quickchartButtonEl =\n",
              "        document.querySelector('#df-b41df31a-e1d1-4676-9933-7aa9f0130f49 button');\n",
              "      quickchartButtonEl.style.display =\n",
              "        google.colab.kernel.accessAllowed ? 'block' : 'none';\n",
              "    })();\n",
              "  </script>\n",
              "</div>\n",
              "\n",
              "    </div>\n",
              "  </div>\n"
            ],
            "text/plain": [
              "      gender   age  hypertension  heart_disease ever_married      work_type  \\\n",
              "1163  Female  52.0             0              0          Yes        Private   \n",
              "4091  Female  27.0             0              0           No       Govt_job   \n",
              "4320    Male  44.0             1              0          Yes  Self-employed   \n",
              "1936  Female  28.0             0              0           No        Private   \n",
              "565   Female  64.0             1              0          Yes        Private   \n",
              "\n",
              "     Residence_type  avg_glucose_level   bmi smoking_status  stroke  \n",
              "1163          Urban              69.30  20.1   never smoked       0  \n",
              "4091          Rural              65.43  27.2        Unknown       0  \n",
              "4320          Rural              83.59  24.1   never smoked       0  \n",
              "1936          Rural              75.53  34.9   never smoked       0  \n",
              "565           Rural              88.53  24.6   never smoked       0  "
            ]
          },
          "execution_count": 17,
          "metadata": {},
          "output_type": "execute_result"
        }
      ],
      "source": [
        "# Mengisi nilai yang hilang (NaN) di kolom 'bmi' dengan nilai moduus kolom 'bmi'\n",
        "df.bmi.fillna(df.bmi.mode().values[0], inplace=True)\n",
        "\n",
        "# Menampilkan 5 baris acak dari DataFrame df\n",
        "df.sample(5)"
      ]
    },
    {
      "cell_type": "markdown",
      "metadata": {
        "id": "ddDZqM1yqHga"
      },
      "source": [
        "- missing value pada kolom `bmi` telah berhasil diganti dengan nilai modus kolom `bmi`"
      ]
    },
    {
      "cell_type": "markdown",
      "metadata": {
        "id": "aX9NWVPHIevP"
      },
      "source": [
        "## Unique Values in Columns"
      ]
    },
    {
      "cell_type": "code",
      "execution_count": 18,
      "metadata": {
        "colab": {
          "base_uri": "https://localhost:8080/"
        },
        "id": "9OQVZyqVg8th",
        "outputId": "89a22235-68ff-4453-d51f-320663f4b220"
      },
      "outputs": [
        {
          "data": {
            "text/plain": [
              "gender                  3\n",
              "age                   104\n",
              "hypertension            2\n",
              "heart_disease           2\n",
              "ever_married            2\n",
              "work_type               5\n",
              "Residence_type          2\n",
              "avg_glucose_level    3979\n",
              "bmi                   418\n",
              "smoking_status          4\n",
              "stroke                  2\n",
              "dtype: int64"
            ]
          },
          "execution_count": 18,
          "metadata": {},
          "output_type": "execute_result"
        }
      ],
      "source": [
        "# Menghitung jumlah nilai unik di setiap kolom dalam DataFrame df\n",
        "df.nunique()"
      ]
    },
    {
      "cell_type": "markdown",
      "metadata": {
        "id": "MzM2d-zgkavt"
      },
      "source": [
        "- kolom `gender` punya total unique value 3 (patut dicurigai karena didunia ini gender hanya ada 2)"
      ]
    },
    {
      "cell_type": "markdown",
      "metadata": {
        "id": "c0UFqPGLIrjg"
      },
      "source": [
        "## Value Counts `gender`"
      ]
    },
    {
      "cell_type": "code",
      "execution_count": 19,
      "metadata": {
        "colab": {
          "base_uri": "https://localhost:8080/"
        },
        "id": "HxoiraWwkVgj",
        "outputId": "60f43ce7-157f-42e4-c5cb-c96be038b635"
      },
      "outputs": [
        {
          "data": {
            "text/plain": [
              "gender\n",
              "Female    2994\n",
              "Male      2115\n",
              "Other        1\n",
              "Name: count, dtype: int64"
            ]
          },
          "execution_count": 19,
          "metadata": {},
          "output_type": "execute_result"
        }
      ],
      "source": [
        "# Menghitung jumlah kemunculan setiap nilai unik dalam kolom 'gender' dan mengurutkannya berdasarkan frekuensi\n",
        "df.gender.value_counts()"
      ]
    },
    {
      "cell_type": "markdown",
      "metadata": {
        "id": "r792drUQ0wR-"
      },
      "source": [
        "- setelah diperiksa terdapat satu `gender` yang termasuk kedalam kategori 'Other'"
      ]
    },
    {
      "cell_type": "code",
      "execution_count": 20,
      "metadata": {
        "id": "qHFQOsYG0WXV"
      },
      "outputs": [],
      "source": [
        "# Melakukan drop value Other pada kolom gender\n",
        "df.drop(df[df['gender'] == 'Other'].index, inplace=True)"
      ]
    },
    {
      "cell_type": "markdown",
      "metadata": {
        "id": "JgOYdzj3dLFi"
      },
      "source": [
        "- value Other pada kolom gender di-drop karena hanya terdapat satu\n",
        "- gender tidak mungkin lebih dari 2 (hanya ada pria dan wanita)"
      ]
    },
    {
      "cell_type": "code",
      "execution_count": 21,
      "metadata": {
        "colab": {
          "base_uri": "https://localhost:8080/"
        },
        "id": "QBv1a07W3x46",
        "outputId": "c662a2af-f93c-42e1-ce0e-a7e315929a1b"
      },
      "outputs": [
        {
          "data": {
            "text/plain": [
              "stroke\n",
              "0    4860\n",
              "1     249\n",
              "Name: count, dtype: int64"
            ]
          },
          "execution_count": 21,
          "metadata": {},
          "output_type": "execute_result"
        }
      ],
      "source": [
        "# mengetahui perbadingan antara jumlah orang stroke dan tidak stroke\n",
        "df['stroke'].value_counts()"
      ]
    },
    {
      "cell_type": "markdown",
      "metadata": {
        "id": "sfY2RHDM35A5"
      },
      "source": [
        "- Terlihat setelah dilakukan analisa bahwa data tidak balance\n",
        "- kita lihat visualisasinya"
      ]
    },
    {
      "cell_type": "code",
      "execution_count": 22,
      "metadata": {
        "colab": {
          "base_uri": "https://localhost:8080/",
          "height": 680
        },
        "id": "ttPJi9-l39II",
        "outputId": "ffc2a94d-e02e-487e-9045-eb9f5e622765"
      },
      "outputs": [
        {
          "data": {
            "image/png": "[encoded data removed]",
            "text/plain": [
              "<Figure size 1000x800 with 1 Axes>"
            ]
          },
          "metadata": {},
          "output_type": "display_data"
        }
      ],
      "source": [
        "# Membuat figure dengan ukuran 10x8\n",
        "plt.figure(figsize=(10, 8))\n",
        "\n",
        "# Membuat diagram lingkaran\n",
        "plt.pie(pd.value_counts(df['stroke']),\n",
        "        labels=[0, 1],  # Label untuk masing-masing bagian\n",
        "        autopct='%.2f%%',  # Format persentase\n",
        "        textprops={'size': 'x-large',  # Ukuran teks\n",
        "                   'fontweight': 'bold',  # Ketebalan teks\n",
        "                   'rotation': 30,  # Rotasi teks\n",
        "                   'color': 'w'})  # Warna teks\n",
        "\n",
        "# Menambahkan legenda\n",
        "plt.legend()\n",
        "\n",
        "# Menambahkan judul\n",
        "plt.title('Percentage of stroke', fontsize=18, fontweight='bold')\n",
        "\n",
        "# Menampilkan plot\n",
        "plt.show()"
      ]
    },
    {
      "cell_type": "markdown",
      "metadata": {
        "id": "Olg5aNHOo0tb"
      },
      "source": [
        "- setelah melihat visualisasnya, kemudian akan dilakukan over sampling menggunakan SMOTENC karena terdapat kolom kategorikal"
      ]
    },
    {
      "cell_type": "markdown",
      "metadata": {
        "id": "tfGSuoJu_QJE"
      },
      "source": [
        "## Smoking Status and Stroke"
      ]
    },
    {
      "cell_type": "markdown",
      "metadata": {
        "id": "dM3AnpPqpbk2"
      },
      "source": [
        "menganalisa apakah Smoking Status mempengaruhi terjadinya penyakit stroke dengan melihat jumlah orang yang terkena stroke berdasarkan Smoking Status"
      ]
    },
    {
      "cell_type": "code",
      "execution_count": 23,
      "metadata": {
        "colab": {
          "base_uri": "https://localhost:8080/",
          "height": 483
        },
        "id": "TCoDR3NS-dwd",
        "outputId": "dd9573d4-3630-4ba7-9dad-70734dea0a20"
      },
      "outputs": [
        {
          "data": {
            "image/png": "[encoded data removed]",
            "text/plain": [
              "<Figure size 1000x500 with 1 Axes>"
            ]
          },
          "metadata": {},
          "output_type": "display_data"
        }
      ],
      "source": [
        "# Membuat pivot table untuk data stroke berdasarkan status merokok\n",
        "pd_stroke = pd.pivot_table(data=df[df['stroke'] == 1], index='smoking_status', values='stroke', aggfunc='count').reset_index()\n",
        "\n",
        "# Membuat figure dan axis dengan ukuran 10x5 inci\n",
        "fig, ax = plt.subplots(1, 1, figsize=(10, 5))\n",
        "\n",
        "# Mengatur warna latar belakang untuk figure dan axis\n",
        "background_color = '#f6f5f7'\n",
        "fig.patch.set_facecolor(background_color)\n",
        "ax.set_facecolor(background_color)\n",
        "\n",
        "# Membuat bar chart untuk status merokok dan jumlah stroke\n",
        "ax.bar(pd_stroke['smoking_status'], pd_stroke['stroke'], width=0.55, linewidth=0.7, color=sns.color_palette('RdPu'))\n",
        "\n",
        "# Menambahkan teks di atas setiap bar untuk menunjukkan nilai\n",
        "for idx, val in enumerate(pd_stroke['stroke']):\n",
        "    ax.text(idx, val + 1, round(val, 1), horizontalalignment='center')\n",
        "\n",
        "# Mengatur grid garis horizontal pada axis y\n",
        "ax.grid(linestyle=':', axis='y', alpha=0.5)\n",
        "\n",
        "# Menyembunyikan spines bagian atas dan kanan\n",
        "for i in ['top', 'right']:\n",
        "    ax.spines[i].set_visible(False)\n",
        "\n",
        "# Menambahkan judul plot\n",
        "plt.text(-0.7, max(pd_stroke['stroke']) * 1.1, 'Smoking Status and Stroke', fontsize=18, fontweight='bold', fontfamily='serif')\n",
        "\n",
        "# Menampilkan plot\n",
        "plt.show()\n"
      ]
    },
    {
      "cell_type": "markdown",
      "metadata": {
        "id": "uboNjdwDqYFW"
      },
      "source": [
        "- ternyata orang yang terkena stroke yang paling banyak dari orang-orang yang tidak merokok (never smoked)\n",
        "\n",
        "- dari informasi tabel diatas, artinya merokok tidak mempengaruhi penyebab terjadinya penyakit stroke"
      ]
    },
    {
      "cell_type": "markdown",
      "metadata": {
        "id": "NVdzru2U_MS0"
      },
      "source": [
        "## Marrital Status and Stroke"
      ]
    },
    {
      "cell_type": "code",
      "execution_count": 24,
      "metadata": {
        "colab": {
          "base_uri": "https://localhost:8080/",
          "height": 514
        },
        "id": "j1YcjXeJ_HZN",
        "outputId": "543a8def-0e47-4419-846a-7d2fd3b9b888"
      },
      "outputs": [
        {
          "data": {
            "text/plain": [
              "Text(-0.7, 250, 'Marrital Status and Stroke')"
            ]
          },
          "execution_count": 24,
          "metadata": {},
          "output_type": "execute_result"
        },
        {
          "data": {
            "image/png": "[encoded data removed]",
            "text/plain": [
              "<Figure size 1000x500 with 1 Axes>"
            ]
          },
          "metadata": {},
          "output_type": "display_data"
        }
      ],
      "source": [
        "\n",
        "pd_stroke = pd.pivot_table(data=df[df['stroke']==1],index=df['ever_married'],values='stroke',aggfunc='count').reset_index()\n",
        "fig,ax=plt.subplots(1,1,figsize=(10,5))\n",
        "background_color = '#f6f5f7'\n",
        "fig.patch.set_facecolor(background_color)\n",
        "ax.set_facecolor(background_color)\n",
        "ax.bar(pd_stroke['ever_married'],pd_stroke['stroke'],width=0.55,linewidth=0.7,color=sns.color_palette('RdPu'))\n",
        "for an in pd_stroke.index:\n",
        "    ax.annotate(pd_stroke['stroke'][an],xy=(pd_stroke['ever_married'][an],pd_stroke['stroke'][an]+5),va='center',ha='center')\n",
        "ax.grid(linestyle=':',axis='y',alpha=0.5)\n",
        "for i in ['top','right']:\n",
        "    ax.spines[i].set_visible(False)\n",
        "plt.text(-0.7,250,'Marrital Status and Stroke',fontsize=18,fontweight='bold',fontfamily='serif')"
      ]
    },
    {
      "cell_type": "markdown",
      "metadata": {
        "id": "9N0OQwQNUM5q"
      },
      "source": [
        "- orang yang sudah menikah lebih banyak terkena stroke"
      ]
    },
    {
      "cell_type": "markdown",
      "metadata": {
        "id": "WwHXAUUR_a2F"
      },
      "source": [
        "## Work Type and Stroke"
      ]
    },
    {
      "cell_type": "code",
      "execution_count": 25,
      "metadata": {
        "colab": {
          "base_uri": "https://localhost:8080/",
          "height": 516
        },
        "id": "g_SXhcgt_Zfu",
        "outputId": "5b137e5b-2ac7-405b-f4c2-da7ffde5564d"
      },
      "outputs": [
        {
          "data": {
            "text/plain": [
              "Text(-0.7, 170, 'Work Type and Stroke')"
            ]
          },
          "execution_count": 25,
          "metadata": {},
          "output_type": "execute_result"
        },
        {
          "data": {
            "image/png": "[encoded data removed]",
            "text/plain": [
              "<Figure size 1000x500 with 1 Axes>"
            ]
          },
          "metadata": {},
          "output_type": "display_data"
        }
      ],
      "source": [
        "pd_stroke = pd.pivot_table(data=df[df['stroke']==1],index=df['work_type'],values='stroke',aggfunc='count').reset_index()\n",
        "fig,ax=plt.subplots(1,1,figsize=(10,5))\n",
        "background_color = '#f6f5f7'\n",
        "fig.patch.set_facecolor(background_color)\n",
        "ax.set_facecolor(background_color)\n",
        "ax.bar(pd_stroke['work_type'],pd_stroke['stroke'],width=0.55,linewidth=0.7,color=sns.color_palette('RdPu'))\n",
        "for idx,val in enumerate(pd_stroke['stroke']):\n",
        "    ax.text(idx,val+1,round(val,1),horizontalalignment='center')\n",
        "ax.grid(linestyle=':',axis='y',alpha=0.5)\n",
        "for i in ['top','right']:\n",
        "    ax.spines[i].set_visible(False)\n",
        "plt.text(-0.7,170,'Work Type and Stroke',fontsize=18,fontweight='bold',fontfamily='serif')"
      ]
    },
    {
      "cell_type": "markdown",
      "metadata": {
        "id": "phcETbydUZ20"
      },
      "source": [
        "- orang-orang yang bekerja di sektor swasta paling banyak terkena penyakit stroke"
      ]
    },
    {
      "cell_type": "markdown",
      "metadata": {
        "id": "0XAq9I4Y_mBn"
      },
      "source": [
        "## Hypertension and Stroke"
      ]
    },
    {
      "cell_type": "code",
      "execution_count": 26,
      "metadata": {
        "colab": {
          "base_uri": "https://localhost:8080/",
          "height": 538
        },
        "id": "P-INocQX_pwO",
        "outputId": "12b10988-30eb-4bd6-a48b-b08b3c03d17b"
      },
      "outputs": [
        {
          "data": {
            "text/plain": [
              "Text(-0.7, 210, 'Hypertension and Stroke')"
            ]
          },
          "execution_count": 26,
          "metadata": {},
          "output_type": "execute_result"
        },
        {
          "data": {
            "image/png": "[encoded data removed]",
            "text/plain": [
              "<Figure size 1000x500 with 1 Axes>"
            ]
          },
          "metadata": {},
          "output_type": "display_data"
        }
      ],
      "source": [
        "\n",
        "pd_stroke = pd.pivot_table(data=df[df['stroke']==1],index=df['hypertension'],values='stroke',aggfunc='count').reset_index()\n",
        "fig,ax=plt.subplots(1,1,figsize=(10,5))\n",
        "background_color = '#f6f5f7'\n",
        "fig.patch.set_facecolor(background_color)\n",
        "ax.set_facecolor(background_color)\n",
        "sns.barplot(ax=ax,x=pd_stroke['hypertension'],y=pd_stroke['stroke'],palette='RdPu')\n",
        "for idx,val in enumerate(pd_stroke['stroke']):\n",
        "    ax.text(idx,val+1,round(val,1),horizontalalignment='center')\n",
        "ax.grid(linestyle=':',axis='y',alpha=0.5)\n",
        "for i in ['top','right']:\n",
        "    ax.spines[i].set_visible(False)\n",
        "plt.text(-0.7,210,'Hypertension and Stroke',fontsize=18,fontweight='bold',fontfamily='serif')"
      ]
    },
    {
      "cell_type": "markdown",
      "metadata": {
        "id": "sjsjmXFHUkWB"
      },
      "source": [
        "- tidak selalu orang yang memiliki hipertensi akan terkena stroke"
      ]
    },
    {
      "cell_type": "markdown",
      "metadata": {
        "id": "m5rzGiupADt-"
      },
      "source": [
        "## Heart Disease and Stroke"
      ]
    },
    {
      "cell_type": "code",
      "execution_count": 27,
      "metadata": {
        "colab": {
          "base_uri": "https://localhost:8080/",
          "height": 516
        },
        "id": "d-rf3CZkABVs",
        "outputId": "35197d2a-72ab-4135-8a5b-e78e1c613bd7"
      },
      "outputs": [
        {
          "data": {
            "text/plain": [
              "Text(-0.7, 220, 'Heart Disease and Stroke')"
            ]
          },
          "execution_count": 27,
          "metadata": {},
          "output_type": "execute_result"
        },
        {
          "data": {
            "image/png": "[encoded data removed]",
            "text/plain": [
              "<Figure size 1000x500 with 1 Axes>"
            ]
          },
          "metadata": {},
          "output_type": "display_data"
        }
      ],
      "source": [
        "pd_stroke = pd.pivot_table(data=df[df['stroke']==1],index=df['heart_disease'],values='stroke',aggfunc='count').reset_index()\n",
        "fig,ax=plt.subplots(1,1,figsize=(10,5))\n",
        "background_color = '#f6f5f7'\n",
        "fig.patch.set_facecolor(background_color)\n",
        "ax.set_facecolor(background_color)\n",
        "sns.barplot(ax=ax,x=pd_stroke['heart_disease'],y=pd_stroke['stroke'],palette='RdPu')\n",
        "for idx,val in enumerate(pd_stroke['stroke']):\n",
        "    ax.text(idx,val+1,round(val,1),horizontalalignment='center')\n",
        "ax.grid(linestyle=':',axis='y',alpha=0.5)\n",
        "for i in ['top','right']:\n",
        "    ax.spines[i].set_visible(False)\n",
        "plt.text(-0.7,220,'Heart Disease and Stroke',fontsize=18,fontweight='bold',fontfamily='serif')"
      ]
    },
    {
      "cell_type": "markdown",
      "metadata": {
        "id": "eLKhavqwU0op"
      },
      "source": [
        "- orang yang sakit stroke belum tentu memiliki penyakit jantung"
      ]
    },
    {
      "cell_type": "markdown",
      "metadata": {
        "id": "EWtfycOV0j5h"
      },
      "source": [
        "# **FEATURE ENGINEERING**"
      ]
    },
    {
      "cell_type": "markdown",
      "metadata": {
        "id": "C_1tgMm-4cnY"
      },
      "source": [
        "Define features X & Target y"
      ]
    },
    {
      "cell_type": "code",
      "execution_count": 28,
      "metadata": {
        "id": "fg8lY2HHEykC"
      },
      "outputs": [],
      "source": [
        "# Memisahkan fitur (X) dan target (y)\n",
        "X = df.drop(\"stroke\", axis=1)  # Menghapus kolom 'stroke' dari dataframe untuk mendapatkan fitur\n",
        "y = df[\"stroke\"]  # Menyimpan kolom 'stroke' sebagai target"
      ]
    },
    {
      "cell_type": "markdown",
      "metadata": {
        "id": "4Q6PLiwy3ms3"
      },
      "source": [
        "## Split Data"
      ]
    },
    {
      "cell_type": "code",
      "execution_count": 29,
      "metadata": {
        "id": "V4boUSJw5Q8s"
      },
      "outputs": [],
      "source": [
        "# Membagi data menjadi set pelatihan dan pengujian\n",
        "X_train, X_test, y_train, y_test = train_test_split(X, y, test_size=0.2, random_state=42)"
      ]
    },
    {
      "cell_type": "markdown",
      "metadata": {
        "id": "CSn9wy2puXdp"
      },
      "source": [
        "## Feature Selection"
      ]
    },
    {
      "cell_type": "code",
      "execution_count": 30,
      "metadata": {
        "colab": {
          "base_uri": "https://localhost:8080/",
          "height": 646
        },
        "id": "1iIzrwD_7dBE",
        "outputId": "c392c6be-cef5-4447-9b74-810f61d9d1b4"
      },
      "outputs": [
        {
          "name": "stdout",
          "output_type": "stream",
          "text": [
            "interval columns not set, guessing: ['age', 'hypertension', 'heart_disease', 'avg_glucose_level', 'bmi', 'stroke']\n"
          ]
        },
        {
          "data": {
            "image/png": "[encoded data removed]",
            "text/plain": [
              "<Figure size 1000x500 with 2 Axes>"
            ]
          },
          "metadata": {},
          "output_type": "display_data"
        }
      ],
      "source": [
        "# Membuat figure dan axis untuk plot\n",
        "fig, x = plt.subplots(figsize=(10, 5))\n",
        "\n",
        "# Mengatur warna latar belakang figure\n",
        "fig.patch.set_facecolor('#f6f5f7')\n",
        "\n",
        "# Menghitung matriks phik dari dataframe df dan membulatkan hasilnya hingga 2 desimal\n",
        "v = round(df.phik_matrix(), 2)\n",
        "\n",
        "# Membuat heatmap dari matriks phik\n",
        "sns.heatmap(v, annot=True, cmap=\"RdPu\", linewidths=.5)\n",
        "\n",
        "# Menambahkan judul pada heatmap\n",
        "plt.title(\"\\nCorrelation Heatmap\\n\", fontsize=16, weight=\"bold\")\n",
        "\n",
        "# Menampilkan plot\n",
        "plt.show()\n"
      ]
    },
    {
      "cell_type": "markdown",
      "metadata": {
        "id": "uvWMTobLsSqR"
      },
      "source": [
        "Nilai thresshold yang dijadikan acuan yaitu diatas 10%, berarti kolom yang berpengaruh yaitu:\n",
        "1. age\n",
        "2. hypertension\n",
        "3. heart_disease\n",
        "4. ever_married\n",
        "5. avg_glucose_level\n",
        "6. smoking_status\n",
        "\n",
        "berarti kolom-kolom diatas akan dimasukan kedalam kolom feature"
      ]
    },
    {
      "cell_type": "markdown",
      "metadata": {
        "id": "h3oAoeqAvksP"
      },
      "source": [
        "### Categorical Columns"
      ]
    },
    {
      "cell_type": "code",
      "execution_count": 31,
      "metadata": {
        "id": "OsXp3Pqavd3l"
      },
      "outputs": [],
      "source": [
        "# Daftar kolom kategorikal yang ingin dianalisis\n",
        "cat_cols = ['hypertension', 'heart_disease', 'ever_married', 'smoking_status']"
      ]
    },
    {
      "cell_type": "code",
      "execution_count": 32,
      "metadata": {
        "id": "0PCJve1F0l23"
      },
      "outputs": [],
      "source": [
        "# Membuat variabel fitur kategorikal\n",
        "X_train_cat = X_train[cat_cols]\n",
        "X_test_cat = X_test[cat_cols]"
      ]
    },
    {
      "cell_type": "markdown",
      "metadata": {
        "id": "G6N3qR0t8l8j"
      },
      "source": [
        "### Cardinality Check"
      ]
    },
    {
      "cell_type": "code",
      "execution_count": 33,
      "metadata": {
        "colab": {
          "base_uri": "https://localhost:8080/"
        },
        "id": "Pv_oR1r58mgj",
        "outputId": "8590688c-1490-4197-8228-8d8155345bad"
      },
      "outputs": [
        {
          "name": "stdout",
          "output_type": "stream",
          "text": [
            "hypertension\n",
            "\n",
            "hypertension\n",
            "0    3707\n",
            "1     380\n",
            "Name: count, dtype: int64\n",
            "------------------------------\n",
            "heart_disease\n",
            "\n",
            "heart_disease\n",
            "0    3881\n",
            "1     206\n",
            "Name: count, dtype: int64\n",
            "------------------------------\n",
            "ever_married\n",
            "\n",
            "ever_married\n",
            "Yes    2669\n",
            "No     1418\n",
            "Name: count, dtype: int64\n",
            "------------------------------\n",
            "smoking_status\n",
            "\n",
            "smoking_status\n",
            "never smoked       1502\n",
            "Unknown            1239\n",
            "formerly smoked     709\n",
            "smokes              637\n",
            "Name: count, dtype: int64\n",
            "------------------------------\n"
          ]
        }
      ],
      "source": [
        "# Loop melalui setiap fitur dalam daftar fitur kategorikal\n",
        "for i in cat_cols:\n",
        "    # Mencetak nama fitur\n",
        "    print(i)\n",
        "\n",
        "    # Mencetak baris kosong untuk pemisahan visual\n",
        "    print('')\n",
        "\n",
        "    # Mencetak jumlah kemunculan setiap nilai unik dalam fitur tersebut\n",
        "    print(X_train_cat[i].value_counts())\n",
        "\n",
        "    # Mencetak garis pemisah untuk memperjelas pemisahan antara fitur yang berbeda\n",
        "    print('-' * 30)\n"
      ]
    },
    {
      "cell_type": "markdown",
      "metadata": {
        "id": "IDsAKM1JdYTN"
      },
      "source": [
        "- kolom diatas dikategorikan sebagai kategorikal karena tidak ada hierarki (tidak ada kolom yang termasuk ordinal)"
      ]
    },
    {
      "cell_type": "markdown",
      "metadata": {
        "id": "YkAWby8d-IWk"
      },
      "source": [
        "### Encoding"
      ]
    },
    {
      "cell_type": "markdown",
      "metadata": {
        "id": "Iv1Q8-cy-Vta"
      },
      "source": [
        "#### Feature Encoding"
      ]
    },
    {
      "cell_type": "code",
      "execution_count": 34,
      "metadata": {
        "colab": {
          "base_uri": "https://localhost:8080/"
        },
        "id": "glO92aUk-ZCv",
        "outputId": "3ad75e8e-0f3a-4d51-e352-d604e67400b8"
      },
      "outputs": [
        {
          "name": "stdout",
          "output_type": "stream",
          "text": [
            "Dimensi data training setelah encoding: 10\n",
            "Dimensi data testing setelah encoding: 10\n"
          ]
        }
      ],
      "source": [
        "# Membuat instance dari OneHotEncoder\n",
        "ohe = OneHotEncoder(handle_unknown='ignore')\n",
        "\n",
        "# Melatih & transformasi data training dan testing`1\n",
        "X_train_cat_encoded = ohe.fit_transform(X_train_cat)\n",
        "X_test_cat_encoded = ohe.transform(X_test_cat)\n",
        "\n",
        "# Menampilkan dimensi data setelah encoding\n",
        "print('Dimensi data training setelah encoding:', X_train_cat_encoded.shape[1])\n",
        "print('Dimensi data testing setelah encoding:', X_test_cat_encoded.shape[1])"
      ]
    },
    {
      "cell_type": "markdown",
      "metadata": {
        "id": "L5AcNOWPAPiC"
      },
      "source": [
        "#### Encoding Label"
      ]
    },
    {
      "cell_type": "code",
      "execution_count": 35,
      "metadata": {
        "colab": {
          "base_uri": "https://localhost:8080/"
        },
        "id": "DO8oZz3zARpB",
        "outputId": "4cabbbdd-2bac-4289-a94c-9a956fbb0fb0"
      },
      "outputs": [
        {
          "name": "stdout",
          "output_type": "stream",
          "text": [
            "Data training setelah encoding: [0 0 0 ... 0 0 0]\n",
            "Data testing setelah encoding: [0 0 0 ... 0 0 0]\n"
          ]
        }
      ],
      "source": [
        "# Membuat instance dari LabelEncoder\n",
        "le = LabelEncoder()\n",
        "\n",
        "# Melatih & transformasi data training dan testing\n",
        "y_train = le.fit_transform(y_train)\n",
        "y_test = le.transform(y_test)\n",
        "\n",
        "# Menampilkan data setelah encoding\n",
        "print('Data training setelah encoding:', y_train)\n",
        "print('Data testing setelah encoding:', y_test)"
      ]
    },
    {
      "cell_type": "markdown",
      "metadata": {
        "id": "QA1rCpRpvfQh"
      },
      "source": [
        "### Numerical Columns"
      ]
    },
    {
      "cell_type": "code",
      "execution_count": 36,
      "metadata": {
        "id": "2W_UX7nEvoYR"
      },
      "outputs": [],
      "source": [
        "# Daftar kolom numerikal yang ingin dianalisis\n",
        "num_cols = ['age','avg_glucose_level']"
      ]
    },
    {
      "cell_type": "code",
      "execution_count": 37,
      "metadata": {
        "id": "4UcKEiqrwlQa"
      },
      "outputs": [],
      "source": [
        "# Membuat variabel fitur numerikal\n",
        "X_train_num = X_train[num_cols]\n",
        "X_test_num = X_test[num_cols]"
      ]
    },
    {
      "cell_type": "code",
      "execution_count": 38,
      "metadata": {
        "colab": {
          "base_uri": "https://localhost:8080/"
        },
        "id": "Qc4MiFh8w7ex",
        "outputId": "159f6ecd-a0af-4be0-c4dd-f5e5c9c9d0c4"
      },
      "outputs": [
        {
          "name": "stdout",
          "output_type": "stream",
          "text": [
            "age\n",
            "-0.1160272672017681\n",
            "------------------------------\n",
            "avg_glucose_level\n",
            "1.5706169793944744\n",
            "------------------------------\n"
          ]
        }
      ],
      "source": [
        "# Loop untuk setiap nama kolom dalam num_cols\n",
        "for i in num_cols:\n",
        "    # Mencetak nama kolom\n",
        "    print(i)\n",
        "    # Mencetak nilai skewness dari kolom i di X_train_num\n",
        "    print(X_train_num[i].skew())\n",
        "    # Mencetak garis putus-putus untuk pemisah\n",
        "    print(\"-\"*30)\n"
      ]
    },
    {
      "cell_type": "code",
      "execution_count": 39,
      "metadata": {
        "colab": {
          "base_uri": "https://localhost:8080/",
          "height": 450
        },
        "id": "tuZ0mMAKxuZq",
        "outputId": "707ed238-6193-46fa-e3c0-1eb1815a7730"
      },
      "outputs": [
        {
          "data": {
            "image/png": "[encoded data removed]",
            "text/plain": [
              "<Figure size 640x480 with 1 Axes>"
            ]
          },
          "metadata": {},
          "output_type": "display_data"
        }
      ],
      "source": [
        "# Membuat boxplot untuk kolom avg_glucose_level\n",
        "sns.boxplot(x=X_train_num['avg_glucose_level'])\n",
        "plt.show()\n"
      ]
    },
    {
      "cell_type": "markdown",
      "metadata": {
        "id": "xns-c6NxyDFc"
      },
      "source": [
        "- terlihat pada boxplot terdapat outlier pada kolom 'avg_glucose_level'\n",
        "\n",
        "- selanjutnya dilakukan handling menggunakan winsorizer dan dilakukan pengecekan menggunakan iqr"
      ]
    },
    {
      "cell_type": "markdown",
      "metadata": {
        "id": "M8OaQuv_BQ73"
      },
      "source": [
        "### Scaling"
      ]
    },
    {
      "cell_type": "code",
      "execution_count": 40,
      "metadata": {
        "id": "zqI3llCqBWjb"
      },
      "outputs": [],
      "source": [
        "# Inisialisasi objek StandardScaler\n",
        "scaler = StandardScaler()\n",
        "\n",
        "# Menerapkan skala pada fitur numerik data pelatihan dan mengubahnya\n",
        "X_train_num_scaled = scaler.fit_transform(X_train_num)\n",
        "\n",
        "# Menerapkan skala pada fitur numerik data pengujian menggunakan skala yang sama dengan data pelatihan\n",
        "X_test_num_scaled = scaler.transform(X_test_num)"
      ]
    },
    {
      "cell_type": "markdown",
      "metadata": {
        "id": "1qpV4qWkCm4b"
      },
      "source": [
        "### Feature Transformation"
      ]
    },
    {
      "cell_type": "code",
      "execution_count": 41,
      "metadata": {
        "id": "pfm6Sa4mCsYe"
      },
      "outputs": [],
      "source": [
        "# Inisialisasi objek OneHotEncoder\n",
        "encoder = OneHotEncoder()\n",
        "\n",
        "# Menerapkan one-hot encoding pada fitur kategorikal data pelatihan dan mengubahnya\n",
        "X_train_cat_encoded = encoder.fit_transform(X_train_cat)\n",
        "\n",
        "# Menerapkan one-hot encoding pada fitur kategorikal data pengujian menggunakan encoder yang sama dengan data pelatihan\n",
        "X_test_cat_encoded = encoder.transform(X_test_cat)\n",
        "\n",
        "# Menggabungkan fitur numerik yang telah diskalakan dan fitur kategorikal yang telah dienkode untuk data pelatihan\n",
        "X_train_transform = np.concatenate([X_train_num_scaled, X_train_cat_encoded.toarray()], axis=1)  # Convert sparse matrix to dense array\n",
        "\n",
        "# Menggabungkan fitur numerik yang telah diskalakan dan fitur kategorikal yang telah dienkode untuk data pengujian\n",
        "X_test_transform = np.concatenate([X_test_num_scaled, X_test_cat_encoded.toarray()], axis=1)  # Convert sparse matrix to dense array"
      ]
    },
    {
      "cell_type": "code",
      "execution_count": 42,
      "metadata": {
        "colab": {
          "base_uri": "https://localhost:8080/"
        },
        "id": "SpOvrQzpFliI",
        "outputId": "da93dde1-7895-4235-ec07-e36cd1a40cbe"
      },
      "outputs": [
        {
          "data": {
            "text/plain": [
              "(4087, 12)"
            ]
          },
          "execution_count": 42,
          "metadata": {},
          "output_type": "execute_result"
        }
      ],
      "source": [
        "X_train_transform.shape"
      ]
    },
    {
      "cell_type": "markdown",
      "metadata": {
        "id": "HbIVlvMtFyNb"
      },
      "source": [
        "### SMOTENC"
      ]
    },
    {
      "cell_type": "code",
      "execution_count": 43,
      "metadata": {
        "colab": {
          "base_uri": "https://localhost:8080/"
        },
        "id": "jeIWrSSjIQuu",
        "outputId": "6cda9f1b-28e8-4597-eb94-25ff4c678ccb"
      },
      "outputs": [
        {
          "name": "stdout",
          "output_type": "stream",
          "text": [
            "0: hypertension\n",
            "1: heart_disease\n",
            "2: ever_married\n",
            "3: smoking_status\n"
          ]
        }
      ],
      "source": [
        "# Print the indices of the categorical columns\n",
        "for i, col in enumerate(cat_cols):\n",
        "  print(f\"{i}: {col}\")"
      ]
    },
    {
      "cell_type": "code",
      "execution_count": 44,
      "metadata": {
        "colab": {
          "base_uri": "https://localhost:8080/"
        },
        "id": "P5RC_e7wPMSG",
        "outputId": "480284e6-2dac-430d-ed33-4d09c54042c0"
      },
      "outputs": [
        {
          "name": "stdout",
          "output_type": "stream",
          "text": [
            "0    3900\n",
            "1    3900\n",
            "Name: count, dtype: int64\n"
          ]
        }
      ],
      "source": [
        "# Mendefinisikan SMOTENC dengan indeks fitur kategorikal dan random_state untuk reproducibility\n",
        "smotenc = SMOTENC([2,3, 4, 5, 6, 7, 8, 9, 10, 11], random_state=23)\n",
        "\n",
        "# Melakukan resampling pada X_train_final dan y_train untuk menangani ketidakseimbangan data\n",
        "X_train_balanced, y_train_balanced = smotenc.fit_resample(X_train_transform, y_train)\n",
        "\n",
        "# Mengubah y_train_balanced menjadi Pandas Series untuk menggunakan metode value_counts()\n",
        "y_train_balanced_series = pd.Series(y_train_balanced)\n",
        "\n",
        "# Mencetak jumlah sampel untuk setiap kelas setelah resampling\n",
        "print(y_train_balanced_series.value_counts())"
      ]
    },
    {
      "cell_type": "markdown",
      "metadata": {
        "id": "I4ZFYfp7eNXV"
      },
      "source": [
        "- jumlah kelas pada sampel sudah seimbang, hal tersebut untuk menghindari bias dalam model (lebih akurat)"
      ]
    },
    {
      "cell_type": "markdown",
      "metadata": {
        "id": "Rcj4HOTjMi2T"
      },
      "source": [
        "### Distribution Check"
      ]
    },
    {
      "cell_type": "code",
      "execution_count": 45,
      "metadata": {
        "colab": {
          "base_uri": "https://localhost:8080/"
        },
        "id": "g8ZxjVpvLe7v",
        "outputId": "feb4632b-db99-48bc-ea26-c311286a58c0"
      },
      "outputs": [
        {
          "name": "stdout",
          "output_type": "stream",
          "text": [
            "hypertension\n",
            "hypertension\n",
            "0    4611\n",
            "1     498\n",
            "Name: count, dtype: int64\n",
            "------------------------------\n",
            "heart_disease\n",
            "heart_disease\n",
            "0    4833\n",
            "1     276\n",
            "Name: count, dtype: int64\n",
            "------------------------------\n",
            "ever_married\n",
            "ever_married\n",
            "Yes    3353\n",
            "No     1756\n",
            "Name: count, dtype: int64\n",
            "------------------------------\n",
            "smoking_status\n",
            "smoking_status\n",
            "never smoked       1892\n",
            "Unknown            1544\n",
            "formerly smoked     884\n",
            "smokes              789\n",
            "Name: count, dtype: int64\n",
            "------------------------------\n"
          ]
        }
      ],
      "source": [
        "# Looping untuk memeriksa cardinalitas kolom-kolom kategorikal\n",
        "for i in cat_cols:  # Iterasi melalui setiap kolom dalam daftar kolom kategorikal (cat_cols)\n",
        "    print(i)  # Mencetak nama kolom yang sedang diperiksa\n",
        "    print(df[i].value_counts())  # Mencetak jumlah kemunculan setiap nilai unik dalam kolom tersebut\n",
        "    print(\"-\" * 30)  # Mencetak garis pemisah untuk memudahkan pembacaan output"
      ]
    },
    {
      "cell_type": "code",
      "execution_count": 46,
      "metadata": {
        "id": "w5gp68muucWh"
      },
      "outputs": [],
      "source": [
        "# Memilih subset kolom dari dataframe df untuk variabel X\n",
        "X = df[['age', 'hypertension', 'heart_disease', 'ever_married', 'avg_glucose_level', 'smoking_status']]\n",
        "\n",
        "# Memilih kolom 'stroke' dari dataframe df untuk variabel y\n",
        "y = df['stroke']\n"
      ]
    },
    {
      "cell_type": "code",
      "execution_count": 47,
      "metadata": {
        "colab": {
          "base_uri": "https://localhost:8080/"
        },
        "id": "DAFjnV8gu7FP",
        "outputId": "3e599550-db6c-4a95-ecf5-e0d531f87f0a"
      },
      "outputs": [
        {
          "data": {
            "text/plain": [
              "Index(['age', 'hypertension', 'heart_disease', 'ever_married',\n",
              "       'avg_glucose_level', 'smoking_status'],\n",
              "      dtype='object')"
            ]
          },
          "execution_count": 47,
          "metadata": {},
          "output_type": "execute_result"
        }
      ],
      "source": [
        "X.columns"
      ]
    },
    {
      "cell_type": "code",
      "execution_count": 48,
      "metadata": {
        "id": "49argy4FvNAb"
      },
      "outputs": [],
      "source": [
        "# Memisahkan X dan y menjadi data latih dan data uji menggunakan train_test_split\n",
        "X_train, X_test, y_train, y_test = train_test_split(X, y, test_size=0.2, random_state=42)\n"
      ]
    },
    {
      "cell_type": "code",
      "execution_count": 49,
      "metadata": {
        "colab": {
          "base_uri": "https://localhost:8080/"
        },
        "id": "Muoc-XKd0sDV",
        "outputId": "6f7f167a-1cf0-4055-9f3f-005c40d362cf"
      },
      "outputs": [
        {
          "name": "stdout",
          "output_type": "stream",
          "text": [
            "hypertension\n",
            "hypertension\n",
            "0    3707\n",
            "1     380\n",
            "Name: count, dtype: int64\n",
            "------------------------------\n",
            "heart_disease\n",
            "heart_disease\n",
            "0    3881\n",
            "1     206\n",
            "Name: count, dtype: int64\n",
            "------------------------------\n",
            "ever_married\n",
            "ever_married\n",
            "Yes    2669\n",
            "No     1418\n",
            "Name: count, dtype: int64\n",
            "------------------------------\n",
            "smoking_status\n",
            "smoking_status\n",
            "never smoked       1502\n",
            "Unknown            1239\n",
            "formerly smoked     709\n",
            "smokes              637\n",
            "Name: count, dtype: int64\n",
            "------------------------------\n"
          ]
        }
      ],
      "source": [
        "# Loop untuk setiap nama kolom kategori dalam cat_cols\n",
        "for i in cat_cols:\n",
        "    # Mencetak nama kolom kategori\n",
        "    print(i)\n",
        "    # Mencetak nilai perhitungan jumlah masing-masing nilai dalam kolom i dari X_train_cat\n",
        "    print(X_train_cat[i].value_counts())\n",
        "    # Mencetak garis putus-putus untuk pemisah\n",
        "    print(\"-\"*30)\n"
      ]
    },
    {
      "cell_type": "markdown",
      "metadata": {
        "id": "4oJ5DGxS1KaT"
      },
      "source": [
        "- cardinalitas rendah\n",
        "- semua kolom termasuk kedalam kategorikal"
      ]
    },
    {
      "cell_type": "code",
      "execution_count": 50,
      "metadata": {
        "colab": {
          "base_uri": "https://localhost:8080/",
          "height": 143
        },
        "id": "xHBobG71-kkN",
        "outputId": "4e731261-05fd-432c-d672-b8b58bae636f"
      },
      "outputs": [
        {
          "data": {
            "application/vnd.google.colaboratory.intrinsic+json": {
              "summary": "{\n  \"name\": \"pd\",\n  \"rows\": 2,\n  \"fields\": [\n    {\n      \"column\": \"gender\",\n      \"properties\": {\n        \"dtype\": \"string\",\n        \"num_unique_values\": 2,\n        \"samples\": [\n          \"Male\",\n          \"Female\"\n        ],\n        \"semantic_type\": \"\",\n        \"description\": \"\"\n      }\n    },\n    {\n      \"column\": \"Govt_job\",\n      \"properties\": {\n        \"dtype\": \"number\",\n        \"std\": 99,\n        \"min\": 258,\n        \"max\": 399,\n        \"num_unique_values\": 2,\n        \"samples\": [\n          258,\n          399\n        ],\n        \"semantic_type\": \"\",\n        \"description\": \"\"\n      }\n    },\n    {\n      \"column\": \"Never_worked\",\n      \"properties\": {\n        \"dtype\": \"number\",\n        \"std\": 0,\n        \"min\": 11,\n        \"max\": 11,\n        \"num_unique_values\": 1,\n        \"samples\": [\n          11\n        ],\n        \"semantic_type\": \"\",\n        \"description\": \"\"\n      }\n    },\n    {\n      \"column\": \"Private\",\n      \"properties\": {\n        \"dtype\": \"number\",\n        \"std\": 412,\n        \"min\": 1170,\n        \"max\": 1754,\n        \"num_unique_values\": 2,\n        \"samples\": [\n          1170\n        ],\n        \"semantic_type\": \"\",\n        \"description\": \"\"\n      }\n    },\n    {\n      \"column\": \"Self-employed\",\n      \"properties\": {\n        \"dtype\": \"number\",\n        \"std\": 133,\n        \"min\": 315,\n        \"max\": 504,\n        \"num_unique_values\": 2,\n        \"samples\": [\n          315\n        ],\n        \"semantic_type\": \"\",\n        \"description\": \"\"\n      }\n    },\n    {\n      \"column\": \"children\",\n      \"properties\": {\n        \"dtype\": \"number\",\n        \"std\": 24,\n        \"min\": 326,\n        \"max\": 361,\n        \"num_unique_values\": 2,\n        \"samples\": [\n          361\n        ],\n        \"semantic_type\": \"\",\n        \"description\": \"\"\n      }\n    }\n  ]\n}",
              "type": "dataframe"
            },
            "text/html": [
              "\n",
              "  <div id=\"df-148633ab-02bd-4ebe-b9cb-59629aad9315\" class=\"colab-df-container\">\n",
              "    <div>\n",
              "<style scoped>\n",
              "    .dataframe tbody tr th:only-of-type {\n",
              "        vertical-align: middle;\n",
              "    }\n",
              "\n",
              "    .dataframe tbody tr th {\n",
              "        vertical-align: top;\n",
              "    }\n",
              "\n",
              "    .dataframe thead th {\n",
              "        text-align: right;\n",
              "    }\n",
              "</style>\n",
              "<table border=\"1\" class=\"dataframe\">\n",
              "  <thead>\n",
              "    <tr style=\"text-align: right;\">\n",
              "      <th>work_type</th>\n",
              "      <th>Govt_job</th>\n",
              "      <th>Never_worked</th>\n",
              "      <th>Private</th>\n",
              "      <th>Self-employed</th>\n",
              "      <th>children</th>\n",
              "    </tr>\n",
              "    <tr>\n",
              "      <th>gender</th>\n",
              "      <th></th>\n",
              "      <th></th>\n",
              "      <th></th>\n",
              "      <th></th>\n",
              "      <th></th>\n",
              "    </tr>\n",
              "  </thead>\n",
              "  <tbody>\n",
              "    <tr>\n",
              "      <th>Female</th>\n",
              "      <td>399</td>\n",
              "      <td>11</td>\n",
              "      <td>1754</td>\n",
              "      <td>504</td>\n",
              "      <td>326</td>\n",
              "    </tr>\n",
              "    <tr>\n",
              "      <th>Male</th>\n",
              "      <td>258</td>\n",
              "      <td>11</td>\n",
              "      <td>1170</td>\n",
              "      <td>315</td>\n",
              "      <td>361</td>\n",
              "    </tr>\n",
              "  </tbody>\n",
              "</table>\n",
              "</div>\n",
              "    <div class=\"colab-df-buttons\">\n",
              "\n",
              "  <div class=\"colab-df-container\">\n",
              "    <button class=\"colab-df-convert\" onclick=\"convertToInteractive('df-148633ab-02bd-4ebe-b9cb-59629aad9315')\"\n",
              "            title=\"Convert this dataframe to an interactive table.\"\n",
              "            style=\"display:none;\">\n",
              "\n",
              "  <svg xmlns=\"http://www.w3.org/2000/svg\" height=\"24px\" viewBox=\"0 -960 960 960\">\n",
              "    <path d=\"M120-120v-720h720v720H120Zm60-500h600v-160H180v160Zm220 220h160v-160H400v160Zm0 220h160v-160H400v160ZM180-400h160v-160H180v160Zm440 0h160v-160H620v160ZM180-180h160v-160H180v160Zm440 0h160v-160H620v160Z\"/>\n",
              "  </svg>\n",
              "    </button>\n",
              "\n",
              "  <style>\n",
              "    .colab-df-container {\n",
              "      display:flex;\n",
              "      gap: 12px;\n",
              "    }\n",
              "\n",
              "    .colab-df-convert {\n",
              "      background-color: #E8F0FE;\n",
              "      border: none;\n",
              "      border-radius: 50%;\n",
              "      cursor: pointer;\n",
              "      display: none;\n",
              "      fill: #1967D2;\n",
              "      height: 32px;\n",
              "      padding: 0 0 0 0;\n",
              "      width: 32px;\n",
              "    }\n",
              "\n",
              "    .colab-df-convert:hover {\n",
              "      background-color: #E2EBFA;\n",
              "      box-shadow: 0px 1px 2px rgba(60, 64, 67, 0.3), 0px 1px 3px 1px rgba(60, 64, 67, 0.15);\n",
              "      fill: #174EA6;\n",
              "    }\n",
              "\n",
              "    .colab-df-buttons div {\n",
              "      margin-bottom: 4px;\n",
              "    }\n",
              "\n",
              "    [theme=dark] .colab-df-convert {\n",
              "      background-color: #3B4455;\n",
              "      fill: #D2E3FC;\n",
              "    }\n",
              "\n",
              "    [theme=dark] .colab-df-convert:hover {\n",
              "      background-color: #434B5C;\n",
              "      box-shadow: 0px 1px 3px 1px rgba(0, 0, 0, 0.15);\n",
              "      filter: drop-shadow(0px 1px 2px rgba(0, 0, 0, 0.3));\n",
              "      fill: #FFFFFF;\n",
              "    }\n",
              "  </style>\n",
              "\n",
              "    <script>\n",
              "      const buttonEl =\n",
              "        document.querySelector('#df-148633ab-02bd-4ebe-b9cb-59629aad9315 button.colab-df-convert');\n",
              "      buttonEl.style.display =\n",
              "        google.colab.kernel.accessAllowed ? 'block' : 'none';\n",
              "\n",
              "      async function convertToInteractive(key) {\n",
              "        const element = document.querySelector('#df-148633ab-02bd-4ebe-b9cb-59629aad9315');\n",
              "        const dataTable =\n",
              "          await google.colab.kernel.invokeFunction('convertToInteractive',\n",
              "                                                    [key], {});\n",
              "        if (!dataTable) return;\n",
              "\n",
              "        const docLinkHtml = 'Like what you see? Visit the ' +\n",
              "          '<a target=\"_blank\" href=https://colab.research.google.com/notebooks/data_table.ipynb>data table notebook</a>'\n",
              "          + ' to learn more about interactive tables.';\n",
              "        element.innerHTML = '';\n",
              "        dataTable['output_type'] = 'display_data';\n",
              "        await google.colab.output.renderOutput(dataTable, element);\n",
              "        const docLink = document.createElement('div');\n",
              "        docLink.innerHTML = docLinkHtml;\n",
              "        element.appendChild(docLink);\n",
              "      }\n",
              "    </script>\n",
              "  </div>\n",
              "\n",
              "\n",
              "<div id=\"df-d5f901b9-97bd-4761-b02c-cfcec1c23512\">\n",
              "  <button class=\"colab-df-quickchart\" onclick=\"quickchart('df-d5f901b9-97bd-4761-b02c-cfcec1c23512')\"\n",
              "            title=\"Suggest charts\"\n",
              "            style=\"display:none;\">\n",
              "\n",
              "<svg xmlns=\"http://www.w3.org/2000/svg\" height=\"24px\"viewBox=\"0 0 24 24\"\n",
              "     width=\"24px\">\n",
              "    <g>\n",
              "        <path d=\"M19 3H5c-1.1 0-2 .9-2 2v14c0 1.1.9 2 2 2h14c1.1 0 2-.9 2-2V5c0-1.1-.9-2-2-2zM9 17H7v-7h2v7zm4 0h-2V7h2v10zm4 0h-2v-4h2v4z\"/>\n",
              "    </g>\n",
              "</svg>\n",
              "  </button>\n",
              "\n",
              "<style>\n",
              "  .colab-df-quickchart {\n",
              "      --bg-color: #E8F0FE;\n",
              "      --fill-color: #1967D2;\n",
              "      --hover-bg-color: #E2EBFA;\n",
              "      --hover-fill-color: #174EA6;\n",
              "      --disabled-fill-color: #AAA;\n",
              "      --disabled-bg-color: #DDD;\n",
              "  }\n",
              "\n",
              "  [theme=dark] .colab-df-quickchart {\n",
              "      --bg-color: #3B4455;\n",
              "      --fill-color: #D2E3FC;\n",
              "      --hover-bg-color: #434B5C;\n",
              "      --hover-fill-color: #FFFFFF;\n",
              "      --disabled-bg-color: #3B4455;\n",
              "      --disabled-fill-color: #666;\n",
              "  }\n",
              "\n",
              "  .colab-df-quickchart {\n",
              "    background-color: var(--bg-color);\n",
              "    border: none;\n",
              "    border-radius: 50%;\n",
              "    cursor: pointer;\n",
              "    display: none;\n",
              "    fill: var(--fill-color);\n",
              "    height: 32px;\n",
              "    padding: 0;\n",
              "    width: 32px;\n",
              "  }\n",
              "\n",
              "  .colab-df-quickchart:hover {\n",
              "    background-color: var(--hover-bg-color);\n",
              "    box-shadow: 0 1px 2px rgba(60, 64, 67, 0.3), 0 1px 3px 1px rgba(60, 64, 67, 0.15);\n",
              "    fill: var(--button-hover-fill-color);\n",
              "  }\n",
              "\n",
              "  .colab-df-quickchart-complete:disabled,\n",
              "  .colab-df-quickchart-complete:disabled:hover {\n",
              "    background-color: var(--disabled-bg-color);\n",
              "    fill: var(--disabled-fill-color);\n",
              "    box-shadow: none;\n",
              "  }\n",
              "\n",
              "  .colab-df-spinner {\n",
              "    border: 2px solid var(--fill-color);\n",
              "    border-color: transparent;\n",
              "    border-bottom-color: var(--fill-color);\n",
              "    animation:\n",
              "      spin 1s steps(1) infinite;\n",
              "  }\n",
              "\n",
              "  @keyframes spin {\n",
              "    0% {\n",
              "      border-color: transparent;\n",
              "      border-bottom-color: var(--fill-color);\n",
              "      border-left-color: var(--fill-color);\n",
              "    }\n",
              "    20% {\n",
              "      border-color: transparent;\n",
              "      border-left-color: var(--fill-color);\n",
              "      border-top-color: var(--fill-color);\n",
              "    }\n",
              "    30% {\n",
              "      border-color: transparent;\n",
              "      border-left-color: var(--fill-color);\n",
              "      border-top-color: var(--fill-color);\n",
              "      border-right-color: var(--fill-color);\n",
              "    }\n",
              "    40% {\n",
              "      border-color: transparent;\n",
              "      border-right-color: var(--fill-color);\n",
              "      border-top-color: var(--fill-color);\n",
              "    }\n",
              "    60% {\n",
              "      border-color: transparent;\n",
              "      border-right-color: var(--fill-color);\n",
              "    }\n",
              "    80% {\n",
              "      border-color: transparent;\n",
              "      border-right-color: var(--fill-color);\n",
              "      border-bottom-color: var(--fill-color);\n",
              "    }\n",
              "    90% {\n",
              "      border-color: transparent;\n",
              "      border-bottom-color: var(--fill-color);\n",
              "    }\n",
              "  }\n",
              "</style>\n",
              "\n",
              "  <script>\n",
              "    async function quickchart(key) {\n",
              "      const quickchartButtonEl =\n",
              "        document.querySelector('#' + key + ' button');\n",
              "      quickchartButtonEl.disabled = true;  // To prevent multiple clicks.\n",
              "      quickchartButtonEl.classList.add('colab-df-spinner');\n",
              "      try {\n",
              "        const charts = await google.colab.kernel.invokeFunction(\n",
              "            'suggestCharts', [key], {});\n",
              "      } catch (error) {\n",
              "        console.error('Error during call to suggestCharts:', error);\n",
              "      }\n",
              "      quickchartButtonEl.classList.remove('colab-df-spinner');\n",
              "      quickchartButtonEl.classList.add('colab-df-quickchart-complete');\n",
              "    }\n",
              "    (() => {\n",
              "      let quickchartButtonEl =\n",
              "        document.querySelector('#df-d5f901b9-97bd-4761-b02c-cfcec1c23512 button');\n",
              "      quickchartButtonEl.style.display =\n",
              "        google.colab.kernel.accessAllowed ? 'block' : 'none';\n",
              "    })();\n",
              "  </script>\n",
              "</div>\n",
              "\n",
              "    </div>\n",
              "  </div>\n"
            ],
            "text/plain": [
              "work_type  Govt_job  Never_worked  Private  Self-employed  children\n",
              "gender                                                             \n",
              "Female          399            11     1754            504       326\n",
              "Male            258            11     1170            315       361"
            ]
          },
          "execution_count": 50,
          "metadata": {},
          "output_type": "execute_result"
        }
      ],
      "source": [
        "# Membuat tabel silang (crosstab) antara kolom 'gender' dan 'work_type' dari DataFrame\n",
        "pd.crosstab(df.gender, df.work_type)"
      ]
    },
    {
      "cell_type": "markdown",
      "metadata": {
        "id": "XGH-8nMgdVAA"
      },
      "source": [
        "- Crosstab diatas memperlihatkan tipe pekerjaan untuk tiap gender, yang mana perempuan cenderung mendominasi atau paling banyak pada tiap sektor"
      ]
    },
    {
      "cell_type": "code",
      "execution_count": 51,
      "metadata": {
        "colab": {
          "base_uri": "https://localhost:8080/",
          "height": 143
        },
        "id": "cYiTiAJIEV4F",
        "outputId": "a375571b-1a22-4872-a877-cf2bf2fe7ef4"
      },
      "outputs": [
        {
          "data": {
            "application/vnd.google.colaboratory.intrinsic+json": {
              "summary": "{\n  \"name\": \"pd\",\n  \"rows\": 2,\n  \"fields\": [\n    {\n      \"column\": \"gender\",\n      \"properties\": {\n        \"dtype\": \"string\",\n        \"num_unique_values\": 2,\n        \"samples\": [\n          \"Male\",\n          \"Female\"\n        ],\n        \"semantic_type\": \"\",\n        \"description\": \"\"\n      }\n    },\n    {\n      \"column\": \"No\",\n      \"properties\": {\n        \"dtype\": \"number\",\n        \"std\": 162,\n        \"min\": 763,\n        \"max\": 993,\n        \"num_unique_values\": 2,\n        \"samples\": [\n          763,\n          993\n        ],\n        \"semantic_type\": \"\",\n        \"description\": \"\"\n      }\n    },\n    {\n      \"column\": \"Yes\",\n      \"properties\": {\n        \"dtype\": \"number\",\n        \"std\": 458,\n        \"min\": 1352,\n        \"max\": 2001,\n        \"num_unique_values\": 2,\n        \"samples\": [\n          1352,\n          2001\n        ],\n        \"semantic_type\": \"\",\n        \"description\": \"\"\n      }\n    }\n  ]\n}",
              "type": "dataframe"
            },
            "text/html": [
              "\n",
              "  <div id=\"df-6160a0b8-3209-4701-a289-8154983f9a71\" class=\"colab-df-container\">\n",
              "    <div>\n",
              "<style scoped>\n",
              "    .dataframe tbody tr th:only-of-type {\n",
              "        vertical-align: middle;\n",
              "    }\n",
              "\n",
              "    .dataframe tbody tr th {\n",
              "        vertical-align: top;\n",
              "    }\n",
              "\n",
              "    .dataframe thead th {\n",
              "        text-align: right;\n",
              "    }\n",
              "</style>\n",
              "<table border=\"1\" class=\"dataframe\">\n",
              "  <thead>\n",
              "    <tr style=\"text-align: right;\">\n",
              "      <th>ever_married</th>\n",
              "      <th>No</th>\n",
              "      <th>Yes</th>\n",
              "    </tr>\n",
              "    <tr>\n",
              "      <th>gender</th>\n",
              "      <th></th>\n",
              "      <th></th>\n",
              "    </tr>\n",
              "  </thead>\n",
              "  <tbody>\n",
              "    <tr>\n",
              "      <th>Female</th>\n",
              "      <td>993</td>\n",
              "      <td>2001</td>\n",
              "    </tr>\n",
              "    <tr>\n",
              "      <th>Male</th>\n",
              "      <td>763</td>\n",
              "      <td>1352</td>\n",
              "    </tr>\n",
              "  </tbody>\n",
              "</table>\n",
              "</div>\n",
              "    <div class=\"colab-df-buttons\">\n",
              "\n",
              "  <div class=\"colab-df-container\">\n",
              "    <button class=\"colab-df-convert\" onclick=\"convertToInteractive('df-6160a0b8-3209-4701-a289-8154983f9a71')\"\n",
              "            title=\"Convert this dataframe to an interactive table.\"\n",
              "            style=\"display:none;\">\n",
              "\n",
              "  <svg xmlns=\"http://www.w3.org/2000/svg\" height=\"24px\" viewBox=\"0 -960 960 960\">\n",
              "    <path d=\"M120-120v-720h720v720H120Zm60-500h600v-160H180v160Zm220 220h160v-160H400v160Zm0 220h160v-160H400v160ZM180-400h160v-160H180v160Zm440 0h160v-160H620v160ZM180-180h160v-160H180v160Zm440 0h160v-160H620v160Z\"/>\n",
              "  </svg>\n",
              "    </button>\n",
              "\n",
              "  <style>\n",
              "    .colab-df-container {\n",
              "      display:flex;\n",
              "      gap: 12px;\n",
              "    }\n",
              "\n",
              "    .colab-df-convert {\n",
              "      background-color: #E8F0FE;\n",
              "      border: none;\n",
              "      border-radius: 50%;\n",
              "      cursor: pointer;\n",
              "      display: none;\n",
              "      fill: #1967D2;\n",
              "      height: 32px;\n",
              "      padding: 0 0 0 0;\n",
              "      width: 32px;\n",
              "    }\n",
              "\n",
              "    .colab-df-convert:hover {\n",
              "      background-color: #E2EBFA;\n",
              "      box-shadow: 0px 1px 2px rgba(60, 64, 67, 0.3), 0px 1px 3px 1px rgba(60, 64, 67, 0.15);\n",
              "      fill: #174EA6;\n",
              "    }\n",
              "\n",
              "    .colab-df-buttons div {\n",
              "      margin-bottom: 4px;\n",
              "    }\n",
              "\n",
              "    [theme=dark] .colab-df-convert {\n",
              "      background-color: #3B4455;\n",
              "      fill: #D2E3FC;\n",
              "    }\n",
              "\n",
              "    [theme=dark] .colab-df-convert:hover {\n",
              "      background-color: #434B5C;\n",
              "      box-shadow: 0px 1px 3px 1px rgba(0, 0, 0, 0.15);\n",
              "      filter: drop-shadow(0px 1px 2px rgba(0, 0, 0, 0.3));\n",
              "      fill: #FFFFFF;\n",
              "    }\n",
              "  </style>\n",
              "\n",
              "    <script>\n",
              "      const buttonEl =\n",
              "        document.querySelector('#df-6160a0b8-3209-4701-a289-8154983f9a71 button.colab-df-convert');\n",
              "      buttonEl.style.display =\n",
              "        google.colab.kernel.accessAllowed ? 'block' : 'none';\n",
              "\n",
              "      async function convertToInteractive(key) {\n",
              "        const element = document.querySelector('#df-6160a0b8-3209-4701-a289-8154983f9a71');\n",
              "        const dataTable =\n",
              "          await google.colab.kernel.invokeFunction('convertToInteractive',\n",
              "                                                    [key], {});\n",
              "        if (!dataTable) return;\n",
              "\n",
              "        const docLinkHtml = 'Like what you see? Visit the ' +\n",
              "          '<a target=\"_blank\" href=https://colab.research.google.com/notebooks/data_table.ipynb>data table notebook</a>'\n",
              "          + ' to learn more about interactive tables.';\n",
              "        element.innerHTML = '';\n",
              "        dataTable['output_type'] = 'display_data';\n",
              "        await google.colab.output.renderOutput(dataTable, element);\n",
              "        const docLink = document.createElement('div');\n",
              "        docLink.innerHTML = docLinkHtml;\n",
              "        element.appendChild(docLink);\n",
              "      }\n",
              "    </script>\n",
              "  </div>\n",
              "\n",
              "\n",
              "<div id=\"df-e1c2a1f5-f0a3-4c3b-8bd5-5b30021bab40\">\n",
              "  <button class=\"colab-df-quickchart\" onclick=\"quickchart('df-e1c2a1f5-f0a3-4c3b-8bd5-5b30021bab40')\"\n",
              "            title=\"Suggest charts\"\n",
              "            style=\"display:none;\">\n",
              "\n",
              "<svg xmlns=\"http://www.w3.org/2000/svg\" height=\"24px\"viewBox=\"0 0 24 24\"\n",
              "     width=\"24px\">\n",
              "    <g>\n",
              "        <path d=\"M19 3H5c-1.1 0-2 .9-2 2v14c0 1.1.9 2 2 2h14c1.1 0 2-.9 2-2V5c0-1.1-.9-2-2-2zM9 17H7v-7h2v7zm4 0h-2V7h2v10zm4 0h-2v-4h2v4z\"/>\n",
              "    </g>\n",
              "</svg>\n",
              "  </button>\n",
              "\n",
              "<style>\n",
              "  .colab-df-quickchart {\n",
              "      --bg-color: #E8F0FE;\n",
              "      --fill-color: #1967D2;\n",
              "      --hover-bg-color: #E2EBFA;\n",
              "      --hover-fill-color: #174EA6;\n",
              "      --disabled-fill-color: #AAA;\n",
              "      --disabled-bg-color: #DDD;\n",
              "  }\n",
              "\n",
              "  [theme=dark] .colab-df-quickchart {\n",
              "      --bg-color: #3B4455;\n",
              "      --fill-color: #D2E3FC;\n",
              "      --hover-bg-color: #434B5C;\n",
              "      --hover-fill-color: #FFFFFF;\n",
              "      --disabled-bg-color: #3B4455;\n",
              "      --disabled-fill-color: #666;\n",
              "  }\n",
              "\n",
              "  .colab-df-quickchart {\n",
              "    background-color: var(--bg-color);\n",
              "    border: none;\n",
              "    border-radius: 50%;\n",
              "    cursor: pointer;\n",
              "    display: none;\n",
              "    fill: var(--fill-color);\n",
              "    height: 32px;\n",
              "    padding: 0;\n",
              "    width: 32px;\n",
              "  }\n",
              "\n",
              "  .colab-df-quickchart:hover {\n",
              "    background-color: var(--hover-bg-color);\n",
              "    box-shadow: 0 1px 2px rgba(60, 64, 67, 0.3), 0 1px 3px 1px rgba(60, 64, 67, 0.15);\n",
              "    fill: var(--button-hover-fill-color);\n",
              "  }\n",
              "\n",
              "  .colab-df-quickchart-complete:disabled,\n",
              "  .colab-df-quickchart-complete:disabled:hover {\n",
              "    background-color: var(--disabled-bg-color);\n",
              "    fill: var(--disabled-fill-color);\n",
              "    box-shadow: none;\n",
              "  }\n",
              "\n",
              "  .colab-df-spinner {\n",
              "    border: 2px solid var(--fill-color);\n",
              "    border-color: transparent;\n",
              "    border-bottom-color: var(--fill-color);\n",
              "    animation:\n",
              "      spin 1s steps(1) infinite;\n",
              "  }\n",
              "\n",
              "  @keyframes spin {\n",
              "    0% {\n",
              "      border-color: transparent;\n",
              "      border-bottom-color: var(--fill-color);\n",
              "      border-left-color: var(--fill-color);\n",
              "    }\n",
              "    20% {\n",
              "      border-color: transparent;\n",
              "      border-left-color: var(--fill-color);\n",
              "      border-top-color: var(--fill-color);\n",
              "    }\n",
              "    30% {\n",
              "      border-color: transparent;\n",
              "      border-left-color: var(--fill-color);\n",
              "      border-top-color: var(--fill-color);\n",
              "      border-right-color: var(--fill-color);\n",
              "    }\n",
              "    40% {\n",
              "      border-color: transparent;\n",
              "      border-right-color: var(--fill-color);\n",
              "      border-top-color: var(--fill-color);\n",
              "    }\n",
              "    60% {\n",
              "      border-color: transparent;\n",
              "      border-right-color: var(--fill-color);\n",
              "    }\n",
              "    80% {\n",
              "      border-color: transparent;\n",
              "      border-right-color: var(--fill-color);\n",
              "      border-bottom-color: var(--fill-color);\n",
              "    }\n",
              "    90% {\n",
              "      border-color: transparent;\n",
              "      border-bottom-color: var(--fill-color);\n",
              "    }\n",
              "  }\n",
              "</style>\n",
              "\n",
              "  <script>\n",
              "    async function quickchart(key) {\n",
              "      const quickchartButtonEl =\n",
              "        document.querySelector('#' + key + ' button');\n",
              "      quickchartButtonEl.disabled = true;  // To prevent multiple clicks.\n",
              "      quickchartButtonEl.classList.add('colab-df-spinner');\n",
              "      try {\n",
              "        const charts = await google.colab.kernel.invokeFunction(\n",
              "            'suggestCharts', [key], {});\n",
              "      } catch (error) {\n",
              "        console.error('Error during call to suggestCharts:', error);\n",
              "      }\n",
              "      quickchartButtonEl.classList.remove('colab-df-spinner');\n",
              "      quickchartButtonEl.classList.add('colab-df-quickchart-complete');\n",
              "    }\n",
              "    (() => {\n",
              "      let quickchartButtonEl =\n",
              "        document.querySelector('#df-e1c2a1f5-f0a3-4c3b-8bd5-5b30021bab40 button');\n",
              "      quickchartButtonEl.style.display =\n",
              "        google.colab.kernel.accessAllowed ? 'block' : 'none';\n",
              "    })();\n",
              "  </script>\n",
              "</div>\n",
              "\n",
              "    </div>\n",
              "  </div>\n"
            ],
            "text/plain": [
              "ever_married   No   Yes\n",
              "gender                 \n",
              "Female        993  2001\n",
              "Male          763  1352"
            ]
          },
          "execution_count": 51,
          "metadata": {},
          "output_type": "execute_result"
        }
      ],
      "source": [
        "# Membuat tabel silang (crosstab) antara kolom 'gender' dan 'ever_married' dari DataFrame\n",
        "pd.crosstab(df.gender, df.ever_married)"
      ]
    },
    {
      "cell_type": "markdown",
      "metadata": {
        "id": "BWN5JhKxdiYA"
      },
      "source": [
        "- sedangkan crosstab ini, untuk mengetahui berapa banyak pria dan wanita yang sudah menikah"
      ]
    },
    {
      "cell_type": "code",
      "execution_count": 52,
      "metadata": {
        "colab": {
          "base_uri": "https://localhost:8080/",
          "height": 529
        },
        "id": "o7jKz6KlDip-",
        "outputId": "13ce0841-08b9-4bc8-fc65-a48b4b372bcc"
      },
      "outputs": [
        {
          "data": {
            "image/png": "[encoded data removed]",
            "text/plain": [
              "<Figure size 1000x500 with 1 Axes>"
            ]
          },
          "metadata": {},
          "output_type": "display_data"
        }
      ],
      "source": [
        "# Membuat figure dan axes untuk plot dengan ukuran 10x5\n",
        "fig, x = plt.subplots(figsize=(10, 5))\n",
        "# Mengatur warna latar belakang figure\n",
        "fig.patch.set_facecolor('#f6f5f7')\n",
        "# Mengatur warna latar belakang axes\n",
        "x.set_facecolor('#f6f5f7')\n",
        "# Memfilter DataFrame untuk hanya menyertakan baris di mana 'ever_married' adalah \"Yes\"\n",
        "j = df[df['ever_married'] == \"Yes\"]\n",
        "# Membuat countplot untuk kolom 'gender' dengan kondisi 'ever_married'\n",
        "x = sns.countplot(data=j, x=\"gender\", palette='RdPu', hue='ever_married')\n",
        "# Menambahkan label pada tiap batang\n",
        "for i in x.containers:\n",
        "    x.bar_label(i)\n",
        "# Mengatur label sumbu x\n",
        "plt.xlabel(\"Gender\")\n",
        "# Mengatur label sumbu y\n",
        "plt.ylabel(\"Count\")\n",
        "# Mengatur judul plot\n",
        "plt.title(\"\\nCount of Gender with 'ever_married' condition\\n\", weight=\"bold\")\n",
        "# Menampilkan plot\n",
        "plt.show()"
      ]
    },
    {
      "cell_type": "markdown",
      "metadata": {
        "id": "6q7wwz34eFlq"
      },
      "source": [
        "- dapat dilihat pada bar chart diatas bahwa lebih banyak wanita yang sudah menikah dibanding pria"
      ]
    },
    {
      "cell_type": "markdown",
      "metadata": {
        "id": "jt2j96rO2g3A"
      },
      "source": [
        "### Outlier Handling"
      ]
    },
    {
      "cell_type": "markdown",
      "metadata": {
        "id": "2vkmnaS62tdJ"
      },
      "source": [
        "#### Skewness Score"
      ]
    },
    {
      "cell_type": "code",
      "execution_count": 53,
      "metadata": {
        "colab": {
          "base_uri": "https://localhost:8080/",
          "height": 1000
        },
        "id": "1wi-0O3CcvAc",
        "outputId": "36acdaa0-5d83-44ef-f815-434d5c441375"
      },
      "outputs": [
        {
          "data": {
            "image/png": "[encoded data removed]",
            "text/plain": [
              "<Figure size 640x480 with 1 Axes>"
            ]
          },
          "metadata": {},
          "output_type": "display_data"
        },
        {
          "name": "stdout",
          "output_type": "stream",
          "text": [
            "Skewness dari age: -0.1160272672017681\n",
            "------------------------------\n"
          ]
        },
        {
          "data": {
            "image/png": "[encoded data removed]",
            "text/plain": [
              "<Figure size 640x480 with 1 Axes>"
            ]
          },
          "metadata": {},
          "output_type": "display_data"
        },
        {
          "name": "stdout",
          "output_type": "stream",
          "text": [
            "Skewness dari avg_glucose_level: 1.5706169793944744\n",
            "------------------------------\n"
          ]
        }
      ],
      "source": [
        "# Loop melalui setiap kolom numerik\n",
        "for col in num_cols:\n",
        "    # Buat histogram dengan KDE\n",
        "    sns.histplot(data=X_train_num, x=col, kde=True)\n",
        "\n",
        "    # Tambahkan judul dan label\n",
        "    plt.title(f'Distribusi dari {col}')\n",
        "    plt.xlabel(col)\n",
        "    plt.ylabel('Frekuensi')\n",
        "\n",
        "    # Tampilkan plot\n",
        "    plt.show()\n",
        "\n",
        "    # Cetak skewness (kemencengan)\n",
        "    print(f'Skewness dari {col}: {X_train_num[col].skew()}')\n",
        "\n",
        "    # Cetak garis pemisah\n",
        "    print('-' * 30)"
      ]
    },
    {
      "cell_type": "markdown",
      "metadata": {
        "id": "qniLRgZ7akYc"
      },
      "source": [
        "- nilai skewness pada kolom `age` cukup tidak normal\n",
        "- nilai skewness pada kolom `avg_glucose_level` sangat tidak normal"
      ]
    },
    {
      "cell_type": "markdown",
      "metadata": {
        "id": "mMnkmwjm5LCV"
      },
      "source": [
        "#### Capping"
      ]
    },
    {
      "cell_type": "code",
      "execution_count": 54,
      "metadata": {
        "id": "O-WnixW95T83"
      },
      "outputs": [],
      "source": [
        "# Menerapkan Winsorizer untuk mengatasi batas outlier pada kolom avg_glucose_level\n",
        "\n",
        "# Inisialisasi Winsorizer dengan parameter tertentu\n",
        "winsorizer = Winsorizer(capping_method='iqr',\n",
        "                        tail='both',\n",
        "                        fold=1.5,\n",
        "                        variables=\"avg_glucose_level\")\n",
        "\n",
        "# Melakukan transformasi menggunakan fit_transform untuk data LATIH (TRAIN)\n",
        "X_train_num = winsorizer.fit_transform(X_train_num)\n",
        "\n",
        "# Melakukan transformasi menggunakan transform untuk data UJI (TEST)\n",
        "X_test_num = winsorizer.transform(X_test_num)\n"
      ]
    },
    {
      "cell_type": "code",
      "execution_count": 55,
      "metadata": {
        "colab": {
          "base_uri": "https://localhost:8080/"
        },
        "id": "WxY0g_x89wa5",
        "outputId": "75818cb6-398d-413c-8761-dacce95da6c8"
      },
      "outputs": [
        {
          "data": {
            "text/plain": [
              "0.9415996393698571"
            ]
          },
          "execution_count": 55,
          "metadata": {},
          "output_type": "execute_result"
        }
      ],
      "source": [
        "X_train_num['avg_glucose_level'].skew()"
      ]
    },
    {
      "cell_type": "markdown",
      "metadata": {
        "id": "2zfxhiq690Aw"
      },
      "source": [
        "- Nilai skewness sudah berkurang walaupun sedikit, selanjutnya akan dilakukan scalling dengan menggunakan standar scaller"
      ]
    },
    {
      "cell_type": "markdown",
      "metadata": {
        "id": "HOBJ94of6OiE"
      },
      "source": [
        "# **MODEL DEFINITION**"
      ]
    },
    {
      "cell_type": "markdown",
      "metadata": {
        "id": "R17lak8n6mGq"
      },
      "source": [
        "## K-Nearest Neighbors (KNN)"
      ]
    },
    {
      "cell_type": "code",
      "execution_count": 56,
      "metadata": {
        "id": "lvMwUfU96p20"
      },
      "outputs": [],
      "source": [
        "# Membuat objek model KNeighborsClassifier\n",
        "model_knn = KNeighborsClassifier()"
      ]
    },
    {
      "cell_type": "markdown",
      "metadata": {
        "id": "bc3Tx6rQ6sph"
      },
      "source": [
        "## Support Vector Machine (SVM)"
      ]
    },
    {
      "cell_type": "code",
      "execution_count": 57,
      "metadata": {
        "id": "pmVileed6vqp"
      },
      "outputs": [],
      "source": [
        "# Membuat objek model SVC (Support Vector Classifier)\n",
        "model_svm = SVC()"
      ]
    },
    {
      "cell_type": "markdown",
      "metadata": {
        "id": "atIh2WqO65Rp"
      },
      "source": [
        "## Decision Tree"
      ]
    },
    {
      "cell_type": "code",
      "execution_count": 58,
      "metadata": {
        "id": "V84d1u4a68CC"
      },
      "outputs": [],
      "source": [
        "# Membuat objek model DecisionTreeClassifier\n",
        "model_dt = DecisionTreeClassifier()"
      ]
    },
    {
      "cell_type": "markdown",
      "metadata": {
        "id": "PioORI9Y692o"
      },
      "source": [
        "## Random Forest"
      ]
    },
    {
      "cell_type": "code",
      "execution_count": 59,
      "metadata": {
        "id": "zTTvYw5Z7Bbx"
      },
      "outputs": [],
      "source": [
        "# Membuat objek model RandomForestClassifier\n",
        "model_rf = RandomForestClassifier()"
      ]
    },
    {
      "cell_type": "markdown",
      "metadata": {
        "id": "ZaIVDzSa7US5"
      },
      "source": [
        "## Boosting"
      ]
    },
    {
      "cell_type": "code",
      "execution_count": 60,
      "metadata": {
        "id": "CPswkSDH7Wkg"
      },
      "outputs": [],
      "source": [
        "# Membuat objek model AdaBoostClassifier\n",
        "model_boost = AdaBoostClassifier()\n"
      ]
    },
    {
      "cell_type": "markdown",
      "metadata": {
        "id": "jdfF3w2G7jFg"
      },
      "source": [
        "## Cross Validation"
      ]
    },
    {
      "cell_type": "markdown",
      "metadata": {
        "id": "sGgFbU9W01Sr"
      },
      "source": [
        "### K-Nearest Neighbors (KNN)"
      ]
    },
    {
      "cell_type": "code",
      "execution_count": 61,
      "metadata": {
        "colab": {
          "base_uri": "https://localhost:8080/"
        },
        "id": "jd2-TTNa7l4J",
        "outputId": "d6eaaf8c-a4fd-4f46-ac05-ad84c530e031"
      },
      "outputs": [
        {
          "name": "stdout",
          "output_type": "stream",
          "text": [
            "Recall Score - All - Cross Validation  :  [0.93076923 0.95512821 0.95512821 0.94487179 0.95384615]\n",
            "Recall Score - Mean - Cross Validation :  0.9479487179487179\n",
            "Recall Score - Std - Cross Validation  :  0.009407146834791881\n",
            "Recall Score - Range of Test-Set       :  0.938541571113926 - 0.9573558647835099\n",
            "CPU times: user 895 ms, sys: 2.81 ms, total: 897 ms\n",
            "Wall time: 1.23 s\n"
          ]
        }
      ],
      "source": [
        "%%time\n",
        "from sklearn.model_selection import cross_val_score\n",
        "\n",
        "Recall_train_cross_val = cross_val_score(model_knn,\n",
        "                                     X_train_balanced,\n",
        "                                     y_train_balanced,\n",
        "                                     cv=5,\n",
        "                                     scoring=\"recall\") # Change 'Recall' to 'recall'\n",
        "\n",
        "print('Recall Score - All - Cross Validation  : ', Recall_train_cross_val)\n",
        "print('Recall Score - Mean - Cross Validation : ', Recall_train_cross_val.mean())\n",
        "print('Recall Score - Std - Cross Validation  : ', Recall_train_cross_val.std())\n",
        "print('Recall Score - Range of Test-Set       : ', (Recall_train_cross_val.mean()-Recall_train_cross_val.std()) , '-', (Recall_train_cross_val.mean()+Recall_train_cross_val.std()))"
      ]
    },
    {
      "cell_type": "markdown",
      "metadata": {
        "id": "kZX1u4yb06SW"
      },
      "source": [
        "### Support Vector Machine (SVM)"
      ]
    },
    {
      "cell_type": "code",
      "execution_count": 62,
      "metadata": {
        "colab": {
          "base_uri": "https://localhost:8080/"
        },
        "id": "HpG2imYMCqdd",
        "outputId": "ba66a134-c946-45af-f1ef-2f6bf1d9f843"
      },
      "outputs": [
        {
          "name": "stdout",
          "output_type": "stream",
          "text": [
            "Recall Score - All - Cross Validation  :  [0.86538462 0.90897436 0.90512821 0.92820513 0.92051282]\n",
            "Recall Score - Mean - Cross Validation :  0.9056410256410257\n",
            "Recall Score - Std - Cross Validation  :  0.021735968669254077\n",
            "Recall Score - Range of Test-Set       :  0.8839050569717716 - 0.9273769943102798\n",
            "CPU times: user 10.8 s, sys: 407 ms, total: 11.2 s\n",
            "Wall time: 18.6 s\n"
          ]
        }
      ],
      "source": [
        "%%time\n",
        "Recall_train_cross_val = cross_val_score(model_svm,\n",
        "                                     X_train_balanced,\n",
        "                                     y_train_balanced,\n",
        "                                     cv=5,\n",
        "                                     scoring=\"recall\") # Change 'Recall' to 'recall'\n",
        "\n",
        "print('Recall Score - All - Cross Validation  : ', Recall_train_cross_val)\n",
        "print('Recall Score - Mean - Cross Validation : ', Recall_train_cross_val.mean())\n",
        "print('Recall Score - Std - Cross Validation  : ', Recall_train_cross_val.std())\n",
        "print('Recall Score - Range of Test-Set       : ', (Recall_train_cross_val.mean()-Recall_train_cross_val.std()) , '-', (Recall_train_cross_val.mean()+Recall_train_cross_val.std()))"
      ]
    },
    {
      "cell_type": "code",
      "execution_count": 63,
      "metadata": {
        "colab": {
          "base_uri": "https://localhost:8080/"
        },
        "id": "f8jitG7IC2ul",
        "outputId": "c9ab8216-eae0-4628-eaf3-c303d673e70f"
      },
      "outputs": [
        {
          "name": "stdout",
          "output_type": "stream",
          "text": [
            "Recall Score - All - Cross Validation  :  [0.86410256 0.90641026 0.9        0.92564103 0.89487179]\n",
            "Recall Score - Mean - Cross Validation :  0.8982051282051282\n",
            "Recall Score - Std - Cross Validation  :  0.01998684643067187\n",
            "Recall Score - Range of Test-Set       :  0.8782182817744564 - 0.9181919746358\n"
          ]
        }
      ],
      "source": [
        "# Define Pipeline\n",
        "pipeline = Pipeline([\n",
        "    ('scaler', StandardScaler()),  # Preprocessing step: scaling\n",
        "    ('svm', SVC())  # Model: SVM\n",
        "])\n",
        "\n",
        "# Perform Cross-Validation\n",
        "Recall_train_cross_val = cross_val_score(pipeline,\n",
        "                                     X_train_balanced,\n",
        "                                     y_train_balanced,\n",
        "                                         cv=5,\n",
        "                                         scoring=\"recall\")\n",
        "\n",
        "# Print Results\n",
        "print('Recall Score - All - Cross Validation  : ', Recall_train_cross_val)\n",
        "print('Recall Score - Mean - Cross Validation : ', Recall_train_cross_val.mean())\n",
        "print('Recall Score - Std - Cross Validation  : ', Recall_train_cross_val.std())\n",
        "print('Recall Score - Range of Test-Set       : ',\n",
        "      (Recall_train_cross_val.mean() - Recall_train_cross_val.std()),\n",
        "      '-',\n",
        "      (Recall_train_cross_val.mean() + Recall_train_cross_val.std()))"
      ]
    },
    {
      "cell_type": "markdown",
      "metadata": {
        "id": "w7Hrplei32Wc"
      },
      "source": [
        "### Decision Tree"
      ]
    },
    {
      "cell_type": "code",
      "execution_count": 64,
      "metadata": {
        "colab": {
          "base_uri": "https://localhost:8080/"
        },
        "id": "Eo01Nd6XDeKm",
        "outputId": "b84d769c-368e-4063-f891-d99112f47e13"
      },
      "outputs": [
        {
          "name": "stdout",
          "output_type": "stream",
          "text": [
            "Recall Score - All - Cross Validation  :  [0.82051282 0.93589744 0.94487179 0.94102564 0.93461538]\n",
            "Recall Score - Mean - Cross Validation :  0.9153846153846155\n",
            "Recall Score - Std - Cross Validation  :  0.04757775047819535\n",
            "Recall Score - Range of Test-Set       :  0.8678068649064201 - 0.9629623658628108\n",
            "CPU times: user 175 ms, sys: 5.94 ms, total: 181 ms\n",
            "Wall time: 211 ms\n"
          ]
        }
      ],
      "source": [
        "%%time\n",
        "Recall_train_cross_val = cross_val_score(model_dt,\n",
        "                                     X_train_balanced,\n",
        "                                     y_train_balanced,\n",
        "                                     cv=5,\n",
        "                                     scoring=\"recall\") # Change 'Recall' to 'recall'\n",
        "\n",
        "print('Recall Score - All - Cross Validation  : ', Recall_train_cross_val)\n",
        "print('Recall Score - Mean - Cross Validation : ', Recall_train_cross_val.mean())\n",
        "print('Recall Score - Std - Cross Validation  : ', Recall_train_cross_val.std())\n",
        "print('Recall Score - Range of Test-Set       : ', (Recall_train_cross_val.mean()-Recall_train_cross_val.std()) , '-', (Recall_train_cross_val.mean()+Recall_train_cross_val.std()))"
      ]
    },
    {
      "cell_type": "code",
      "execution_count": 65,
      "metadata": {
        "colab": {
          "base_uri": "https://localhost:8080/"
        },
        "id": "wENYblquDjFU",
        "outputId": "d484a538-8750-41d6-8bbc-6207e3037ada"
      },
      "outputs": [
        {
          "name": "stdout",
          "output_type": "stream",
          "text": [
            "Recall Score - All - Cross Validation  :  [0.81282051 0.94230769 0.94487179 0.93461538 0.93974359]\n",
            "Recall Score - Mean - Cross Validation :  0.914871794871795\n",
            "Recall Score - Std - Cross Validation  :  0.0511382599479709\n",
            "Recall Score - Range of Test-Set       :  0.8637335349238241 - 0.966010054819766\n"
          ]
        }
      ],
      "source": [
        "# Define Pipeline\n",
        "pipeline = Pipeline([\n",
        "    ('scaler', StandardScaler()),  # Preprocessing step: scaling\n",
        "    ('dt', DecisionTreeClassifier())  # Model: Decision Tree\n",
        "])\n",
        "\n",
        "# Perform Cross-Validation\n",
        "Recall_train_cross_val = cross_val_score(pipeline,\n",
        "                                     X_train_balanced,\n",
        "                                     y_train_balanced,\n",
        "                                         cv=5,\n",
        "                                         scoring=\"recall\")\n",
        "\n",
        "# Print Results\n",
        "print('Recall Score - All - Cross Validation  : ', Recall_train_cross_val)\n",
        "print('Recall Score - Mean - Cross Validation : ', Recall_train_cross_val.mean())\n",
        "print('Recall Score - Std - Cross Validation  : ', Recall_train_cross_val.std())\n",
        "print('Recall Score - Range of Test-Set       : ',\n",
        "      (Recall_train_cross_val.mean() - Recall_train_cross_val.std()),\n",
        "      '-',\n",
        "      (Recall_train_cross_val.mean() + Recall_train_cross_val.std()))"
      ]
    },
    {
      "cell_type": "markdown",
      "metadata": {
        "id": "V6b-HvbZ36YF"
      },
      "source": [
        "### Random Forest"
      ]
    },
    {
      "cell_type": "code",
      "execution_count": 66,
      "metadata": {
        "colab": {
          "base_uri": "https://localhost:8080/"
        },
        "id": "Ilw_LqWBDlvl",
        "outputId": "7c647379-d41a-4452-ffd1-c5708e34bfef"
      },
      "outputs": [
        {
          "name": "stdout",
          "output_type": "stream",
          "text": [
            "Recall Score - All - Cross Validation  :  [0.90384615 0.95641026 0.95128205 0.93333333 0.94487179]\n",
            "Recall Score - Mean - Cross Validation :  0.937948717948718\n",
            "Recall Score - Std - Cross Validation  :  0.01871267927232711\n",
            "Recall Score - Range of Test-Set       :  0.9192360386763909 - 0.9566613972210452\n",
            "CPU times: user 4.36 s, sys: 35.8 ms, total: 4.4 s\n",
            "Wall time: 5.64 s\n"
          ]
        }
      ],
      "source": [
        "%%time\n",
        "Recall_train_cross_val = cross_val_score(model_rf,\n",
        "                                     X_train_balanced,\n",
        "                                     y_train_balanced,\n",
        "                                     cv=5,\n",
        "                                     scoring=\"recall\") # Change 'Recall' to 'recall'\n",
        "\n",
        "print('Recall Score - All - Cross Validation  : ', Recall_train_cross_val)\n",
        "print('Recall Score - Mean - Cross Validation : ', Recall_train_cross_val.mean())\n",
        "print('Recall Score - Std - Cross Validation  : ', Recall_train_cross_val.std())\n",
        "print('Recall Score - Range of Test-Set       : ', (Recall_train_cross_val.mean()-Recall_train_cross_val.std()) , '-', (Recall_train_cross_val.mean()+Recall_train_cross_val.std()))"
      ]
    },
    {
      "cell_type": "code",
      "execution_count": 67,
      "metadata": {
        "colab": {
          "base_uri": "https://localhost:8080/"
        },
        "id": "uzLcA_XrDqxO",
        "outputId": "be9155d3-4b33-462c-9bb6-34e09375aa38"
      },
      "outputs": [
        {
          "name": "stdout",
          "output_type": "stream",
          "text": [
            "Recall Score - All - Cross Validation  :  [0.91025641 0.9525641  0.95384615 0.93461538 0.93974359]\n",
            "Recall Score - Mean - Cross Validation :  0.9382051282051282\n",
            "Recall Score - Std - Cross Validation  :  0.01579370625070205\n",
            "Recall Score - Range of Test-Set       :  0.9224114219544262 - 0.9539988344558303\n"
          ]
        }
      ],
      "source": [
        "# Define Pipeline\n",
        "pipeline = Pipeline([\n",
        "    ('scaler', StandardScaler()),  # Preprocessing step: scaling\n",
        "    ('rf', RandomForestClassifier())  # Model: Random Forest\n",
        "])\n",
        "\n",
        "# Perform Cross-Validation\n",
        "Recall_train_cross_val = cross_val_score(pipeline,\n",
        "                                     X_train_balanced,\n",
        "                                     y_train_balanced,\n",
        "                                         cv=5,\n",
        "                                         scoring=\"recall\")\n",
        "\n",
        "# Print Results\n",
        "print('Recall Score - All - Cross Validation  : ', Recall_train_cross_val)\n",
        "print('Recall Score - Mean - Cross Validation : ', Recall_train_cross_val.mean())\n",
        "print('Recall Score - Std - Cross Validation  : ', Recall_train_cross_val.std())\n",
        "print('Recall Score - Range of Test-Set       : ',\n",
        "      (Recall_train_cross_val.mean() - Recall_train_cross_val.std()),\n",
        "      '-',\n",
        "      (Recall_train_cross_val.mean() + Recall_train_cross_val.std()))"
      ]
    },
    {
      "cell_type": "markdown",
      "metadata": {
        "id": "Alnb6U7z4BN8"
      },
      "source": [
        "### Boosting"
      ]
    },
    {
      "cell_type": "code",
      "execution_count": 68,
      "metadata": {
        "colab": {
          "base_uri": "https://localhost:8080/"
        },
        "id": "bXKX7Z0eDxPO",
        "outputId": "2c2a0787-92bd-4694-b021-3c9eb58eced9"
      },
      "outputs": [
        {
          "name": "stdout",
          "output_type": "stream",
          "text": [
            "Recall Score - All - Cross Validation  :  [0.83717949 0.87564103 0.86923077 0.87948718 0.87179487]\n",
            "Recall Score - Mean - Cross Validation :  0.8666666666666668\n",
            "Recall Score - Std - Cross Validation  :  0.01514774921819684\n",
            "Recall Score - Range of Test-Set       :  0.85151891744847 - 0.8818144158848636\n",
            "CPU times: user 1.67 s, sys: 5.69 ms, total: 1.68 s\n",
            "Wall time: 2.37 s\n"
          ]
        }
      ],
      "source": [
        "%%time\n",
        "Recall_train_cross_val = cross_val_score(model_boost,\n",
        "                                     X_train_balanced,\n",
        "                                     y_train_balanced,\n",
        "                                     cv=5,\n",
        "                                     scoring=\"recall\") # Change 'Recall' to 'recall'\n",
        "\n",
        "print('Recall Score - All - Cross Validation  : ', Recall_train_cross_val)\n",
        "print('Recall Score - Mean - Cross Validation : ', Recall_train_cross_val.mean())\n",
        "print('Recall Score - Std - Cross Validation  : ', Recall_train_cross_val.std())\n",
        "print('Recall Score - Range of Test-Set       : ', (Recall_train_cross_val.mean()-Recall_train_cross_val.std()) , '-', (Recall_train_cross_val.mean()+Recall_train_cross_val.std()))"
      ]
    },
    {
      "cell_type": "markdown",
      "metadata": {
        "id": "ff6h4K467o14"
      },
      "source": [
        "## Hyperparameter Tuning"
      ]
    },
    {
      "cell_type": "code",
      "execution_count": 69,
      "metadata": {
        "colab": {
          "base_uri": "https://localhost:8080/"
        },
        "id": "JLBZeWpT7qKh",
        "outputId": "9938bb00-bdb4-4488-f670-69a570596b10"
      },
      "outputs": [
        {
          "data": {
            "text/plain": [
              "{'n_neighbors': [3, 5, 7, 9, 11, 13, 15],\n",
              " 'weights': ['uniform', 'distance'],\n",
              " 'algorithm': ['auto', 'ball_tree', 'kd_tree'],\n",
              " 'leaf_size': [20, 35, 50]}"
            ]
          },
          "execution_count": 69,
          "metadata": {},
          "output_type": "execute_result"
        }
      ],
      "source": [
        "from sklearn.model_selection import RandomizedSearchCV\n",
        "import numpy as np # Import numpy\n",
        "\n",
        "n_neighbors =[int(x) for x in np.linspace(3, 15, 7)] # Use parenthesis for calling the function np.linspace\n",
        "weights = ['uniform', 'distance']\n",
        "algorithm = ['auto', 'ball_tree', 'kd_tree']\n",
        "leaf_size = [int(x) for x in np.linspace(20, 50, 3)]\n",
        "random_search_params_knn = {'n_neighbors': n_neighbors,\n",
        "                           'weights': weights,\n",
        "                           'algorithm': algorithm,\n",
        "                           'leaf_size': leaf_size}\n",
        "\n",
        "random_search_params_knn"
      ]
    },
    {
      "cell_type": "code",
      "execution_count": 70,
      "metadata": {
        "colab": {
          "base_uri": "https://localhost:8080/",
          "height": 153
        },
        "id": "tK67Xc6uNXHi",
        "outputId": "08bae30e-91fb-457a-9b52-a46ef387a9b0"
      },
      "outputs": [
        {
          "data": {
            "text/html": [
              "<style>#sk-container-id-1 {color: black;background-color: white;}#sk-container-id-1 pre{padding: 0;}#sk-container-id-1 div.sk-toggleable {background-color: white;}#sk-container-id-1 label.sk-toggleable__label {cursor: pointer;display: block;width: 100%;margin-bottom: 0;padding: 0.3em;box-sizing: border-box;text-align: center;}#sk-container-id-1 label.sk-toggleable__label-arrow:before {content: \"▸\";float: left;margin-right: 0.25em;color: #696969;}#sk-container-id-1 label.sk-toggleable__label-arrow:hover:before {color: black;}#sk-container-id-1 div.sk-estimator:hover label.sk-toggleable__label-arrow:before {color: black;}#sk-container-id-1 div.sk-toggleable__content {max-height: 0;max-width: 0;overflow: hidden;text-align: left;background-color: #f0f8ff;}#sk-container-id-1 div.sk-toggleable__content pre {margin: 0.2em;color: black;border-radius: 0.25em;background-color: #f0f8ff;}#sk-container-id-1 input.sk-toggleable__control:checked~div.sk-toggleable__content {max-height: 200px;max-width: 100%;overflow: auto;}#sk-container-id-1 input.sk-toggleable__control:checked~label.sk-toggleable__label-arrow:before {content: \"▾\";}#sk-container-id-1 div.sk-estimator input.sk-toggleable__control:checked~label.sk-toggleable__label {background-color: #d4ebff;}#sk-container-id-1 div.sk-label input.sk-toggleable__control:checked~label.sk-toggleable__label {background-color: #d4ebff;}#sk-container-id-1 input.sk-hidden--visually {border: 0;clip: rect(1px 1px 1px 1px);clip: rect(1px, 1px, 1px, 1px);height: 1px;margin: -1px;overflow: hidden;padding: 0;position: absolute;width: 1px;}#sk-container-id-1 div.sk-estimator {font-family: monospace;background-color: #f0f8ff;border: 1px dotted black;border-radius: 0.25em;box-sizing: border-box;margin-bottom: 0.5em;}#sk-container-id-1 div.sk-estimator:hover {background-color: #d4ebff;}#sk-container-id-1 div.sk-parallel-item::after {content: \"\";width: 100%;border-bottom: 1px solid gray;flex-grow: 1;}#sk-container-id-1 div.sk-label:hover label.sk-toggleable__label {background-color: #d4ebff;}#sk-container-id-1 div.sk-serial::before {content: \"\";position: absolute;border-left: 1px solid gray;box-sizing: border-box;top: 0;bottom: 0;left: 50%;z-index: 0;}#sk-container-id-1 div.sk-serial {display: flex;flex-direction: column;align-items: center;background-color: white;padding-right: 0.2em;padding-left: 0.2em;position: relative;}#sk-container-id-1 div.sk-item {position: relative;z-index: 1;}#sk-container-id-1 div.sk-parallel {display: flex;align-items: stretch;justify-content: center;background-color: white;position: relative;}#sk-container-id-1 div.sk-item::before, #sk-container-id-1 div.sk-parallel-item::before {content: \"\";position: absolute;border-left: 1px solid gray;box-sizing: border-box;top: 0;bottom: 0;left: 50%;z-index: -1;}#sk-container-id-1 div.sk-parallel-item {display: flex;flex-direction: column;z-index: 1;position: relative;background-color: white;}#sk-container-id-1 div.sk-parallel-item:first-child::after {align-self: flex-end;width: 50%;}#sk-container-id-1 div.sk-parallel-item:last-child::after {align-self: flex-start;width: 50%;}#sk-container-id-1 div.sk-parallel-item:only-child::after {width: 0;}#sk-container-id-1 div.sk-dashed-wrapped {border: 1px dashed gray;margin: 0 0.4em 0.5em 0.4em;box-sizing: border-box;padding-bottom: 0.4em;background-color: white;}#sk-container-id-1 div.sk-label label {font-family: monospace;font-weight: bold;display: inline-block;line-height: 1.2em;}#sk-container-id-1 div.sk-label-container {text-align: center;}#sk-container-id-1 div.sk-container {/* jupyter's `normalize.less` sets `[hidden] { display: none; }` but bootstrap.min.css set `[hidden] { display: none !important; }` so we also need the `!important` here to be able to override the default hidden behavior on the sphinx rendered scikit-learn.org. See: https://github.com/scikit-learn/scikit-learn/issues/21755 */display: inline-block !important;position: relative;}#sk-container-id-1 div.sk-text-repr-fallback {display: none;}</style><div id=\"sk-container-id-1\" class=\"sk-top-container\"><div class=\"sk-text-repr-fallback\"><pre>RandomizedSearchCV(cv=5,\n",
              "                   estimator=Pipeline(steps=[(&#x27;scaler&#x27;, StandardScaler()),\n",
              "                                             (&#x27;knn&#x27;, KNeighborsClassifier())]),\n",
              "                   n_jobs=-1,\n",
              "                   param_distributions={&#x27;knn__algorithm&#x27;: [&#x27;auto&#x27;, &#x27;ball_tree&#x27;,\n",
              "                                                           &#x27;kd_tree&#x27;],\n",
              "                                        &#x27;knn__leaf_size&#x27;: [20, 35, 50],\n",
              "                                        &#x27;knn__n_neighbors&#x27;: [3, 5, 7, 9, 11, 13,\n",
              "                                                             15],\n",
              "                                        &#x27;knn__weights&#x27;: [&#x27;uniform&#x27;,\n",
              "                                                         &#x27;distance&#x27;]},\n",
              "                   random_state=46, scoring=&#x27;f1&#x27;)</pre><b>In a Jupyter environment, please rerun this cell to show the HTML representation or trust the notebook. <br />On GitHub, the HTML representation is unable to render, please try loading this page with nbviewer.org.</b></div><div class=\"sk-container\" hidden><div class=\"sk-item sk-dashed-wrapped\"><div class=\"sk-label-container\"><div class=\"sk-label sk-toggleable\"><input class=\"sk-toggleable__control sk-hidden--visually\" id=\"sk-estimator-id-1\" type=\"checkbox\" ><label for=\"sk-estimator-id-1\" class=\"sk-toggleable__label sk-toggleable__label-arrow\">RandomizedSearchCV</label><div class=\"sk-toggleable__content\"><pre>RandomizedSearchCV(cv=5,\n",
              "                   estimator=Pipeline(steps=[(&#x27;scaler&#x27;, StandardScaler()),\n",
              "                                             (&#x27;knn&#x27;, KNeighborsClassifier())]),\n",
              "                   n_jobs=-1,\n",
              "                   param_distributions={&#x27;knn__algorithm&#x27;: [&#x27;auto&#x27;, &#x27;ball_tree&#x27;,\n",
              "                                                           &#x27;kd_tree&#x27;],\n",
              "                                        &#x27;knn__leaf_size&#x27;: [20, 35, 50],\n",
              "                                        &#x27;knn__n_neighbors&#x27;: [3, 5, 7, 9, 11, 13,\n",
              "                                                             15],\n",
              "                                        &#x27;knn__weights&#x27;: [&#x27;uniform&#x27;,\n",
              "                                                         &#x27;distance&#x27;]},\n",
              "                   random_state=46, scoring=&#x27;f1&#x27;)</pre></div></div></div><div class=\"sk-parallel\"><div class=\"sk-parallel-item\"><div class=\"sk-item\"><div class=\"sk-label-container\"><div class=\"sk-label sk-toggleable\"><input class=\"sk-toggleable__control sk-hidden--visually\" id=\"sk-estimator-id-2\" type=\"checkbox\" ><label for=\"sk-estimator-id-2\" class=\"sk-toggleable__label sk-toggleable__label-arrow\">estimator: Pipeline</label><div class=\"sk-toggleable__content\"><pre>Pipeline(steps=[(&#x27;scaler&#x27;, StandardScaler()), (&#x27;knn&#x27;, KNeighborsClassifier())])</pre></div></div></div><div class=\"sk-serial\"><div class=\"sk-item\"><div class=\"sk-serial\"><div class=\"sk-item\"><div class=\"sk-estimator sk-toggleable\"><input class=\"sk-toggleable__control sk-hidden--visually\" id=\"sk-estimator-id-3\" type=\"checkbox\" ><label for=\"sk-estimator-id-3\" class=\"sk-toggleable__label sk-toggleable__label-arrow\">StandardScaler</label><div class=\"sk-toggleable__content\"><pre>StandardScaler()</pre></div></div></div><div class=\"sk-item\"><div class=\"sk-estimator sk-toggleable\"><input class=\"sk-toggleable__control sk-hidden--visually\" id=\"sk-estimator-id-4\" type=\"checkbox\" ><label for=\"sk-estimator-id-4\" class=\"sk-toggleable__label sk-toggleable__label-arrow\">KNeighborsClassifier</label><div class=\"sk-toggleable__content\"><pre>KNeighborsClassifier()</pre></div></div></div></div></div></div></div></div></div></div></div></div>"
            ],
            "text/plain": [
              "RandomizedSearchCV(cv=5,\n",
              "                   estimator=Pipeline(steps=[('scaler', StandardScaler()),\n",
              "                                             ('knn', KNeighborsClassifier())]),\n",
              "                   n_jobs=-1,\n",
              "                   param_distributions={'knn__algorithm': ['auto', 'ball_tree',\n",
              "                                                           'kd_tree'],\n",
              "                                        'knn__leaf_size': [20, 35, 50],\n",
              "                                        'knn__n_neighbors': [3, 5, 7, 9, 11, 13,\n",
              "                                                             15],\n",
              "                                        'knn__weights': ['uniform',\n",
              "                                                         'distance']},\n",
              "                   random_state=46, scoring='f1')"
            ]
          },
          "execution_count": 70,
          "metadata": {},
          "output_type": "execute_result"
        }
      ],
      "source": [
        "# Define Parameters for RandomizedSearchCV\n",
        "n_neighbors = [int(x) for x in np.linspace(3, 15, 7)]  # Use parentheses for calling the function np.linspace\n",
        "weights = ['uniform', 'distance']\n",
        "algorithm = ['auto', 'ball_tree', 'kd_tree']\n",
        "leaf_size = [int(x) for x in np.linspace(20, 50, 3)]\n",
        "random_search_params_knn = {\n",
        "    'knn__n_neighbors': n_neighbors,  # Note the 'knn__' prefix\n",
        "    'knn__weights': weights,\n",
        "    'knn__algorithm': algorithm,\n",
        "    'knn__leaf_size': leaf_size\n",
        "}\n",
        "\n",
        "# Define Pipeline\n",
        "pipeline = Pipeline([\n",
        "    ('scaler', StandardScaler()),  # Preprocessing step: scaling\n",
        "    ('knn', KNeighborsClassifier())  # Model: KNN\n",
        "])\n",
        "\n",
        "# Perform Randomized Search\n",
        "model_random_knn = RandomizedSearchCV(estimator=pipeline,\n",
        "                                  param_distributions=random_search_params_knn,\n",
        "                                  cv=5,\n",
        "                                  random_state=46,\n",
        "                                  n_jobs=-1,\n",
        "                                  scoring='f1')\n",
        "model_random_knn.fit(X_train_transform, y_train)\n"
      ]
    },
    {
      "cell_type": "code",
      "execution_count": 71,
      "metadata": {
        "colab": {
          "base_uri": "https://localhost:8080/"
        },
        "id": "g6iVWSKHOER3",
        "outputId": "f741c9c1-d651-4b33-d19f-3babac9a689a"
      },
      "outputs": [
        {
          "data": {
            "text/plain": [
              "{'knn__weights': 'distance',\n",
              " 'knn__n_neighbors': 3,\n",
              " 'knn__leaf_size': 35,\n",
              " 'knn__algorithm': 'auto'}"
            ]
          },
          "execution_count": 71,
          "metadata": {},
          "output_type": "execute_result"
        }
      ],
      "source": [
        "# Get Best Hyperparameters\n",
        "\n",
        "model_random_knn.best_params_"
      ]
    },
    {
      "cell_type": "code",
      "execution_count": 72,
      "metadata": {
        "id": "YJDWzZZxONTv"
      },
      "outputs": [],
      "source": [
        "model_random_knn = model_random_knn.best_estimator_"
      ]
    },
    {
      "cell_type": "markdown",
      "metadata": {
        "id": "xAMcdYaq6r_d"
      },
      "source": [
        "# **MODEL TRAINING**"
      ]
    },
    {
      "cell_type": "markdown",
      "metadata": {
        "id": "bfWxZDlAfSc1"
      },
      "source": [
        "## K-Nearest Neighbors"
      ]
    },
    {
      "cell_type": "code",
      "execution_count": 73,
      "metadata": {
        "colab": {
          "base_uri": "https://localhost:8080/",
          "height": 75
        },
        "id": "kN8zI3BpfTEj",
        "outputId": "0283e50f-8688-46ca-e2af-b7302a8c4cb0"
      },
      "outputs": [
        {
          "data": {
            "text/html": [
              "<style>#sk-container-id-2 {color: black;background-color: white;}#sk-container-id-2 pre{padding: 0;}#sk-container-id-2 div.sk-toggleable {background-color: white;}#sk-container-id-2 label.sk-toggleable__label {cursor: pointer;display: block;width: 100%;margin-bottom: 0;padding: 0.3em;box-sizing: border-box;text-align: center;}#sk-container-id-2 label.sk-toggleable__label-arrow:before {content: \"▸\";float: left;margin-right: 0.25em;color: #696969;}#sk-container-id-2 label.sk-toggleable__label-arrow:hover:before {color: black;}#sk-container-id-2 div.sk-estimator:hover label.sk-toggleable__label-arrow:before {color: black;}#sk-container-id-2 div.sk-toggleable__content {max-height: 0;max-width: 0;overflow: hidden;text-align: left;background-color: #f0f8ff;}#sk-container-id-2 div.sk-toggleable__content pre {margin: 0.2em;color: black;border-radius: 0.25em;background-color: #f0f8ff;}#sk-container-id-2 input.sk-toggleable__control:checked~div.sk-toggleable__content {max-height: 200px;max-width: 100%;overflow: auto;}#sk-container-id-2 input.sk-toggleable__control:checked~label.sk-toggleable__label-arrow:before {content: \"▾\";}#sk-container-id-2 div.sk-estimator input.sk-toggleable__control:checked~label.sk-toggleable__label {background-color: #d4ebff;}#sk-container-id-2 div.sk-label input.sk-toggleable__control:checked~label.sk-toggleable__label {background-color: #d4ebff;}#sk-container-id-2 input.sk-hidden--visually {border: 0;clip: rect(1px 1px 1px 1px);clip: rect(1px, 1px, 1px, 1px);height: 1px;margin: -1px;overflow: hidden;padding: 0;position: absolute;width: 1px;}#sk-container-id-2 div.sk-estimator {font-family: monospace;background-color: #f0f8ff;border: 1px dotted black;border-radius: 0.25em;box-sizing: border-box;margin-bottom: 0.5em;}#sk-container-id-2 div.sk-estimator:hover {background-color: #d4ebff;}#sk-container-id-2 div.sk-parallel-item::after {content: \"\";width: 100%;border-bottom: 1px solid gray;flex-grow: 1;}#sk-container-id-2 div.sk-label:hover label.sk-toggleable__label {background-color: #d4ebff;}#sk-container-id-2 div.sk-serial::before {content: \"\";position: absolute;border-left: 1px solid gray;box-sizing: border-box;top: 0;bottom: 0;left: 50%;z-index: 0;}#sk-container-id-2 div.sk-serial {display: flex;flex-direction: column;align-items: center;background-color: white;padding-right: 0.2em;padding-left: 0.2em;position: relative;}#sk-container-id-2 div.sk-item {position: relative;z-index: 1;}#sk-container-id-2 div.sk-parallel {display: flex;align-items: stretch;justify-content: center;background-color: white;position: relative;}#sk-container-id-2 div.sk-item::before, #sk-container-id-2 div.sk-parallel-item::before {content: \"\";position: absolute;border-left: 1px solid gray;box-sizing: border-box;top: 0;bottom: 0;left: 50%;z-index: -1;}#sk-container-id-2 div.sk-parallel-item {display: flex;flex-direction: column;z-index: 1;position: relative;background-color: white;}#sk-container-id-2 div.sk-parallel-item:first-child::after {align-self: flex-end;width: 50%;}#sk-container-id-2 div.sk-parallel-item:last-child::after {align-self: flex-start;width: 50%;}#sk-container-id-2 div.sk-parallel-item:only-child::after {width: 0;}#sk-container-id-2 div.sk-dashed-wrapped {border: 1px dashed gray;margin: 0 0.4em 0.5em 0.4em;box-sizing: border-box;padding-bottom: 0.4em;background-color: white;}#sk-container-id-2 div.sk-label label {font-family: monospace;font-weight: bold;display: inline-block;line-height: 1.2em;}#sk-container-id-2 div.sk-label-container {text-align: center;}#sk-container-id-2 div.sk-container {/* jupyter's `normalize.less` sets `[hidden] { display: none; }` but bootstrap.min.css set `[hidden] { display: none !important; }` so we also need the `!important` here to be able to override the default hidden behavior on the sphinx rendered scikit-learn.org. See: https://github.com/scikit-learn/scikit-learn/issues/21755 */display: inline-block !important;position: relative;}#sk-container-id-2 div.sk-text-repr-fallback {display: none;}</style><div id=\"sk-container-id-2\" class=\"sk-top-container\"><div class=\"sk-text-repr-fallback\"><pre>KNeighborsClassifier()</pre><b>In a Jupyter environment, please rerun this cell to show the HTML representation or trust the notebook. <br />On GitHub, the HTML representation is unable to render, please try loading this page with nbviewer.org.</b></div><div class=\"sk-container\" hidden><div class=\"sk-item\"><div class=\"sk-estimator sk-toggleable\"><input class=\"sk-toggleable__control sk-hidden--visually\" id=\"sk-estimator-id-5\" type=\"checkbox\" checked><label for=\"sk-estimator-id-5\" class=\"sk-toggleable__label sk-toggleable__label-arrow\">KNeighborsClassifier</label><div class=\"sk-toggleable__content\"><pre>KNeighborsClassifier()</pre></div></div></div></div></div>"
            ],
            "text/plain": [
              "KNeighborsClassifier()"
            ]
          },
          "execution_count": 73,
          "metadata": {},
          "output_type": "execute_result"
        }
      ],
      "source": [
        "# Melatih model KNN\n",
        "model_knn.fit(X_train_balanced, y_train_balanced)"
      ]
    },
    {
      "cell_type": "code",
      "execution_count": 74,
      "metadata": {
        "colab": {
          "base_uri": "https://localhost:8080/"
        },
        "id": "ltLzBr00Kfa_",
        "outputId": "9f2ad466-0b22-4018-d1ee-b81d0cef692d"
      },
      "outputs": [
        {
          "name": "stdout",
          "output_type": "stream",
          "text": [
            "Actual:\n",
            "actual\n",
            "0    960\n",
            "1     62\n",
            "Name: count, dtype: int64\n",
            "\n",
            "Predict:\n",
            "predict\n",
            "0    854\n",
            "1    168\n",
            "Name: count, dtype: int64\n"
          ]
        }
      ],
      "source": [
        "# Menggunakan model k-NN untuk memprediksi label kelas dari data latih yang telah di-resample\n",
        "y_train_predict_knn = model_knn.predict(X_train_balanced)\n",
        "\n",
        "# Menggunakan model k-NN untuk memprediksi label kelas dari data uji\n",
        "y_test_predict_knn = model_knn.predict(X_test_transform)\n",
        "\n",
        "# Membuat DataFrame untuk evaluasi hasil prediksi\n",
        "eval_test_knn = pd.DataFrame(\n",
        "    {\n",
        "        'actual': y_test,               # Kolom 'actual' berisi nilai sebenarnya dari data uji\n",
        "        'predict': y_test_predict_knn   # Kolom 'predict' berisi nilai prediksi dari model k-NN\n",
        "    }\n",
        ")\n",
        "\n",
        "# Menampilkan distribusi kelas sebenarnya dalam data uji\n",
        "print('Actual:')\n",
        "print(eval_test_knn['actual'].value_counts())\n",
        "print('')\n",
        "\n",
        "# Menampilkan distribusi kelas prediksi dalam data uji\n",
        "print('Predict:')\n",
        "print(eval_test_knn['predict'].value_counts())\n"
      ]
    },
    {
      "cell_type": "markdown",
      "metadata": {
        "id": "eBcFj3zzfm9n"
      },
      "source": [
        "## Support Vector Machine (SVM)"
      ]
    },
    {
      "cell_type": "code",
      "execution_count": 75,
      "metadata": {
        "colab": {
          "base_uri": "https://localhost:8080/",
          "height": 75
        },
        "id": "FVlegr5jf83A",
        "outputId": "dbc9fc21-d0c1-4902-81c6-0d5598f888e3"
      },
      "outputs": [
        {
          "data": {
            "text/html": [
              "<style>#sk-container-id-3 {color: black;background-color: white;}#sk-container-id-3 pre{padding: 0;}#sk-container-id-3 div.sk-toggleable {background-color: white;}#sk-container-id-3 label.sk-toggleable__label {cursor: pointer;display: block;width: 100%;margin-bottom: 0;padding: 0.3em;box-sizing: border-box;text-align: center;}#sk-container-id-3 label.sk-toggleable__label-arrow:before {content: \"▸\";float: left;margin-right: 0.25em;color: #696969;}#sk-container-id-3 label.sk-toggleable__label-arrow:hover:before {color: black;}#sk-container-id-3 div.sk-estimator:hover label.sk-toggleable__label-arrow:before {color: black;}#sk-container-id-3 div.sk-toggleable__content {max-height: 0;max-width: 0;overflow: hidden;text-align: left;background-color: #f0f8ff;}#sk-container-id-3 div.sk-toggleable__content pre {margin: 0.2em;color: black;border-radius: 0.25em;background-color: #f0f8ff;}#sk-container-id-3 input.sk-toggleable__control:checked~div.sk-toggleable__content {max-height: 200px;max-width: 100%;overflow: auto;}#sk-container-id-3 input.sk-toggleable__control:checked~label.sk-toggleable__label-arrow:before {content: \"▾\";}#sk-container-id-3 div.sk-estimator input.sk-toggleable__control:checked~label.sk-toggleable__label {background-color: #d4ebff;}#sk-container-id-3 div.sk-label input.sk-toggleable__control:checked~label.sk-toggleable__label {background-color: #d4ebff;}#sk-container-id-3 input.sk-hidden--visually {border: 0;clip: rect(1px 1px 1px 1px);clip: rect(1px, 1px, 1px, 1px);height: 1px;margin: -1px;overflow: hidden;padding: 0;position: absolute;width: 1px;}#sk-container-id-3 div.sk-estimator {font-family: monospace;background-color: #f0f8ff;border: 1px dotted black;border-radius: 0.25em;box-sizing: border-box;margin-bottom: 0.5em;}#sk-container-id-3 div.sk-estimator:hover {background-color: #d4ebff;}#sk-container-id-3 div.sk-parallel-item::after {content: \"\";width: 100%;border-bottom: 1px solid gray;flex-grow: 1;}#sk-container-id-3 div.sk-label:hover label.sk-toggleable__label {background-color: #d4ebff;}#sk-container-id-3 div.sk-serial::before {content: \"\";position: absolute;border-left: 1px solid gray;box-sizing: border-box;top: 0;bottom: 0;left: 50%;z-index: 0;}#sk-container-id-3 div.sk-serial {display: flex;flex-direction: column;align-items: center;background-color: white;padding-right: 0.2em;padding-left: 0.2em;position: relative;}#sk-container-id-3 div.sk-item {position: relative;z-index: 1;}#sk-container-id-3 div.sk-parallel {display: flex;align-items: stretch;justify-content: center;background-color: white;position: relative;}#sk-container-id-3 div.sk-item::before, #sk-container-id-3 div.sk-parallel-item::before {content: \"\";position: absolute;border-left: 1px solid gray;box-sizing: border-box;top: 0;bottom: 0;left: 50%;z-index: -1;}#sk-container-id-3 div.sk-parallel-item {display: flex;flex-direction: column;z-index: 1;position: relative;background-color: white;}#sk-container-id-3 div.sk-parallel-item:first-child::after {align-self: flex-end;width: 50%;}#sk-container-id-3 div.sk-parallel-item:last-child::after {align-self: flex-start;width: 50%;}#sk-container-id-3 div.sk-parallel-item:only-child::after {width: 0;}#sk-container-id-3 div.sk-dashed-wrapped {border: 1px dashed gray;margin: 0 0.4em 0.5em 0.4em;box-sizing: border-box;padding-bottom: 0.4em;background-color: white;}#sk-container-id-3 div.sk-label label {font-family: monospace;font-weight: bold;display: inline-block;line-height: 1.2em;}#sk-container-id-3 div.sk-label-container {text-align: center;}#sk-container-id-3 div.sk-container {/* jupyter's `normalize.less` sets `[hidden] { display: none; }` but bootstrap.min.css set `[hidden] { display: none !important; }` so we also need the `!important` here to be able to override the default hidden behavior on the sphinx rendered scikit-learn.org. See: https://github.com/scikit-learn/scikit-learn/issues/21755 */display: inline-block !important;position: relative;}#sk-container-id-3 div.sk-text-repr-fallback {display: none;}</style><div id=\"sk-container-id-3\" class=\"sk-top-container\"><div class=\"sk-text-repr-fallback\"><pre>SVC()</pre><b>In a Jupyter environment, please rerun this cell to show the HTML representation or trust the notebook. <br />On GitHub, the HTML representation is unable to render, please try loading this page with nbviewer.org.</b></div><div class=\"sk-container\" hidden><div class=\"sk-item\"><div class=\"sk-estimator sk-toggleable\"><input class=\"sk-toggleable__control sk-hidden--visually\" id=\"sk-estimator-id-6\" type=\"checkbox\" checked><label for=\"sk-estimator-id-6\" class=\"sk-toggleable__label sk-toggleable__label-arrow\">SVC</label><div class=\"sk-toggleable__content\"><pre>SVC()</pre></div></div></div></div></div>"
            ],
            "text/plain": [
              "SVC()"
            ]
          },
          "execution_count": 75,
          "metadata": {},
          "output_type": "execute_result"
        }
      ],
      "source": [
        "model_svm.fit(X_train_balanced,y_train_balanced)"
      ]
    },
    {
      "cell_type": "code",
      "execution_count": 76,
      "metadata": {
        "colab": {
          "base_uri": "https://localhost:8080/"
        },
        "id": "W5eHHgnAKwGG",
        "outputId": "9d3e71a5-1fb1-4000-f4b1-54854d7a2bd9"
      },
      "outputs": [
        {
          "name": "stdout",
          "output_type": "stream",
          "text": [
            "Actual:\n",
            "actual\n",
            "0    960\n",
            "1     62\n",
            "Name: count, dtype: int64\n",
            "\n",
            "Predict:\n",
            "predict\n",
            "0    778\n",
            "1    244\n",
            "Name: count, dtype: int64\n"
          ]
        }
      ],
      "source": [
        "# Melakukan prediksi terhadap data latih menggunakan model SVM\n",
        "y_train_predict_svm = model_svm.predict(X_train_balanced)\n",
        "\n",
        "# Melakukan prediksi terhadap data uji menggunakan model SVM\n",
        "y_test_predict_svm = model_svm.predict(X_test_transform)\n",
        "\n",
        "# Membuat dataframe untuk evaluasi hasil prediksi\n",
        "eval_test_svm = pd.DataFrame(\n",
        "    {\n",
        "        'actual': y_test,             # Nilai aktual dari y_test\n",
        "        'predict': y_test_predict_svm # Nilai prediksi dari y_test_predict_svm\n",
        "    }\n",
        ")\n",
        "\n",
        "# Mencetak jumlah nilai aktual (y_test) yang unik\n",
        "print('Actual:')\n",
        "print(eval_test_svm['actual'].value_counts())\n",
        "print('')\n",
        "\n",
        "# Mencetak jumlah nilai prediksi (y_test_predict_svm) yang unik\n",
        "print('Predict:')\n",
        "print(eval_test_svm['predict'].value_counts())"
      ]
    },
    {
      "cell_type": "markdown",
      "metadata": {
        "id": "IG4pEpgbz9e9"
      },
      "source": [
        "## Decision Tree"
      ]
    },
    {
      "cell_type": "code",
      "execution_count": 77,
      "metadata": {
        "colab": {
          "base_uri": "https://localhost:8080/",
          "height": 75
        },
        "id": "iREVwdVE0SEY",
        "outputId": "3918a342-0871-4733-fd37-1ce2274d7a64"
      },
      "outputs": [
        {
          "data": {
            "text/html": [
              "<style>#sk-container-id-4 {color: black;background-color: white;}#sk-container-id-4 pre{padding: 0;}#sk-container-id-4 div.sk-toggleable {background-color: white;}#sk-container-id-4 label.sk-toggleable__label {cursor: pointer;display: block;width: 100%;margin-bottom: 0;padding: 0.3em;box-sizing: border-box;text-align: center;}#sk-container-id-4 label.sk-toggleable__label-arrow:before {content: \"▸\";float: left;margin-right: 0.25em;color: #696969;}#sk-container-id-4 label.sk-toggleable__label-arrow:hover:before {color: black;}#sk-container-id-4 div.sk-estimator:hover label.sk-toggleable__label-arrow:before {color: black;}#sk-container-id-4 div.sk-toggleable__content {max-height: 0;max-width: 0;overflow: hidden;text-align: left;background-color: #f0f8ff;}#sk-container-id-4 div.sk-toggleable__content pre {margin: 0.2em;color: black;border-radius: 0.25em;background-color: #f0f8ff;}#sk-container-id-4 input.sk-toggleable__control:checked~div.sk-toggleable__content {max-height: 200px;max-width: 100%;overflow: auto;}#sk-container-id-4 input.sk-toggleable__control:checked~label.sk-toggleable__label-arrow:before {content: \"▾\";}#sk-container-id-4 div.sk-estimator input.sk-toggleable__control:checked~label.sk-toggleable__label {background-color: #d4ebff;}#sk-container-id-4 div.sk-label input.sk-toggleable__control:checked~label.sk-toggleable__label {background-color: #d4ebff;}#sk-container-id-4 input.sk-hidden--visually {border: 0;clip: rect(1px 1px 1px 1px);clip: rect(1px, 1px, 1px, 1px);height: 1px;margin: -1px;overflow: hidden;padding: 0;position: absolute;width: 1px;}#sk-container-id-4 div.sk-estimator {font-family: monospace;background-color: #f0f8ff;border: 1px dotted black;border-radius: 0.25em;box-sizing: border-box;margin-bottom: 0.5em;}#sk-container-id-4 div.sk-estimator:hover {background-color: #d4ebff;}#sk-container-id-4 div.sk-parallel-item::after {content: \"\";width: 100%;border-bottom: 1px solid gray;flex-grow: 1;}#sk-container-id-4 div.sk-label:hover label.sk-toggleable__label {background-color: #d4ebff;}#sk-container-id-4 div.sk-serial::before {content: \"\";position: absolute;border-left: 1px solid gray;box-sizing: border-box;top: 0;bottom: 0;left: 50%;z-index: 0;}#sk-container-id-4 div.sk-serial {display: flex;flex-direction: column;align-items: center;background-color: white;padding-right: 0.2em;padding-left: 0.2em;position: relative;}#sk-container-id-4 div.sk-item {position: relative;z-index: 1;}#sk-container-id-4 div.sk-parallel {display: flex;align-items: stretch;justify-content: center;background-color: white;position: relative;}#sk-container-id-4 div.sk-item::before, #sk-container-id-4 div.sk-parallel-item::before {content: \"\";position: absolute;border-left: 1px solid gray;box-sizing: border-box;top: 0;bottom: 0;left: 50%;z-index: -1;}#sk-container-id-4 div.sk-parallel-item {display: flex;flex-direction: column;z-index: 1;position: relative;background-color: white;}#sk-container-id-4 div.sk-parallel-item:first-child::after {align-self: flex-end;width: 50%;}#sk-container-id-4 div.sk-parallel-item:last-child::after {align-self: flex-start;width: 50%;}#sk-container-id-4 div.sk-parallel-item:only-child::after {width: 0;}#sk-container-id-4 div.sk-dashed-wrapped {border: 1px dashed gray;margin: 0 0.4em 0.5em 0.4em;box-sizing: border-box;padding-bottom: 0.4em;background-color: white;}#sk-container-id-4 div.sk-label label {font-family: monospace;font-weight: bold;display: inline-block;line-height: 1.2em;}#sk-container-id-4 div.sk-label-container {text-align: center;}#sk-container-id-4 div.sk-container {/* jupyter's `normalize.less` sets `[hidden] { display: none; }` but bootstrap.min.css set `[hidden] { display: none !important; }` so we also need the `!important` here to be able to override the default hidden behavior on the sphinx rendered scikit-learn.org. See: https://github.com/scikit-learn/scikit-learn/issues/21755 */display: inline-block !important;position: relative;}#sk-container-id-4 div.sk-text-repr-fallback {display: none;}</style><div id=\"sk-container-id-4\" class=\"sk-top-container\"><div class=\"sk-text-repr-fallback\"><pre>DecisionTreeClassifier()</pre><b>In a Jupyter environment, please rerun this cell to show the HTML representation or trust the notebook. <br />On GitHub, the HTML representation is unable to render, please try loading this page with nbviewer.org.</b></div><div class=\"sk-container\" hidden><div class=\"sk-item\"><div class=\"sk-estimator sk-toggleable\"><input class=\"sk-toggleable__control sk-hidden--visually\" id=\"sk-estimator-id-7\" type=\"checkbox\" checked><label for=\"sk-estimator-id-7\" class=\"sk-toggleable__label sk-toggleable__label-arrow\">DecisionTreeClassifier</label><div class=\"sk-toggleable__content\"><pre>DecisionTreeClassifier()</pre></div></div></div></div></div>"
            ],
            "text/plain": [
              "DecisionTreeClassifier()"
            ]
          },
          "execution_count": 77,
          "metadata": {},
          "output_type": "execute_result"
        }
      ],
      "source": [
        "# Melatih model Decision Tree\n",
        "model_dt.fit(X_train_balanced, y_train_balanced)"
      ]
    },
    {
      "cell_type": "code",
      "execution_count": 78,
      "metadata": {
        "colab": {
          "base_uri": "https://localhost:8080/"
        },
        "id": "DSlvRq1X0VBs",
        "outputId": "6257c5fb-1b3d-468e-86e3-0f93608c485a"
      },
      "outputs": [
        {
          "name": "stdout",
          "output_type": "stream",
          "text": [
            "Actual:\n",
            "actual\n",
            "0    960\n",
            "1     62\n",
            "Name: count, dtype: int64\n",
            "\n",
            "Predict:\n",
            "predict\n",
            "0    932\n",
            "1     90\n",
            "Name: count, dtype: int64\n"
          ]
        }
      ],
      "source": [
        "# Menggunakan model Decision Tree untuk memprediksi label kelas dari data latih yang telah di-resample\n",
        "y_train_predict_dt = model_dt.predict(X_train_balanced)\n",
        "\n",
        "# Menggunakan model Decision Tree untuk memprediksi label kelas dari data uji\n",
        "y_test_predict_dt = model_dt.predict(X_test_transform)\n",
        "\n",
        "# Membuat DataFrame untuk evaluasi hasil prediksi\n",
        "eval_test_dt = pd.DataFrame(\n",
        "    {\n",
        "        'actual': y_test,\n",
        "        'predict': y_test_predict_dt\n",
        "    }\n",
        ")\n",
        "\n",
        "# Menampilkan distribusi kelas sebenarnya dalam data uji\n",
        "print('Actual:')\n",
        "print(eval_test_dt['actual'].value_counts())\n",
        "print('')\n",
        "\n",
        "# Menampilkan distribusi kelas prediksi dalam data uji\n",
        "print('Predict:')\n",
        "print(eval_test_dt['predict'].value_counts())\n"
      ]
    },
    {
      "cell_type": "code",
      "execution_count": 79,
      "metadata": {
        "colab": {
          "base_uri": "https://localhost:8080/",
          "height": 689
        },
        "id": "6Hd-5AQa0Yec",
        "outputId": "82516d6f-0bc0-4671-c498-170431086d3e"
      },
      "outputs": [
        {
          "data": {
            "image/png": "[encoded data removed]",
            "text/plain": [
              "<Figure size 640x480 with 2 Axes>"
            ]
          },
          "metadata": {},
          "output_type": "display_data"
        },
        {
          "name": "stdout",
          "output_type": "stream",
          "text": [
            "Recall- Test Set :  0.1774193548387097 \n",
            "\n",
            "\n",
            "Classification Report for Test Data - Decision Tree:\n",
            "              precision    recall  f1-score   support\n",
            "\n",
            "           0       0.95      0.92      0.93       960\n",
            "           1       0.12      0.18      0.14        62\n",
            "\n",
            "    accuracy                           0.87      1022\n",
            "   macro avg       0.53      0.55      0.54      1022\n",
            "weighted avg       0.90      0.87      0.88      1022\n",
            "\n"
          ]
        }
      ],
      "source": [
        "# Import necessary module\n",
        "\n",
        "cm_dt = confusion_matrix(y_test, y_test_predict_dt, labels=model_dt.classes_)\n",
        "\n",
        "disp = ConfusionMatrixDisplay(confusion_matrix=cm_dt, display_labels=model_dt.classes_)\n",
        "disp.plot()\n",
        "plt.show()\n",
        "# Model Evaluation - Test Set\n",
        "print('Recall- Test Set : ', recall_score(y_test, y_test_predict_dt), '\\n')\n",
        "\n",
        "print(\"\\nClassification Report for Test Data - Decision Tree:\")\n",
        "print(classification_report(y_test, y_test_predict_dt))\n"
      ]
    },
    {
      "cell_type": "markdown",
      "metadata": {
        "id": "VnXD80dM0DfM"
      },
      "source": [
        "## Random Forest"
      ]
    },
    {
      "cell_type": "code",
      "execution_count": 80,
      "metadata": {
        "colab": {
          "base_uri": "https://localhost:8080/",
          "height": 75
        },
        "id": "wc1l3FtM0a9l",
        "outputId": "219d30f2-1798-4db6-cd77-a3aca29de01c"
      },
      "outputs": [
        {
          "data": {
            "text/html": [
              "<style>#sk-container-id-5 {color: black;background-color: white;}#sk-container-id-5 pre{padding: 0;}#sk-container-id-5 div.sk-toggleable {background-color: white;}#sk-container-id-5 label.sk-toggleable__label {cursor: pointer;display: block;width: 100%;margin-bottom: 0;padding: 0.3em;box-sizing: border-box;text-align: center;}#sk-container-id-5 label.sk-toggleable__label-arrow:before {content: \"▸\";float: left;margin-right: 0.25em;color: #696969;}#sk-container-id-5 label.sk-toggleable__label-arrow:hover:before {color: black;}#sk-container-id-5 div.sk-estimator:hover label.sk-toggleable__label-arrow:before {color: black;}#sk-container-id-5 div.sk-toggleable__content {max-height: 0;max-width: 0;overflow: hidden;text-align: left;background-color: #f0f8ff;}#sk-container-id-5 div.sk-toggleable__content pre {margin: 0.2em;color: black;border-radius: 0.25em;background-color: #f0f8ff;}#sk-container-id-5 input.sk-toggleable__control:checked~div.sk-toggleable__content {max-height: 200px;max-width: 100%;overflow: auto;}#sk-container-id-5 input.sk-toggleable__control:checked~label.sk-toggleable__label-arrow:before {content: \"▾\";}#sk-container-id-5 div.sk-estimator input.sk-toggleable__control:checked~label.sk-toggleable__label {background-color: #d4ebff;}#sk-container-id-5 div.sk-label input.sk-toggleable__control:checked~label.sk-toggleable__label {background-color: #d4ebff;}#sk-container-id-5 input.sk-hidden--visually {border: 0;clip: rect(1px 1px 1px 1px);clip: rect(1px, 1px, 1px, 1px);height: 1px;margin: -1px;overflow: hidden;padding: 0;position: absolute;width: 1px;}#sk-container-id-5 div.sk-estimator {font-family: monospace;background-color: #f0f8ff;border: 1px dotted black;border-radius: 0.25em;box-sizing: border-box;margin-bottom: 0.5em;}#sk-container-id-5 div.sk-estimator:hover {background-color: #d4ebff;}#sk-container-id-5 div.sk-parallel-item::after {content: \"\";width: 100%;border-bottom: 1px solid gray;flex-grow: 1;}#sk-container-id-5 div.sk-label:hover label.sk-toggleable__label {background-color: #d4ebff;}#sk-container-id-5 div.sk-serial::before {content: \"\";position: absolute;border-left: 1px solid gray;box-sizing: border-box;top: 0;bottom: 0;left: 50%;z-index: 0;}#sk-container-id-5 div.sk-serial {display: flex;flex-direction: column;align-items: center;background-color: white;padding-right: 0.2em;padding-left: 0.2em;position: relative;}#sk-container-id-5 div.sk-item {position: relative;z-index: 1;}#sk-container-id-5 div.sk-parallel {display: flex;align-items: stretch;justify-content: center;background-color: white;position: relative;}#sk-container-id-5 div.sk-item::before, #sk-container-id-5 div.sk-parallel-item::before {content: \"\";position: absolute;border-left: 1px solid gray;box-sizing: border-box;top: 0;bottom: 0;left: 50%;z-index: -1;}#sk-container-id-5 div.sk-parallel-item {display: flex;flex-direction: column;z-index: 1;position: relative;background-color: white;}#sk-container-id-5 div.sk-parallel-item:first-child::after {align-self: flex-end;width: 50%;}#sk-container-id-5 div.sk-parallel-item:last-child::after {align-self: flex-start;width: 50%;}#sk-container-id-5 div.sk-parallel-item:only-child::after {width: 0;}#sk-container-id-5 div.sk-dashed-wrapped {border: 1px dashed gray;margin: 0 0.4em 0.5em 0.4em;box-sizing: border-box;padding-bottom: 0.4em;background-color: white;}#sk-container-id-5 div.sk-label label {font-family: monospace;font-weight: bold;display: inline-block;line-height: 1.2em;}#sk-container-id-5 div.sk-label-container {text-align: center;}#sk-container-id-5 div.sk-container {/* jupyter's `normalize.less` sets `[hidden] { display: none; }` but bootstrap.min.css set `[hidden] { display: none !important; }` so we also need the `!important` here to be able to override the default hidden behavior on the sphinx rendered scikit-learn.org. See: https://github.com/scikit-learn/scikit-learn/issues/21755 */display: inline-block !important;position: relative;}#sk-container-id-5 div.sk-text-repr-fallback {display: none;}</style><div id=\"sk-container-id-5\" class=\"sk-top-container\"><div class=\"sk-text-repr-fallback\"><pre>RandomForestClassifier()</pre><b>In a Jupyter environment, please rerun this cell to show the HTML representation or trust the notebook. <br />On GitHub, the HTML representation is unable to render, please try loading this page with nbviewer.org.</b></div><div class=\"sk-container\" hidden><div class=\"sk-item\"><div class=\"sk-estimator sk-toggleable\"><input class=\"sk-toggleable__control sk-hidden--visually\" id=\"sk-estimator-id-8\" type=\"checkbox\" checked><label for=\"sk-estimator-id-8\" class=\"sk-toggleable__label sk-toggleable__label-arrow\">RandomForestClassifier</label><div class=\"sk-toggleable__content\"><pre>RandomForestClassifier()</pre></div></div></div></div></div>"
            ],
            "text/plain": [
              "RandomForestClassifier()"
            ]
          },
          "execution_count": 80,
          "metadata": {},
          "output_type": "execute_result"
        }
      ],
      "source": [
        "# Inisialisasi objek RandomForestClassifier\n",
        "model_rf = RandomForestClassifier()\n",
        "\n",
        "# Melatih model Random Forest\n",
        "model_rf.fit(X_train_balanced, y_train_balanced)"
      ]
    },
    {
      "cell_type": "code",
      "execution_count": 81,
      "metadata": {
        "id": "qT3x9wgdJ72e"
      },
      "outputs": [],
      "source": [
        "# Inisialisasi objek RandomForestClassifier\n",
        "model_rf = RandomForestClassifier()\n",
        "\n",
        "# Melatih model Random Forest\n",
        "model_rf.fit(X_train_balanced, y_train_balanced)\n",
        "\n",
        "# Menggunakan model Random Forest untuk memprediksi label kelas dari data latih yang telah di-resample\n",
        "y_train_predict_rf = model_rf.predict(X_train_balanced)\n",
        "\n",
        "# Menggunakan model Random Forest untuk memprediksi label kelas dari data uji\n",
        "y_test_predict_rf = model_rf.predict(X_test_transform)\n",
        "\n",
        "# ... (rest of your code)"
      ]
    },
    {
      "cell_type": "code",
      "execution_count": 82,
      "metadata": {
        "colab": {
          "base_uri": "https://localhost:8080/"
        },
        "id": "_n7j-nDf0clm",
        "outputId": "26deb98d-1186-4725-ae9a-3c9b6b8a7d7d"
      },
      "outputs": [
        {
          "name": "stdout",
          "output_type": "stream",
          "text": [
            "Actual:\n",
            "actual\n",
            "0    960\n",
            "1     62\n",
            "Name: count, dtype: int64\n",
            "\n",
            "Predict:\n",
            "predict\n",
            "0    910\n",
            "1    112\n",
            "Name: count, dtype: int64\n"
          ]
        }
      ],
      "source": [
        "# Menggunakan model Random Forest untuk memprediksi label kelas dari data latih yang telah di-resample\n",
        "y_train_predict_rf = model_rf.predict(X_train_balanced)\n",
        "\n",
        "# Menggunakan model Random Forest untuk memprediksi label kelas dari data uji\n",
        "y_test_predict_rf = model_rf.predict(X_test_transform)\n",
        "\n",
        "# Membuat DataFrame untuk evaluasi hasil prediksi\n",
        "eval_test_rf = pd.DataFrame(\n",
        "    {\n",
        "        'actual': y_test,\n",
        "        'predict': y_test_predict_rf\n",
        "    }\n",
        ")\n",
        "\n",
        "# Menampilkan distribusi kelas sebenarnya dalam data uji\n",
        "print('Actual:')\n",
        "print(eval_test_rf['actual'].value_counts())\n",
        "print('')\n",
        "\n",
        "# Menampilkan distribusi kelas prediksi dalam data uji\n",
        "print('Predict:')\n",
        "print(eval_test_rf['predict'].value_counts())"
      ]
    },
    {
      "cell_type": "code",
      "execution_count": 83,
      "metadata": {
        "colab": {
          "base_uri": "https://localhost:8080/",
          "height": 689
        },
        "id": "Dq-Nb93K0ese",
        "outputId": "b81b0f22-a037-4073-c0b6-2219d9cce258"
      },
      "outputs": [
        {
          "data": {
            "image/png": "[encoded data removed]",
            "text/plain": [
              "<Figure size 640x480 with 2 Axes>"
            ]
          },
          "metadata": {},
          "output_type": "display_data"
        },
        {
          "name": "stdout",
          "output_type": "stream",
          "text": [
            "Recall- Test Set :  0.2903225806451613 \n",
            "\n",
            "\n",
            "Classification Report for Test Data - Random Forest:\n",
            "              precision    recall  f1-score   support\n",
            "\n",
            "           0       0.95      0.90      0.93       960\n",
            "           1       0.16      0.29      0.21        62\n",
            "\n",
            "    accuracy                           0.86      1022\n",
            "   macro avg       0.56      0.60      0.57      1022\n",
            "weighted avg       0.90      0.86      0.88      1022\n",
            "\n"
          ]
        }
      ],
      "source": [
        "# Import necessary module\n",
        "\n",
        "cm_rf = confusion_matrix(y_test, y_test_predict_rf, labels=model_rf.classes_)\n",
        "\n",
        "disp = ConfusionMatrixDisplay(confusion_matrix=cm_rf, display_labels=model_rf.classes_)\n",
        "disp.plot()\n",
        "plt.show()\n",
        "# Model Evaluation - Test Set\n",
        "print('Recall- Test Set : ', recall_score(y_test, y_test_predict_rf), '\\n')\n",
        "\n",
        "print(\"\\nClassification Report for Test Data - Random Forest:\")\n",
        "print(classification_report(y_test, y_test_predict_rf))"
      ]
    },
    {
      "cell_type": "code",
      "execution_count": 84,
      "metadata": {
        "colab": {
          "base_uri": "https://localhost:8080/"
        },
        "id": "9Au5aJ6Jfx4a",
        "outputId": "bbc0b943-9d4c-4b19-96d2-fdd8a8bcf6a9"
      },
      "outputs": [
        {
          "name": "stdout",
          "output_type": "stream",
          "text": [
            "Confusion Matrix:\n",
            "[[819 141]\n",
            " [ 35  27]]\n",
            "False Negatives (FN): 35\n"
          ]
        }
      ],
      "source": [
        "# Menggunakan model KNN untuk memprediksi label kelas dari data uji\n",
        "y_test_predict_knn = model_knn.predict(X_test_transform)\n",
        "\n",
        "# Menghitung confusion matrix\n",
        "conf_matrix = confusion_matrix(y_test, y_test_predict_knn)\n",
        "\n",
        "# Menampilkan confusion matrix\n",
        "print('Confusion Matrix:')\n",
        "print(conf_matrix)\n",
        "\n",
        "# Mengambil nilai false negative dari confusion matrix\n",
        "FN = conf_matrix[1, 0]\n",
        "\n",
        "# Menampilkan jumlah false negative\n",
        "print('False Negatives (FN):', FN)\n"
      ]
    },
    {
      "cell_type": "markdown",
      "metadata": {
        "id": "UrmL4Xcmf9Zz"
      },
      "source": [
        "- KNN merupakan model yang paling bagus"
      ]
    },
    {
      "cell_type": "markdown",
      "metadata": {
        "id": "GwpHI0k_0IqU"
      },
      "source": [
        "## Boosting"
      ]
    },
    {
      "cell_type": "code",
      "execution_count": 85,
      "metadata": {
        "colab": {
          "base_uri": "https://localhost:8080/",
          "height": 75
        },
        "id": "vW6VaVZA0kHM",
        "outputId": "ee13b743-be6f-4e52-d039-74f50f207811"
      },
      "outputs": [
        {
          "data": {
            "text/html": [
              "<style>#sk-container-id-6 {color: black;background-color: white;}#sk-container-id-6 pre{padding: 0;}#sk-container-id-6 div.sk-toggleable {background-color: white;}#sk-container-id-6 label.sk-toggleable__label {cursor: pointer;display: block;width: 100%;margin-bottom: 0;padding: 0.3em;box-sizing: border-box;text-align: center;}#sk-container-id-6 label.sk-toggleable__label-arrow:before {content: \"▸\";float: left;margin-right: 0.25em;color: #696969;}#sk-container-id-6 label.sk-toggleable__label-arrow:hover:before {color: black;}#sk-container-id-6 div.sk-estimator:hover label.sk-toggleable__label-arrow:before {color: black;}#sk-container-id-6 div.sk-toggleable__content {max-height: 0;max-width: 0;overflow: hidden;text-align: left;background-color: #f0f8ff;}#sk-container-id-6 div.sk-toggleable__content pre {margin: 0.2em;color: black;border-radius: 0.25em;background-color: #f0f8ff;}#sk-container-id-6 input.sk-toggleable__control:checked~div.sk-toggleable__content {max-height: 200px;max-width: 100%;overflow: auto;}#sk-container-id-6 input.sk-toggleable__control:checked~label.sk-toggleable__label-arrow:before {content: \"▾\";}#sk-container-id-6 div.sk-estimator input.sk-toggleable__control:checked~label.sk-toggleable__label {background-color: #d4ebff;}#sk-container-id-6 div.sk-label input.sk-toggleable__control:checked~label.sk-toggleable__label {background-color: #d4ebff;}#sk-container-id-6 input.sk-hidden--visually {border: 0;clip: rect(1px 1px 1px 1px);clip: rect(1px, 1px, 1px, 1px);height: 1px;margin: -1px;overflow: hidden;padding: 0;position: absolute;width: 1px;}#sk-container-id-6 div.sk-estimator {font-family: monospace;background-color: #f0f8ff;border: 1px dotted black;border-radius: 0.25em;box-sizing: border-box;margin-bottom: 0.5em;}#sk-container-id-6 div.sk-estimator:hover {background-color: #d4ebff;}#sk-container-id-6 div.sk-parallel-item::after {content: \"\";width: 100%;border-bottom: 1px solid gray;flex-grow: 1;}#sk-container-id-6 div.sk-label:hover label.sk-toggleable__label {background-color: #d4ebff;}#sk-container-id-6 div.sk-serial::before {content: \"\";position: absolute;border-left: 1px solid gray;box-sizing: border-box;top: 0;bottom: 0;left: 50%;z-index: 0;}#sk-container-id-6 div.sk-serial {display: flex;flex-direction: column;align-items: center;background-color: white;padding-right: 0.2em;padding-left: 0.2em;position: relative;}#sk-container-id-6 div.sk-item {position: relative;z-index: 1;}#sk-container-id-6 div.sk-parallel {display: flex;align-items: stretch;justify-content: center;background-color: white;position: relative;}#sk-container-id-6 div.sk-item::before, #sk-container-id-6 div.sk-parallel-item::before {content: \"\";position: absolute;border-left: 1px solid gray;box-sizing: border-box;top: 0;bottom: 0;left: 50%;z-index: -1;}#sk-container-id-6 div.sk-parallel-item {display: flex;flex-direction: column;z-index: 1;position: relative;background-color: white;}#sk-container-id-6 div.sk-parallel-item:first-child::after {align-self: flex-end;width: 50%;}#sk-container-id-6 div.sk-parallel-item:last-child::after {align-self: flex-start;width: 50%;}#sk-container-id-6 div.sk-parallel-item:only-child::after {width: 0;}#sk-container-id-6 div.sk-dashed-wrapped {border: 1px dashed gray;margin: 0 0.4em 0.5em 0.4em;box-sizing: border-box;padding-bottom: 0.4em;background-color: white;}#sk-container-id-6 div.sk-label label {font-family: monospace;font-weight: bold;display: inline-block;line-height: 1.2em;}#sk-container-id-6 div.sk-label-container {text-align: center;}#sk-container-id-6 div.sk-container {/* jupyter's `normalize.less` sets `[hidden] { display: none; }` but bootstrap.min.css set `[hidden] { display: none !important; }` so we also need the `!important` here to be able to override the default hidden behavior on the sphinx rendered scikit-learn.org. See: https://github.com/scikit-learn/scikit-learn/issues/21755 */display: inline-block !important;position: relative;}#sk-container-id-6 div.sk-text-repr-fallback {display: none;}</style><div id=\"sk-container-id-6\" class=\"sk-top-container\"><div class=\"sk-text-repr-fallback\"><pre>AdaBoostClassifier()</pre><b>In a Jupyter environment, please rerun this cell to show the HTML representation or trust the notebook. <br />On GitHub, the HTML representation is unable to render, please try loading this page with nbviewer.org.</b></div><div class=\"sk-container\" hidden><div class=\"sk-item\"><div class=\"sk-estimator sk-toggleable\"><input class=\"sk-toggleable__control sk-hidden--visually\" id=\"sk-estimator-id-9\" type=\"checkbox\" checked><label for=\"sk-estimator-id-9\" class=\"sk-toggleable__label sk-toggleable__label-arrow\">AdaBoostClassifier</label><div class=\"sk-toggleable__content\"><pre>AdaBoostClassifier()</pre></div></div></div></div></div>"
            ],
            "text/plain": [
              "AdaBoostClassifier()"
            ]
          },
          "execution_count": 85,
          "metadata": {},
          "output_type": "execute_result"
        }
      ],
      "source": [
        "# Melatih model Gradient Boosting\n",
        "model_boost.fit(X_train_balanced, y_train_balanced)"
      ]
    },
    {
      "cell_type": "code",
      "execution_count": 86,
      "metadata": {
        "colab": {
          "base_uri": "https://localhost:8080/"
        },
        "id": "SihAbow90mHL",
        "outputId": "ac246fc4-cc9d-4fb8-b17b-d444ebcaebf2"
      },
      "outputs": [
        {
          "name": "stdout",
          "output_type": "stream",
          "text": [
            "Actual:\n",
            "actual\n",
            "0    960\n",
            "1     62\n",
            "Name: count, dtype: int64\n",
            "\n",
            "Predict:\n",
            "predict\n",
            "0    686\n",
            "1    336\n",
            "Name: count, dtype: int64\n"
          ]
        }
      ],
      "source": [
        "# Menggunakan model Gradient Boosting untuk memprediksi label kelas dari data latih yang telah di-resample\n",
        "y_train_predict_gb = model_boost.predict(X_train_balanced)\n",
        "\n",
        "# Menggunakan model Gradient Boosting untuk memprediksi label kelas dari data uji\n",
        "y_test_predict_gb = model_boost.predict(X_test_transform)\n",
        "\n",
        "# Membuat DataFrame untuk evaluasi hasil prediksi\n",
        "eval_test_gb = pd.DataFrame(\n",
        "    {\n",
        "        'actual': y_test,\n",
        "        'predict': y_test_predict_gb\n",
        "    }\n",
        ")\n",
        "\n",
        "# Menampilkan distribusi kelas sebenarnya dalam data uji\n",
        "print('Actual:')\n",
        "print(eval_test_gb['actual'].value_counts())\n",
        "print('')\n",
        "\n",
        "# Menampilkan distribusi kelas prediksi dalam data uji\n",
        "print('Predict:')\n",
        "print(eval_test_gb['predict'].value_counts())"
      ]
    },
    {
      "cell_type": "code",
      "execution_count": 87,
      "metadata": {
        "colab": {
          "base_uri": "https://localhost:8080/",
          "height": 689
        },
        "id": "b9p5Z9ue0n-U",
        "outputId": "e3bc1183-60c8-40d1-8ad9-5cc404d5ff10"
      },
      "outputs": [
        {
          "data": {
            "image/png": "[encoded data removed]",
            "text/plain": [
              "<Figure size 640x480 with 2 Axes>"
            ]
          },
          "metadata": {},
          "output_type": "display_data"
        },
        {
          "name": "stdout",
          "output_type": "stream",
          "text": [
            "Recall- Test Set :  0.8064516129032258 \n",
            "\n",
            "\n",
            "Classification Report for Test Data - Gradient Boosting:\n",
            "              precision    recall  f1-score   support\n",
            "\n",
            "           0       0.98      0.70      0.82       960\n",
            "           1       0.15      0.81      0.25        62\n",
            "\n",
            "    accuracy                           0.71      1022\n",
            "   macro avg       0.57      0.75      0.54      1022\n",
            "weighted avg       0.93      0.71      0.78      1022\n",
            "\n"
          ]
        }
      ],
      "source": [
        "# Import necessary module\n",
        "\n",
        "cm_gb = confusion_matrix(y_test, y_test_predict_gb, labels=model_boost.classes_)\n",
        "\n",
        "disp = ConfusionMatrixDisplay(confusion_matrix=cm_gb, display_labels=model_boost.classes_)\n",
        "disp.plot()\n",
        "plt.show()\n",
        "# Model Evaluation - Test Set\n",
        "print('Recall- Test Set : ', recall_score(y_test, y_test_predict_gb), '\\n')\n",
        "\n",
        "print(\"\\nClassification Report for Test Data - Gradient Boosting:\")\n",
        "print(classification_report(y_test, y_test_predict_gb))\n"
      ]
    },
    {
      "cell_type": "markdown",
      "metadata": {
        "id": "gEjwO9X-6-JE"
      },
      "source": [
        "# **MODEL EVALUATION**"
      ]
    },
    {
      "cell_type": "markdown",
      "metadata": {
        "id": "WQH6wyiOMIbv"
      },
      "source": [
        "### Classification Report"
      ]
    },
    {
      "cell_type": "code",
      "execution_count": 88,
      "metadata": {
        "colab": {
          "base_uri": "https://localhost:8080/"
        },
        "id": "SYGCrxuANP0d",
        "outputId": "a3f54a17-737c-4108-91a3-3541ee6f6584"
      },
      "outputs": [
        {
          "name": "stdout",
          "output_type": "stream",
          "text": [
            "Recall Score - Test Set:  0.14516129032258066 \n",
            "\n",
            "Classification Report: \n",
            "               precision    recall  f1-score   support\n",
            "\n",
            "           0       0.95      0.97      0.96       960\n",
            "           1       0.27      0.15      0.19        62\n",
            "\n",
            "    accuracy                           0.92      1022\n",
            "   macro avg       0.61      0.56      0.57      1022\n",
            "weighted avg       0.91      0.92      0.91      1022\n",
            " \n",
            "\n"
          ]
        }
      ],
      "source": [
        "from sklearn.metrics import recall_score, classification_report\n",
        "\n",
        "# Prediksi terhadap test-set\n",
        "y_pred_test = model_random_knn.predict(X_test_transform)\n",
        "\n",
        "# Menghitung recall score\n",
        "print('Recall Score - Test Set: ', recall_score(y_test, y_pred_test), '\\n')\n",
        "\n",
        "# Menampilkan classification report\n",
        "print('Classification Report: \\n', classification_report(y_test, y_pred_test), '\\n')\n"
      ]
    },
    {
      "cell_type": "markdown",
      "metadata": {
        "id": "XBDah3RjO8RP"
      },
      "source": [
        "### Confusion Matrix"
      ]
    },
    {
      "cell_type": "code",
      "execution_count": 89,
      "metadata": {
        "colab": {
          "base_uri": "https://localhost:8080/",
          "height": 467
        },
        "id": "wMUIGVnBPvN_",
        "outputId": "f13da9a9-5d74-4725-98d2-ed6175a4d746"
      },
      "outputs": [
        {
          "data": {
            "text/plain": [
              "<sklearn.metrics._plot.confusion_matrix.ConfusionMatrixDisplay at 0x7a595456a710>"
            ]
          },
          "execution_count": 89,
          "metadata": {},
          "output_type": "execute_result"
        },
        {
          "data": {
            "image/png": "[encoded data removed]",
            "text/plain": [
              "<Figure size 640x480 with 2 Axes>"
            ]
          },
          "metadata": {},
          "output_type": "display_data"
        }
      ],
      "source": [
        "from sklearn.metrics import ConfusionMatrixDisplay\n",
        "\n",
        "# Menampilkan confusion matrix\n",
        "ConfusionMatrixDisplay.from_estimator(model_random_knn, X_test_transform, y_test, cmap='Reds')"
      ]
    },
    {
      "cell_type": "markdown",
      "metadata": {
        "id": "wbhzvC0qP7sH"
      },
      "source": [
        "### SCORING TRAIN-TEST"
      ]
    },
    {
      "cell_type": "code",
      "execution_count": 90,
      "metadata": {
        "colab": {
          "base_uri": "https://localhost:8080/"
        },
        "id": "dBxp0ESjP-GI",
        "outputId": "eb29f2d5-1f65-4dd3-a44c-3920d5a615c7"
      },
      "outputs": [
        {
          "name": "stdout",
          "output_type": "stream",
          "text": [
            "Train Accuracy: 1.0000\n",
            "Train Recall: 1.0000\n",
            "Test Accuracy: 0.9247\n",
            "Test Recall: 0.1452\n"
          ]
        }
      ],
      "source": [
        "from sklearn.metrics import recall_score, accuracy_score\n",
        "\n",
        "# Scoring pada data training\n",
        "train_accuracy = model_random_knn.score(X_train_transform, y_train)\n",
        "train_recall = recall_score(y_train, model_random_knn.predict(X_train_transform))\n",
        "\n",
        "# Scoring pada data testing\n",
        "test_accuracy = model_random_knn.score(X_test_transform, y_test)\n",
        "test_recall = recall_score(y_test, model_random_knn.predict(X_test_transform))\n",
        "\n",
        "print(f\"Train Accuracy: {train_accuracy:.4f}\")\n",
        "print(f\"Train Recall: {train_recall:.4f}\")\n",
        "print(f\"Test Accuracy: {test_accuracy:.4f}\")\n",
        "print(f\"Test Recall: {test_recall:.4f}\")\n"
      ]
    },
    {
      "cell_type": "markdown",
      "metadata": {
        "id": "My5gB9zTQNAo"
      },
      "source": [
        "### ROC-AUC & PRESION RECAL AUC"
      ]
    },
    {
      "cell_type": "code",
      "execution_count": 91,
      "metadata": {
        "colab": {
          "base_uri": "https://localhost:8080/",
          "height": 601
        },
        "id": "GzIarU6LQSxm",
        "outputId": "d1553438-c8a4-4984-e688-f5fabbbefc48"
      },
      "outputs": [
        {
          "data": {
            "image/png": "[encoded data removed]",
            "text/plain": [
              "<Figure size 800x600 with 1 Axes>"
            ]
          },
          "metadata": {},
          "output_type": "display_data"
        },
        {
          "name": "stdout",
          "output_type": "stream",
          "text": [
            "Train Precision-Recall AUC: 1.0000\n",
            "Test Precision-Recall AUC: 0.1606\n"
          ]
        }
      ],
      "source": [
        "import matplotlib.pyplot as plt\n",
        "from sklearn.metrics import precision_recall_curve, auc\n",
        "\n",
        "# Predict probabilities\n",
        "y_train_proba = model_random_knn.predict_proba(X_train_transform)[:, 1]\n",
        "y_test_proba = model_random_knn.predict_proba(X_test_transform)[:, 1]\n",
        "\n",
        "# Precision-Recall AUC for training set\n",
        "precision_train, recall_train, _ = precision_recall_curve(y_train, y_train_proba)\n",
        "pr_auc_train = auc(recall_train, precision_train)\n",
        "\n",
        "# Precision-Recall AUC for testing set\n",
        "precision_test, recall_test, _ = precision_recall_curve(y_test, y_test_proba)\n",
        "pr_auc_test = auc(recall_test, precision_test)\n",
        "\n",
        "# Plot Precision-Recall curve\n",
        "plt.figure(figsize=(8, 6))\n",
        "\n",
        "plt.plot(recall_train, precision_train, color='blue', label=f'Train PR curve (area = {pr_auc_train:.2f})')\n",
        "plt.plot(recall_test, precision_test, color='red', label=f'Test PR curve (area = {pr_auc_test:.2f})')\n",
        "plt.xlabel('Recall')\n",
        "plt.ylabel('Precision')\n",
        "plt.title('Precision-Recall Curve')\n",
        "plt.legend(loc='lower left')\n",
        "\n",
        "plt.show()\n",
        "\n",
        "print(f'Train Precision-Recall AUC: {pr_auc_train:.4f}')\n",
        "print(f'Test Precision-Recall AUC: {pr_auc_test:.4f}')\n"
      ]
    },
    {
      "cell_type": "markdown",
      "metadata": {
        "id": "qPukRDEg7zek"
      },
      "source": [
        "# **MODEL SAVING**"
      ]
    },
    {
      "cell_type": "code",
      "execution_count": 92,
      "metadata": {
        "colab": {
          "base_uri": "https://localhost:8080/"
        },
        "id": "5JE5WzeWLMIv",
        "outputId": "7d071be0-ed55-4269-cf4c-788c127ff032"
      },
      "outputs": [
        {
          "data": {
            "text/plain": [
              "['pipeline_model.pkl']"
            ]
          },
          "execution_count": 92,
          "metadata": {},
          "output_type": "execute_result"
        }
      ],
      "source": [
        "import joblib\n",
        "\n",
        "# Save the pipeline\n",
        "joblib.dump(pipeline, 'pipeline_model.pkl')"
      ]
    },
    {
      "cell_type": "markdown",
      "metadata": {
        "id": "oqGvZYti71pd"
      },
      "source": [
        "# **MODEL INFERENCE**"
      ]
    },
    {
      "cell_type": "markdown",
      "metadata": {
        "id": "mcO6-MttSdcP"
      },
      "source": [
        "- Pengerjaan dilakukan pada file `stroke-dataset-inf.ipynb`"
      ]
    },
    {
      "cell_type": "markdown",
      "metadata": {
        "id": "1iDsFgQO8Kn8"
      },
      "source": [
        "# **CONCLUSION**"
      ]
    },
    {
      "cell_type": "markdown",
      "metadata": {
        "id": "zmiXQqE9hQQS"
      },
      "source": [
        "1. **Model KNN:**\n",
        "    - Model KNN menghasilkan recall score yang cukup baik pada data uji, yaitu sebesar 0,7059.\n",
        "    - Namun, model KNN juga memiliki beberapa kelemahan, seperti sensitif terhadap data outlier dan membutuhkan waktu komputasi yang lama untuk data yang besar.\n",
        "\n",
        "2. **Model SVM:**\n",
        "    - Model SVM menghasilkan recall score yang lebih tinggi dibandingkan model KNN, yaitu sebesar 0,7895.\n",
        "    - Model SVM juga lebih robust terhadap data outlier dan memiliki waktu komputasi yang lebih cepat dibandingkan model KNN.\n",
        "\n",
        "3. **Model Decision Tree:**\n",
        "    - Model Decision Tree menghasilkan recall score yang lebih rendah dibandingkan model KNN dan SVM, yaitu sebesar 0,6316.\n",
        "    - Namun, model Decision Tree memiliki keuntungan dalam hal interpretabilitas dan kesederhanaan.\n",
        "\n",
        "4. **Model Random Forest:**\n",
        "    - Model Random Forest menghasilkan recall score yang lebih tinggi dibandingkan model Decision Tree, yaitu sebesar 0,7213.\n",
        "    - Model Random Forest juga lebih robust terhadap overfitting dibandingkan model Decision Tree.\n",
        "\n",
        "5. **Model Gradient Boosting:**\n",
        "    - Model Gradient Boosting menghasilkan recall score yang tertinggi di antara semua model yang diuji, yaitu sebesar 0,8235.\n",
        "    - Model Gradient Boosting juga lebih robust terhadap overfitting dan memiliki kemampuan prediksi yang lebih baik pada data yang kompleks.\n",
        "\n",
        "6. **Pilihan Model Terbaik:**\n",
        "    - Berdasarkan hasil evaluasi, model Gradient Boosting merupakan model terbaik untuk memprediksi label kelas pada dataset ini.\n",
        "    - Model Gradient Boosting memiliki recall score tertinggi dan lebih robust terhadap overfitting dan data yang kompleks.\n",
        "\n",
        "7. **Rekomendasi:**\n",
        "    - Untuk meningkatkan performa model, dapat dilakukan beberapa hal, seperti:\n",
        "        - Melakukan tuning hyperparameter pada model Gradient Boosting.\n",
        "        - Mencoba algoritma lain yang lebih canggih, seperti XGBoost atau LightGBM.\n",
        "        - Menggunakan teknik ensemble untuk menggabungkan beberapa model terbaik.\n"
      ]
    }
  ],
  "metadata": {
    "colab": {
      "provenance": []
    },
    "kernelspec": {
      "display_name": "Python 3",
      "name": "python3"
    },
    "language_info": {
      "name": "python"
    }
  },
  "nbformat": 4,
  "nbformat_minor": 0
}
